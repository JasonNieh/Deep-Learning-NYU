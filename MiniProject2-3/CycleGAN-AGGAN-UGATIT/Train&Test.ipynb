{
 "cells": [
  {
   "cell_type": "markdown",
   "metadata": {},
   "source": [
    "The trained models could be found in the following google drive link:<br>\n",
    "https://drive.google.com/drive/folders/1jyIesJGq8EKjvCk545QuVFPRqmxEWvjL?usp=sharing"
   ]
  },
  {
   "cell_type": "markdown",
   "metadata": {},
   "source": [
    "## Cycle GAN\n",
    "Change the --dataroot to your own dataset path <br>"
   ]
  },
  {
   "cell_type": "code",
   "execution_count": null,
   "metadata": {},
   "outputs": [],
   "source": [
    "# Kaggle\n",
    "# Train\n",
    "!python train.py --dataroot ./dataset/dog2cat_kaggle --name dog2cat_kaggle_lambda5 --model cycle_gan --use_wandb --lambda_A 5 --lambda_B 5\n",
    "# Test\n",
    "!python test.py --dataroot ./dataset/dog2cat_kaggle --name dog2cat_kaggle_lambda5 --model cycle_gan --no_dropout --use_wandb"
   ]
  },
  {
   "cell_type": "code",
   "execution_count": null,
   "metadata": {},
   "outputs": [],
   "source": [
    "# AFHQ\n",
    "# Train\n",
    "!python train.py --dataroot ./dataset/dog2cat_afhq --name dog2cat_afhq_lambda5 --model cycle_gan --use_wandb --lambda_A 5 --lambda_B 5\n",
    "# Test\n",
    "!python test.py --dataroot ./dataset/dog2cat_afhq --name dog2cat_afhq_lambda5 --model cycle_gan --no_dropout --use_wandb"
   ]
  },
  {
   "cell_type": "markdown",
   "metadata": {},
   "source": [
    "## AGGAN\n",
    "Change the --dataroot to your own dataset path"
   ]
  },
  {
   "cell_type": "code",
   "execution_count": null,
   "metadata": {},
   "outputs": [],
   "source": [
    "# Kaggle\n",
    "# Train\n",
    "!python train.py --dataroot ./dataset/dog2cat_kaggle/ --name dog2cat_attentiongan_kaggle --model attention_gan --dataset_mode unaligned --pool_size 50 --no_dropout --norm instance --lambda_A 5 --lambda_B 5 --load_size 286 --crop_size 256 --batch_size 4 --niter 100 --niter_decay 100 --gpu_ids 0 --display_id 0 --display_freq 100 --print_freq 100 --use_wandb\n",
    "# Test\n",
    "!python test.py --dataroot ./dataset/dog2cat_kaggle/ --name dog2cat_attentiongan_kaggle --model attention_gan --dataset_mode unaligned --no_dropout --norm instance --phase test --load_size 256 --crop_size 256 --batch_size 1 --gpu_ids 0 --epoch latest --num_test 500 --use_wandb"
   ]
  },
  {
   "cell_type": "code",
   "execution_count": null,
   "metadata": {},
   "outputs": [],
   "source": [
    "# AFHQ\n",
    "# Train\n",
    "!python train.py --dataroot ./dataset/dog2cat_afhq/ --name dog2cat_attentiongan_afhq --model attention_gan --dataset_mode unaligned --pool_size 50 --no_dropout --norm instance --lambda_A 5 --lambda_B 5 --load_size 286 --crop_size 256 --batch_size 4 --niter 100 --niter_decay 100 --gpu_ids 0 --display_id 0 --display_freq 100 --print_freq 100 --use_wandb\n",
    "# Test\n",
    "!python test.py --dataroot ./dataset/dog2cat_afhq/ --name dog2cat_attentiongan_afhq --model attention_gan --dataset_mode unaligned --no_dropout --norm instance --phase test --load_size 256 --crop_size 256 --batch_size 1 --gpu_ids 0 --epoch latest --num_test 500 --use_wandb"
   ]
  },
  {
   "cell_type": "markdown",
   "metadata": {},
   "source": [
    "## UGATIT\n",
    "Change the --dataset to your own dataset path"
   ]
  },
  {
   "cell_type": "code",
   "execution_count": null,
   "metadata": {},
   "outputs": [],
   "source": [
    "# Kaggle\n",
    "# Train\n",
    "!python main.py --dataset ./dataset/dog2cat_kaggle --model_name dog2cat_kaggle --result_dir ./result/dog2cat_kaggle --iteration 100000 --save_freq 5000\n",
    "# Test\n",
    "!python main.py --dataset ./dataset/dog2cat_kaggle --model_name dog2cat_kaggle --result_dir ./result/dog2cat_kaggle  --phase test"
   ]
  },
  {
   "cell_type": "code",
   "execution_count": null,
   "metadata": {},
   "outputs": [],
   "source": [
    "# AFHQ\n",
    "# Train\n",
    "!python main.py --dataset ./dataset/dog2cat_afhq --model_name dog2cat_afhq --result_dir ./result/dog2cat_afhq --iteration 100000 --save_freq 5000\n",
    "# Test\n",
    "!python main.py --dataset ./dataset/dog2cat_afhq --model_name dog2cat_afhq --result_dir ./result/dog2cat_afhq  --phase test"
   ]
  }
 ],
 "metadata": {
  "kernelspec": {
   "display_name": "Python 3",
   "language": "python",
   "name": "python3"
  },
  "language_info": {
   "codemirror_mode": {
    "name": "ipython",
    "version": 3
   },
   "file_extension": ".py",
   "mimetype": "text/x-python",
   "name": "python",
   "nbconvert_exporter": "python",
   "pygments_lexer": "ipython3",
   "version": "3.6.5"
  }
 },
 "nbformat": 4,
 "nbformat_minor": 4
}
