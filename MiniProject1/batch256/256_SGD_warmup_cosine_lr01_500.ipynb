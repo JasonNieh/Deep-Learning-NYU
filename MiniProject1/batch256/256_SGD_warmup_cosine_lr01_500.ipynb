{
 "cells": [
  {
   "cell_type": "code",
   "execution_count": 1,
   "metadata": {},
   "outputs": [],
   "source": [
    "import os\n",
    "import time\n",
    "import torch\n",
    "import math\n",
    "import torchvision\n",
    "from torchvision import transforms as transforms\n",
    "from torch import nn\n",
    "from torch.nn import functional as F\n",
    "from math import cos,pi\n",
    "\n",
    "import matplotlib.pyplot as plt\n",
    "import numpy as np\n",
    "import random\n",
    "\n",
    "torch.cuda.empty_cache()"
   ]
  },
  {
   "cell_type": "code",
   "execution_count": 2,
   "metadata": {},
   "outputs": [
    {
     "data": {
      "text/plain": [
       "True"
      ]
     },
     "execution_count": 2,
     "metadata": {},
     "output_type": "execute_result"
    }
   ],
   "source": [
    "torch.cuda.is_available()"
   ]
  },
  {
   "cell_type": "code",
   "execution_count": 3,
   "metadata": {},
   "outputs": [
    {
     "name": "stdout",
     "output_type": "stream",
     "text": [
      "Files already downloaded and verified\n"
     ]
    }
   ],
   "source": [
    "torch.manual_seed(17)\n",
    "torch.cuda.manual_seed_all(17)\n",
    "\n",
    "aug_train = transforms.Compose([\n",
    "    transforms.RandomCrop(32,padding=4,padding_mode='reflect'),\n",
    "    transforms.RandomHorizontalFlip(), # 水平翻转\n",
    "    transforms.ToTensor(),\n",
    "    transforms.Normalize((0.4244, 0.4146, 0.3836), (0.2539, 0.2491, 0.2420)) # normalization\n",
    "    ])\n",
    "\n",
    "aug_test = transforms.Compose([\n",
    "    transforms.ToTensor(),\n",
    "    transforms.Normalize((0.4244, 0.4146, 0.3836), (0.2539, 0.2491, 0.2420)) # normalization\n",
    "    ])\n",
    "\n",
    "trainingdata = torchvision.datasets.CIFAR10('./CIFAR10',train=True,download=True,transform=aug_train)\n",
    "# testdata = torchvision.datasets.CIFAR10('./CIFAR10',train=False,download=True,transform=transforms.ToTensor())\n",
    "# print(len(trainingdata),len(testdata))"
   ]
  },
  {
   "cell_type": "code",
   "execution_count": 4,
   "metadata": {},
   "outputs": [
    {
     "name": "stdout",
     "output_type": "stream",
     "text": [
      "Files already downloaded and verified\n",
      "Files already downloaded and verified\n"
     ]
    }
   ],
   "source": [
    "def load_data(is_train,aug,batch_size):\n",
    "    dataset = torchvision.datasets.CIFAR10('./CIFAR10',train=is_train,download=True,transform=aug)\n",
    "    dataloader = torch.utils.data.DataLoader(dataset,batch_size=batch_size,shuffle=is_train)\n",
    "    return dataloader\n",
    "\n",
    "batch_size = 256 # param\n",
    "trainDataLoader = load_data(is_train=True,aug=aug_train,batch_size=batch_size)\n",
    "testDataLoader = load_data(is_train=False,aug=aug_test,batch_size=batch_size)"
   ]
  },
  {
   "cell_type": "code",
   "execution_count": 5,
   "metadata": {},
   "outputs": [
    {
     "name": "stderr",
     "output_type": "stream",
     "text": [
      "Clipping input data to the valid range for imshow with RGB data ([0..1] for floats or [0..255] for integers).\n"
     ]
    },
    {
     "name": "stdout",
     "output_type": "stream",
     "text": [
      "torch.Size([3, 32, 32]) 6\n"
     ]
    },
    {
     "data": {
      "image/png": "[encoded data removed]",
      "text/plain": [
       "<Figure size 432x288 with 1 Axes>"
      ]
     },
     "metadata": {
      "needs_background": "light"
     },
     "output_type": "display_data"
    }
   ],
   "source": [
    "classes = ['plane', 'car', 'bird', 'cat', 'deer', 'dog', 'frog', 'horse', 'ship', 'truck']\n",
    "\n",
    "image,label = trainingdata[0]\n",
    "print(image.shape, label)\n",
    "\n",
    "%matplotlib inline\n",
    "plt.imshow(image.numpy().transpose(1,2,0))\n",
    "plt.title(str(classes[label]))\n",
    "plt.show()"
   ]
  },
  {
   "cell_type": "code",
   "execution_count": 6,
   "metadata": {},
   "outputs": [],
   "source": [
    "class BasicBlock(nn.Module):\n",
    "\n",
    "    def __init__(self, in_planes, planes, stride=1):\n",
    "        super(BasicBlock, self).__init__()\n",
    "        self.conv1 = nn.Conv2d(\n",
    "            in_planes, planes, kernel_size=3, stride=stride, padding=1, bias=False)\n",
    "        self.bn1 = nn.BatchNorm2d(planes)\n",
    "        self.conv2 = nn.Conv2d(planes, planes, kernel_size=3,\n",
    "                               stride=1, padding=1, bias=False)\n",
    "        self.bn2 = nn.BatchNorm2d(planes)\n",
    "\n",
    "        self.shortcut = nn.Sequential()\n",
    "        if stride != 1 or in_planes != planes:\n",
    "            self.shortcut = nn.Sequential(\n",
    "                nn.Conv2d(in_planes, planes,\n",
    "                          kernel_size=1, stride=stride, bias=False),\n",
    "                nn.BatchNorm2d(planes)\n",
    "            )\n",
    "\n",
    "    def forward(self, x):\n",
    "        out = F.relu(self.bn1(self.conv1(x)))\n",
    "        out = self.bn2(self.conv2(out))\n",
    "        out += self.shortcut(x)\n",
    "        out = F.relu(out)\n",
    "        return out\n",
    "\n",
    "\n",
    "\n",
    "class ResNet(nn.Module):\n",
    "    def __init__(self, block, num_blocks, num_classes=10):\n",
    "        super(ResNet, self).__init__()\n",
    "        self.in_planes = 64\n",
    "\n",
    "        self.conv1 = nn.Conv2d(3, 64, kernel_size=3,\n",
    "                               stride=1, padding=1, bias=False)\n",
    "        self.bn1 = nn.BatchNorm2d(64)\n",
    "        self.layer1 = self._make_layer(block, 64, num_blocks[0], stride=1)\n",
    "        self.layer2 = self._make_layer(block, 128, num_blocks[1], stride=2)\n",
    "        self.layer3 = self._make_layer(block, 256, num_blocks[2], stride=2)\n",
    "#         self.layer4 = self._make_layer(block, 512, num_blocks[3], stride=2)\n",
    "        self.linear = nn.Linear(1024, num_classes)\n",
    "\n",
    "    def _make_layer(self, block, planes, num_blocks, stride):\n",
    "        strides = [stride] + [1]*(num_blocks-1)\n",
    "        layers = []\n",
    "        for stride in strides:\n",
    "            layers.append(block(self.in_planes, planes, stride))\n",
    "            self.in_planes = planes\n",
    "        return nn.Sequential(*layers)\n",
    "\n",
    "    def forward(self, x):\n",
    "#         print(x.shape)\n",
    "        out = F.relu(self.bn1(self.conv1(x)))\n",
    "#         print(out.shape)\n",
    "        out = self.layer1(out)\n",
    "#         print(out.shape)\n",
    "        out = self.layer2(out)\n",
    "#         print(out.shape)\n",
    "        out = self.layer3(out)\n",
    "#         print(out.shape)\n",
    "#         out = self.layer4(out)\n",
    "        out = F.avg_pool2d(out, 4)\n",
    "#         print(out.shape)\n",
    "        out = out.view(out.size(0), -1)\n",
    "#         print(out.shape)\n",
    "        out = self.linear(out)\n",
    "        return out\n",
    "    \n",
    "    def init_weights(self):\n",
    "        for m in self.modules():\n",
    "            if isinstance(m,nn.Conv2d):\n",
    "                nn.init.kaiming_normal_(m.weight,mode='fan_out',nonlinearity='relu') # weight initialization\n",
    "                if m.bias is not None:\n",
    "                    nn.init.constant_(m.bias,0)\n",
    "            elif isinstance(m,nn.BatchNorm2d):\n",
    "                nn.init.constant_(m.weight,1)\n",
    "                nn.init.constant_(m.bias,0)\n",
    "            elif isinstance(m,nn.Linear):\n",
    "                nn.init.normal_(m.weight,std=1e-3)\n",
    "                if m.bias is not None:\n",
    "                    nn.init.constant_(m.bias,0)\n",
    "\n",
    "def project1_model():\n",
    "#     return ResNet(BasicBlock, [2, 2, 2, 2])\n",
    "    return ResNet(BasicBlock, [3, 3, 3])\n",
    "\n",
    "# model1 = nn.Sequential(project1_model(), nn.AdaptiveAvgPool2d((1,1)), nn.Flatten(), nn.Linear(512, 10)).cuda()\n",
    "model1 = project1_model().cuda()\n",
    "model1.init_weights()"
   ]
  },
  {
   "cell_type": "code",
   "execution_count": 7,
   "metadata": {},
   "outputs": [
    {
     "name": "stdout",
     "output_type": "stream",
     "text": [
      "4335434\n"
     ]
    }
   ],
   "source": [
    "def count_parameters(model):\n",
    "    return sum(p.numel() for p in model.parameters() if p.requires_grad)\n",
    "    # torch.numel() returns number of elements in a tensor\n",
    "\n",
    "print(count_parameters(model1))"
   ]
  },
  {
   "cell_type": "code",
   "execution_count": 8,
   "metadata": {},
   "outputs": [],
   "source": [
    "# X = torch.rand(size=(1, 3, 32, 32)).cuda()\n",
    "# for layer in model1:\n",
    "#   X = layer(X)\n",
    "#   print(layer.__class__.__name__,'output shape:\\t', X.shape)"
   ]
  },
  {
   "cell_type": "code",
   "execution_count": 9,
   "metadata": {},
   "outputs": [],
   "source": [
    "def adjust_learning_rate(optimizer, current_epoch,max_epoch,lr_min=0,lr_max=0.1,warmup=True):\n",
    "    warmup_epoch = 10 if warmup else 0\n",
    "    if current_epoch < warmup_epoch:\n",
    "        lr = lr_max * current_epoch / warmup_epoch\n",
    "    else:\n",
    "        lr = lr_min + (lr_max-lr_min)*(1 + cos(pi * (current_epoch - warmup_epoch) / (max_epoch - warmup_epoch))) / 2\n",
    "    for param_group in optimizer.param_groups:\n",
    "        param_group['lr'] = lr"
   ]
  },
  {
   "cell_type": "code",
   "execution_count": 10,
   "metadata": {
    "scrolled": true
   },
   "outputs": [
    {
     "name": "stdout",
     "output_type": "stream",
     "text": [
      "Read model from checkpoint\n",
      "Restart from epoch 445\n",
      "Epoch 446, Train loss 3.125440709903459e-05, Test loss 0.4912881713360548, Train accuracy 99.99800701530613, Test accuracy 93.3984375, Cost 106.41184878349304 s\n",
      "Epoch 447, Train loss 1.3689846991634827e-05, Test loss 0.49123740307986735, Train accuracy 100.0, Test accuracy 93.3984375, Cost 104.64739799499512 s\n",
      "Epoch 448, Train loss 3.071747327878108e-05, Test loss 0.4908833958208561, Train accuracy 99.99800701530613, Test accuracy 93.3984375, Cost 105.94383883476257 s\n",
      "Epoch 449, Train loss 1.5957519452473782e-05, Test loss 0.49086551666259765, Train accuracy 100.0, Test accuracy 93.3984375, Cost 102.56758546829224 s\n",
      "Epoch 450, Train loss 1.5014169183824814e-05, Test loss 0.4908169012516737, Train accuracy 100.0, Test accuracy 93.3984375, Cost 106.68912053108215 s\n",
      "Model saved in epoch 450\n",
      "Epoch 451, Train loss 1.2521795439555524e-05, Test loss 0.49081542938947675, Train accuracy 100.0, Test accuracy 93.3984375, Cost 103.61451005935669 s\n",
      "Epoch 452, Train loss 1.8344329060589506e-05, Test loss 0.4908164355903864, Train accuracy 100.0, Test accuracy 93.3984375, Cost 106.11602640151978 s\n",
      "Epoch 453, Train loss 1.280033920107188e-05, Test loss 0.4907950308173895, Train accuracy 100.0, Test accuracy 93.3984375, Cost 106.4920699596405 s\n",
      "Epoch 454, Train loss 9.57595021704993e-06, Test loss 0.4908141318708658, Train accuracy 100.0, Test accuracy 93.3984375, Cost 102.63152480125427 s\n",
      "Epoch 455, Train loss 1.263993632003534e-05, Test loss 0.4908238176256418, Train accuracy 100.0, Test accuracy 93.3984375, Cost 103.09455394744873 s\n",
      "Model saved in epoch 455\n",
      "Epoch 456, Train loss 1.2043509758236886e-05, Test loss 0.4908357445150614, Train accuracy 100.0, Test accuracy 93.3984375, Cost 107.84754776954651 s\n",
      "Epoch 457, Train loss 1.3245397083682993e-05, Test loss 0.49088051319122317, Train accuracy 100.0, Test accuracy 93.3984375, Cost 105.98565220832825 s\n",
      "Epoch 458, Train loss 2.6989741999423294e-05, Test loss 0.49083224274218085, Train accuracy 100.0, Test accuracy 93.3984375, Cost 106.61175560951233 s\n",
      "Epoch 459, Train loss 1.0220894617157691e-05, Test loss 0.4908577363938093, Train accuracy 100.0, Test accuracy 93.3984375, Cost 107.49056434631348 s\n",
      "Epoch 460, Train loss 1.2127112805298081e-05, Test loss 0.4908654306083918, Train accuracy 100.0, Test accuracy 93.408203125, Cost 106.71544671058655 s\n",
      "Model saved in epoch 460\n",
      "Epoch 461, Train loss 1.1043380203081865e-05, Test loss 0.4909002725034952, Train accuracy 100.0, Test accuracy 93.408203125, Cost 105.45939183235168 s\n",
      "Epoch 462, Train loss 1.6349034254403705e-05, Test loss 0.490863761305809, Train accuracy 100.0, Test accuracy 93.408203125, Cost 104.56941080093384 s\n",
      "Epoch 463, Train loss 1.1984054690827861e-05, Test loss 0.49087285809218884, Train accuracy 100.0, Test accuracy 93.408203125, Cost 104.31528687477112 s\n",
      "Epoch 464, Train loss 1.320864822322038e-05, Test loss 0.4908478107303381, Train accuracy 100.0, Test accuracy 93.41796875, Cost 104.7479829788208 s\n",
      "Epoch 465, Train loss 2.6114046198670724e-05, Test loss 0.49079022035002706, Train accuracy 100.0, Test accuracy 93.3984375, Cost 103.56384658813477 s\n",
      "Model saved in epoch 465\n",
      "Epoch 466, Train loss 9.753754868342537e-06, Test loss 0.49079024195671084, Train accuracy 100.0, Test accuracy 93.3984375, Cost 107.00564956665039 s\n",
      "Epoch 467, Train loss 3.605037840384516e-05, Test loss 0.49078375548124314, Train accuracy 99.99800701530613, Test accuracy 93.3984375, Cost 105.43070697784424 s\n",
      "Epoch 468, Train loss 1.1929766656406252e-05, Test loss 0.4907695081084967, Train accuracy 100.0, Test accuracy 93.3984375, Cost 108.6677520275116 s\n",
      "Epoch 469, Train loss 1.1762389124272682e-05, Test loss 0.490743912383914, Train accuracy 100.0, Test accuracy 93.3984375, Cost 104.03964281082153 s\n",
      "Epoch 470, Train loss 1.2909524505787733e-05, Test loss 0.49076448418200014, Train accuracy 100.0, Test accuracy 93.408203125, Cost 104.78008818626404 s\n",
      "Model saved in epoch 470\n",
      "Epoch 471, Train loss 1.2325822420300901e-05, Test loss 0.4907735470682383, Train accuracy 100.0, Test accuracy 93.3984375, Cost 103.34428191184998 s\n",
      "Epoch 472, Train loss 1.997735472253235e-05, Test loss 0.490807431563735, Train accuracy 100.0, Test accuracy 93.41796875, Cost 105.76173686981201 s\n",
      "Epoch 473, Train loss 7.937928217251172e-06, Test loss 0.4908026956021786, Train accuracy 100.0, Test accuracy 93.41796875, Cost 105.45911002159119 s\n",
      "Epoch 474, Train loss 1.0920804000397302e-05, Test loss 0.4908140774816275, Train accuracy 100.0, Test accuracy 93.408203125, Cost 105.552814245224 s\n",
      "Epoch 475, Train loss 1.3411322472667072e-05, Test loss 0.4908226262778044, Train accuracy 100.0, Test accuracy 93.41796875, Cost 106.84407424926758 s\n",
      "Model saved in epoch 475\n",
      "Epoch 476, Train loss 1.0820832920275655e-05, Test loss 0.49092844873666763, Train accuracy 100.0, Test accuracy 93.41796875, Cost 108.10498142242432 s\n",
      "Epoch 477, Train loss 1.460956083315532e-05, Test loss 0.490927654504776, Train accuracy 100.0, Test accuracy 93.41796875, Cost 105.44290328025818 s\n",
      "Epoch 478, Train loss 1.8958205488556767e-05, Test loss 0.49090964123606684, Train accuracy 100.0, Test accuracy 93.427734375, Cost 105.51192426681519 s\n",
      "Epoch 479, Train loss 1.3390128318969708e-05, Test loss 0.4908963657915592, Train accuracy 100.0, Test accuracy 93.427734375, Cost 103.75991773605347 s\n",
      "Epoch 480, Train loss 3.9762032429280225e-05, Test loss 0.490883781760931, Train accuracy 99.99800701530613, Test accuracy 93.45703125, Cost 108.51487445831299 s\n",
      "Model saved in epoch 480\n",
      "Epoch 481, Train loss 1.0095328487328256e-05, Test loss 0.49088271893560886, Train accuracy 100.0, Test accuracy 93.45703125, Cost 106.40921831130981 s\n",
      "Epoch 482, Train loss 9.772372843785054e-06, Test loss 0.4908872865140438, Train accuracy 100.0, Test accuracy 93.45703125, Cost 104.52885842323303 s\n",
      "Epoch 483, Train loss 1.947905349183253e-05, Test loss 0.49087434709072114, Train accuracy 100.0, Test accuracy 93.45703125, Cost 105.68571472167969 s\n",
      "Epoch 484, Train loss 2.727611384669296e-05, Test loss 0.4909823380410671, Train accuracy 100.0, Test accuracy 93.4375, Cost 103.68061447143555 s\n",
      "Epoch 485, Train loss 1.3566602911405612e-05, Test loss 0.4909693717956543, Train accuracy 100.0, Test accuracy 93.4375, Cost 105.51734399795532 s\n",
      "Model saved in epoch 485\n",
      "Epoch 486, Train loss 1.825094522234907e-05, Test loss 0.49088632352650163, Train accuracy 100.0, Test accuracy 93.447265625, Cost 105.51582169532776 s\n",
      "Epoch 487, Train loss 9.931535995740293e-06, Test loss 0.4908968206495047, Train accuracy 100.0, Test accuracy 93.447265625, Cost 104.88359928131104 s\n",
      "Epoch 488, Train loss 3.649510293598433e-05, Test loss 0.4909632787108421, Train accuracy 100.0, Test accuracy 93.4375, Cost 105.59422063827515 s\n",
      "Epoch 489, Train loss 8.963340094637413e-06, Test loss 0.4909519698470831, Train accuracy 100.0, Test accuracy 93.427734375, Cost 108.51284885406494 s\n",
      "Epoch 490, Train loss 2.329294079210197e-05, Test loss 0.49095428101718425, Train accuracy 100.0, Test accuracy 93.427734375, Cost 104.60859751701355 s\n",
      "Model saved in epoch 490\n",
      "Epoch 491, Train loss 1.1467924207423442e-05, Test loss 0.4909583855420351, Train accuracy 100.0, Test accuracy 93.427734375, Cost 106.71825909614563 s\n",
      "Epoch 492, Train loss 1.1538741116295597e-05, Test loss 0.49094189889729023, Train accuracy 100.0, Test accuracy 93.427734375, Cost 102.60064387321472 s\n",
      "Epoch 493, Train loss 1.2237488083448917e-05, Test loss 0.4909310430288315, Train accuracy 100.0, Test accuracy 93.427734375, Cost 104.5579423904419 s\n",
      "Epoch 494, Train loss 1.2026548199077417e-05, Test loss 0.49093480296432973, Train accuracy 100.0, Test accuracy 93.427734375, Cost 106.78685760498047 s\n",
      "Epoch 495, Train loss 1.996571886222079e-05, Test loss 0.49092983156442643, Train accuracy 100.0, Test accuracy 93.427734375, Cost 103.48323583602905 s\n",
      "Model saved in epoch 495\n",
      "Epoch 496, Train loss 1.0812943351803202e-05, Test loss 0.4909395191818476, Train accuracy 100.0, Test accuracy 93.427734375, Cost 107.02290105819702 s\n",
      "Epoch 497, Train loss 7.737295982615693e-06, Test loss 0.4909385971724987, Train accuracy 100.0, Test accuracy 93.41796875, Cost 104.32891058921814 s\n",
      "Epoch 498, Train loss 8.596987797494764e-06, Test loss 0.4909368209540844, Train accuracy 100.0, Test accuracy 93.41796875, Cost 104.59736752510071 s\n"
     ]
    },
    {
     "name": "stdout",
     "output_type": "stream",
     "text": [
      "Epoch 499, Train loss 8.538902886029092e-06, Test loss 0.49092671014368533, Train accuracy 100.0, Test accuracy 93.41796875, Cost 105.22019147872925 s\n",
      "Epoch 500, Train loss 1.0915769191655045e-05, Test loss 0.4909296572208405, Train accuracy 100.0, Test accuracy 93.41796875, Cost 106.56641387939453 s\n",
      "Model saved in epoch 500\n"
     ]
    }
   ],
   "source": [
    "num_epochs = 500 # param\n",
    "epoch_start = 0\n",
    "path = 'resnet_aug_3block_sgd_warmup_consine_batch256_lr01.pt'\n",
    "\n",
    "train_loss_history = []\n",
    "test_loss_history = []\n",
    "train_accuracy_history = []\n",
    "test_accuracy_history = []\n",
    "\n",
    "Loss = torch.nn.CrossEntropyLoss()\n",
    "\n",
    "lr = 0.1\n",
    "lr_min=0.001\n",
    "momentum = 0.9\n",
    "nesterov = True\n",
    "optimizer = torch.optim.SGD(model1.parameters(),lr=lr,momentum=momentum,nesterov=nesterov)\n",
    "\n",
    "\n",
    "\n",
    "if os.path.exists(path):\n",
    "    checkpoint = torch.load(path)\n",
    "    print('Read model from checkpoint')\n",
    "    model1.cuda().load_state_dict(checkpoint['model_state_dict'])\n",
    "    optimizer.load_state_dict(checkpoint['optimizer_state_dict'])\n",
    "    epoch_start = checkpoint['epoch']\n",
    "    Loss = checkpoint['Loss']\n",
    "    train_loss_history = checkpoint['train_loss_history']\n",
    "    test_loss_history = checkpoint['test_loss_history']\n",
    "    train_accuracy_history = checkpoint['train_accuracy_history']\n",
    "    test_accuracy_history = checkpoint['test_accuracy_history']\n",
    "    print('Restart from epoch',epoch_start)\n",
    "    \n",
    "\n",
    "for epoch in range(epoch_start+1, num_epochs+1):\n",
    "    timestart = time.time()\n",
    "\n",
    "    train_loss = 0.0\n",
    "    test_loss = 0.0\n",
    "    train_accuracy = 0.0\n",
    "    test_accuracy = 0.0\n",
    "\n",
    "    for i, data in enumerate(trainDataLoader):\n",
    "        images, labels = data\n",
    "        images = images.cuda()\n",
    "        labels = labels.cuda()\n",
    "        optimizer.zero_grad()\n",
    "        predicted_output = model1.cuda()(images)\n",
    "        fit = Loss(predicted_output,labels)\n",
    "        fit.backward()\n",
    "        adjust_learning_rate(optimizer=optimizer,current_epoch=epoch,max_epoch=num_epochs,lr_min=lr_min,lr_max=lr,warmup=True)\n",
    "        optimizer.step()\n",
    "        train_loss += fit.item()\n",
    "        train_accuracy += (torch.eq(torch.max(predicted_output,1)[1],labels).sum()/len(labels)*100).data.cpu().numpy()\n",
    "\n",
    "    for i, data in enumerate(testDataLoader):\n",
    "        with torch.no_grad():\n",
    "            images, labels = data\n",
    "            images = images.cuda()\n",
    "            labels = labels.cuda()\n",
    "            predicted_output = model1.cuda()(images)\n",
    "            fit = Loss(predicted_output,labels)\n",
    "            test_loss += fit.item()\n",
    "            test_accuracy += (torch.eq(torch.max(predicted_output,1)[1],labels).sum()/len(labels)*100).data.cpu().numpy()\n",
    "\n",
    "\n",
    "    train_loss = train_loss/len(trainDataLoader)\n",
    "    test_loss = test_loss/len(testDataLoader)\n",
    "    train_accu = train_accuracy/len(trainDataLoader)\n",
    "    test_accu = test_accuracy/len(testDataLoader)\n",
    "    train_loss_history.append(train_loss)\n",
    "    test_loss_history.append(test_loss)\n",
    "    train_accuracy_history.append(train_accu)\n",
    "    test_accuracy_history.append(test_accu)\n",
    "    print('Epoch %s, Train loss %s, Test loss %s, Train accuracy %s, Test accuracy %s, Cost %s s'%(epoch,\n",
    "                                                                                                   train_loss,test_loss,\n",
    "                                                                                                   train_accu,test_accu,\n",
    "                                                                                                   time.time()-timestart))\n",
    "\n",
    "    if epoch % 5 == 0 and epoch != 0:\n",
    "        torch.save({'epoch':epoch,\n",
    "          'model_state_dict':model1.cuda().state_dict(),\n",
    "          'optimizer_state_dict':optimizer.state_dict(),\n",
    "          'Loss':Loss,\n",
    "          'train_loss_history':train_loss_history,\n",
    "          'test_loss_history':test_loss_history,\n",
    "          'train_accuracy_history':train_accuracy_history,\n",
    "          'test_accuracy_history':test_accuracy_history},path)\n",
    "        print('Model saved in epoch %s'%(epoch))"
   ]
  },
  {
   "cell_type": "code",
   "execution_count": 11,
   "metadata": {},
   "outputs": [
    {
     "data": {
      "text/plain": [
       "<matplotlib.legend.Legend at 0x14b1aed133a0>"
      ]
     },
     "execution_count": 11,
     "metadata": {},
     "output_type": "execute_result"
    },
    {
     "data": {
      "image/png": "[encoded data removed]",
      "text/plain": [
       "<Figure size 720x360 with 2 Axes>"
      ]
     },
     "metadata": {
      "needs_background": "light"
     },
     "output_type": "display_data"
    }
   ],
   "source": [
    "plt.figure(figsize=(10,5))\n",
    "plt.subplot(1,2,1)\n",
    "plt.plot(range(num_epochs),train_loss_history,'-',linewidth=3,label='Train error')\n",
    "plt.plot(range(num_epochs),test_loss_history,'-',linewidth=3,label='Test error')\n",
    "plt.xlabel('epoch')\n",
    "plt.ylabel('loss')\n",
    "plt.grid(True)\n",
    "plt.legend()\n",
    "\n",
    "plt.subplot(1,2,2)\n",
    "plt.plot(range(num_epochs),train_accuracy_history,'-',linewidth=3,label='Train accuracy')\n",
    "plt.plot(range(num_epochs),test_accuracy_history,'-',linewidth=3,label='Test accuracy')\n",
    "plt.xlabel('epoch')\n",
    "plt.ylabel('accuracy')\n",
    "plt.grid(True)\n",
    "plt.legend()"
   ]
  },
  {
   "cell_type": "code",
   "execution_count": 12,
   "metadata": {},
   "outputs": [
    {
     "name": "stdout",
     "output_type": "stream",
     "text": [
      "Accuracy: 93.419921875\n"
     ]
    }
   ],
   "source": [
    "print('Accuracy:',sum(test_accuracy_history[-5:])/5)"
   ]
  },
  {
   "cell_type": "code",
   "execution_count": null,
   "metadata": {},
   "outputs": [],
   "source": []
  }
 ],
 "metadata": {
  "kernelspec": {
   "display_name": "venv_resnet",
   "language": "python",
   "name": "venv"
  },
  "language_info": {
   "codemirror_mode": {
    "name": "ipython",
    "version": 3
   },
   "file_extension": ".py",
   "mimetype": "text/x-python",
   "name": "python",
   "nbconvert_exporter": "python",
   "pygments_lexer": "ipython3",
   "version": "3.8.3"
  }
 },
 "nbformat": 4,
 "nbformat_minor": 4
}
