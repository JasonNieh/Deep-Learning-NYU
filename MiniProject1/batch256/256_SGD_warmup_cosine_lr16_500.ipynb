{
 "cells": [
  {
   "cell_type": "code",
   "execution_count": 1,
   "metadata": {},
   "outputs": [],
   "source": [
    "import os\n",
    "import time\n",
    "import torch\n",
    "import math\n",
    "import torchvision\n",
    "from torchvision import transforms as transforms\n",
    "from torch import nn\n",
    "from torch.nn import functional as F\n",
    "from math import cos,pi\n",
    "\n",
    "import matplotlib.pyplot as plt\n",
    "import numpy as np\n",
    "import random\n",
    "\n",
    "torch.cuda.empty_cache()"
   ]
  },
  {
   "cell_type": "code",
   "execution_count": 2,
   "metadata": {},
   "outputs": [
    {
     "data": {
      "text/plain": [
       "True"
      ]
     },
     "execution_count": 2,
     "metadata": {},
     "output_type": "execute_result"
    }
   ],
   "source": [
    "torch.cuda.is_available()"
   ]
  },
  {
   "cell_type": "code",
   "execution_count": 3,
   "metadata": {},
   "outputs": [
    {
     "name": "stdout",
     "output_type": "stream",
     "text": [
      "Files already downloaded and verified\n"
     ]
    }
   ],
   "source": [
    "torch.manual_seed(17)\n",
    "torch.cuda.manual_seed_all(17)\n",
    "\n",
    "aug_train = transforms.Compose([\n",
    "    transforms.RandomCrop(32,padding=4,padding_mode='reflect'),\n",
    "    transforms.RandomHorizontalFlip(), # 水平翻转\n",
    "    transforms.ToTensor(),\n",
    "    transforms.Normalize((0.4244, 0.4146, 0.3836), (0.2539, 0.2491, 0.2420)) # normalization\n",
    "    ])\n",
    "\n",
    "aug_test = transforms.Compose([\n",
    "    transforms.ToTensor(),\n",
    "    transforms.Normalize((0.4244, 0.4146, 0.3836), (0.2539, 0.2491, 0.2420)) # normalization\n",
    "    ])\n",
    "\n",
    "trainingdata = torchvision.datasets.CIFAR10('./CIFAR10',train=True,download=True,transform=aug_train)\n",
    "# testdata = torchvision.datasets.CIFAR10('./CIFAR10',train=False,download=True,transform=transforms.ToTensor())\n",
    "# print(len(trainingdata),len(testdata))"
   ]
  },
  {
   "cell_type": "code",
   "execution_count": 4,
   "metadata": {},
   "outputs": [
    {
     "name": "stdout",
     "output_type": "stream",
     "text": [
      "Files already downloaded and verified\n",
      "Files already downloaded and verified\n"
     ]
    }
   ],
   "source": [
    "def load_data(is_train,aug,batch_size):\n",
    "    dataset = torchvision.datasets.CIFAR10('./CIFAR10',train=is_train,download=True,transform=aug)\n",
    "    dataloader = torch.utils.data.DataLoader(dataset,batch_size=batch_size,shuffle=is_train)\n",
    "    return dataloader\n",
    "\n",
    "batch_size = 256 # param\n",
    "trainDataLoader = load_data(is_train=True,aug=aug_train,batch_size=batch_size)\n",
    "testDataLoader = load_data(is_train=False,aug=aug_test,batch_size=batch_size)"
   ]
  },
  {
   "cell_type": "code",
   "execution_count": 5,
   "metadata": {},
   "outputs": [
    {
     "name": "stderr",
     "output_type": "stream",
     "text": [
      "Clipping input data to the valid range for imshow with RGB data ([0..1] for floats or [0..255] for integers).\n"
     ]
    },
    {
     "name": "stdout",
     "output_type": "stream",
     "text": [
      "torch.Size([3, 32, 32]) 6\n"
     ]
    },
    {
     "data": {
      "image/png": "[encoded data removed]",
      "text/plain": [
       "<Figure size 432x288 with 1 Axes>"
      ]
     },
     "metadata": {
      "needs_background": "light"
     },
     "output_type": "display_data"
    }
   ],
   "source": [
    "classes = ['plane', 'car', 'bird', 'cat', 'deer', 'dog', 'frog', 'horse', 'ship', 'truck']\n",
    "\n",
    "image,label = trainingdata[0]\n",
    "print(image.shape, label)\n",
    "\n",
    "%matplotlib inline\n",
    "plt.imshow(image.numpy().transpose(1,2,0))\n",
    "plt.title(str(classes[label]))\n",
    "plt.show()"
   ]
  },
  {
   "cell_type": "code",
   "execution_count": 6,
   "metadata": {},
   "outputs": [],
   "source": [
    "class BasicBlock(nn.Module):\n",
    "\n",
    "    def __init__(self, in_planes, planes, stride=1):\n",
    "        super(BasicBlock, self).__init__()\n",
    "        self.conv1 = nn.Conv2d(\n",
    "            in_planes, planes, kernel_size=3, stride=stride, padding=1, bias=False)\n",
    "        self.bn1 = nn.BatchNorm2d(planes)\n",
    "        self.conv2 = nn.Conv2d(planes, planes, kernel_size=3,\n",
    "                               stride=1, padding=1, bias=False)\n",
    "        self.bn2 = nn.BatchNorm2d(planes)\n",
    "\n",
    "        self.shortcut = nn.Sequential()\n",
    "        if stride != 1 or in_planes != planes:\n",
    "            self.shortcut = nn.Sequential(\n",
    "                nn.Conv2d(in_planes, planes,\n",
    "                          kernel_size=1, stride=stride, bias=False),\n",
    "                nn.BatchNorm2d(planes)\n",
    "            )\n",
    "\n",
    "    def forward(self, x):\n",
    "        out = F.relu(self.bn1(self.conv1(x)))\n",
    "        out = self.bn2(self.conv2(out))\n",
    "        out += self.shortcut(x)\n",
    "        out = F.relu(out)\n",
    "        return out\n",
    "\n",
    "\n",
    "\n",
    "class ResNet(nn.Module):\n",
    "    def __init__(self, block, num_blocks, num_classes=10):\n",
    "        super(ResNet, self).__init__()\n",
    "        self.in_planes = 64\n",
    "\n",
    "        self.conv1 = nn.Conv2d(3, 64, kernel_size=3,\n",
    "                               stride=1, padding=1, bias=False)\n",
    "        self.bn1 = nn.BatchNorm2d(64)\n",
    "        self.layer1 = self._make_layer(block, 64, num_blocks[0], stride=1)\n",
    "        self.layer2 = self._make_layer(block, 128, num_blocks[1], stride=2)\n",
    "        self.layer3 = self._make_layer(block, 256, num_blocks[2], stride=2)\n",
    "#         self.layer4 = self._make_layer(block, 512, num_blocks[3], stride=2)\n",
    "        self.linear = nn.Linear(1024, num_classes)\n",
    "\n",
    "    def _make_layer(self, block, planes, num_blocks, stride):\n",
    "        strides = [stride] + [1]*(num_blocks-1)\n",
    "        layers = []\n",
    "        for stride in strides:\n",
    "            layers.append(block(self.in_planes, planes, stride))\n",
    "            self.in_planes = planes\n",
    "        return nn.Sequential(*layers)\n",
    "\n",
    "    def forward(self, x):\n",
    "#         print(x.shape)\n",
    "        out = F.relu(self.bn1(self.conv1(x)))\n",
    "#         print(out.shape)\n",
    "        out = self.layer1(out)\n",
    "#         print(out.shape)\n",
    "        out = self.layer2(out)\n",
    "#         print(out.shape)\n",
    "        out = self.layer3(out)\n",
    "#         print(out.shape)\n",
    "#         out = self.layer4(out)\n",
    "        out = F.avg_pool2d(out, 4)\n",
    "#         print(out.shape)\n",
    "        out = out.view(out.size(0), -1)\n",
    "#         print(out.shape)\n",
    "        out = self.linear(out)\n",
    "        return out\n",
    "    \n",
    "    def init_weights(self):\n",
    "        for m in self.modules():\n",
    "            if isinstance(m,nn.Conv2d):\n",
    "                nn.init.kaiming_normal_(m.weight,mode='fan_out',nonlinearity='relu') # weight initialization\n",
    "                if m.bias is not None:\n",
    "                    nn.init.constant_(m.bias,0)\n",
    "            elif isinstance(m,nn.BatchNorm2d):\n",
    "                nn.init.constant_(m.weight,1)\n",
    "                nn.init.constant_(m.bias,0)\n",
    "            elif isinstance(m,nn.Linear):\n",
    "                nn.init.normal_(m.weight,std=1e-3)\n",
    "                if m.bias is not None:\n",
    "                    nn.init.constant_(m.bias,0)\n",
    "\n",
    "def project1_model():\n",
    "#     return ResNet(BasicBlock, [2, 2, 2, 2])\n",
    "    return ResNet(BasicBlock, [3, 3, 3])\n",
    "\n",
    "# model1 = nn.Sequential(project1_model(), nn.AdaptiveAvgPool2d((1,1)), nn.Flatten(), nn.Linear(512, 10)).cuda()\n",
    "model1 = project1_model().cuda()\n",
    "model1.init_weights()"
   ]
  },
  {
   "cell_type": "code",
   "execution_count": 7,
   "metadata": {},
   "outputs": [
    {
     "name": "stdout",
     "output_type": "stream",
     "text": [
      "4335434\n"
     ]
    }
   ],
   "source": [
    "def count_parameters(model):\n",
    "    return sum(p.numel() for p in model.parameters() if p.requires_grad)\n",
    "    # torch.numel() returns number of elements in a tensor\n",
    "\n",
    "print(count_parameters(model1))"
   ]
  },
  {
   "cell_type": "code",
   "execution_count": 8,
   "metadata": {},
   "outputs": [],
   "source": [
    "# X = torch.rand(size=(1, 3, 32, 32)).cuda()\n",
    "# for layer in model1:\n",
    "#   X = layer(X)\n",
    "#   print(layer.__class__.__name__,'output shape:\\t', X.shape)"
   ]
  },
  {
   "cell_type": "code",
   "execution_count": 9,
   "metadata": {},
   "outputs": [],
   "source": [
    "def adjust_learning_rate(optimizer, current_epoch,max_epoch,lr_min=0,lr_max=0.1,warmup=True):\n",
    "    warmup_epoch = 10 if warmup else 0\n",
    "    if current_epoch < warmup_epoch:\n",
    "        lr = lr_max * current_epoch / warmup_epoch\n",
    "    else:\n",
    "        lr = lr_min + (lr_max-lr_min)*(1 + cos(pi * (current_epoch - warmup_epoch) / (max_epoch - warmup_epoch))) / 2\n",
    "    for param_group in optimizer.param_groups:\n",
    "        param_group['lr'] = lr"
   ]
  },
  {
   "cell_type": "code",
   "execution_count": 10,
   "metadata": {
    "scrolled": true
   },
   "outputs": [
    {
     "name": "stdout",
     "output_type": "stream",
     "text": [
      "Read model from checkpoint\n",
      "Restart from epoch 460\n",
      "Epoch 461, Train loss 1.569896638718506e-05, Test loss 0.6257251039147377, Train accuracy 100.0, Test accuracy 93.271484375, Cost 105.6250364780426 s\n",
      "Epoch 462, Train loss 8.093461579382599e-05, Test loss 0.6256642363965511, Train accuracy 99.99800701530613, Test accuracy 93.271484375, Cost 105.31115674972534 s\n",
      "Epoch 463, Train loss 2.1501003199868674e-05, Test loss 0.6257300779223443, Train accuracy 100.0, Test accuracy 93.26171875, Cost 107.40481352806091 s\n",
      "Epoch 464, Train loss 1.7763038729925733e-05, Test loss 0.6257169499993325, Train accuracy 100.0, Test accuracy 93.26171875, Cost 105.72751665115356 s\n",
      "Epoch 465, Train loss 1.51654363868876e-05, Test loss 0.6257270976901055, Train accuracy 100.0, Test accuracy 93.26171875, Cost 106.43684148788452 s\n",
      "Model saved in epoch 465\n",
      "Epoch 466, Train loss 2.6843046146062913e-05, Test loss 0.6257292456924916, Train accuracy 100.0, Test accuracy 93.26171875, Cost 105.33418011665344 s\n",
      "Epoch 467, Train loss 4.065120158438336e-05, Test loss 0.6258801378309726, Train accuracy 99.99800701530613, Test accuracy 93.271484375, Cost 105.29976010322571 s\n",
      "Epoch 468, Train loss 2.837314148534602e-05, Test loss 0.6259406067430973, Train accuracy 100.0, Test accuracy 93.26171875, Cost 106.14278197288513 s\n",
      "Epoch 469, Train loss 2.3493920261939494e-05, Test loss 0.6259674370288849, Train accuracy 100.0, Test accuracy 93.26171875, Cost 105.10227489471436 s\n",
      "Epoch 470, Train loss 3.376648724793897e-05, Test loss 0.6259540900588035, Train accuracy 100.0, Test accuracy 93.271484375, Cost 105.44134020805359 s\n",
      "Model saved in epoch 470\n",
      "Epoch 471, Train loss 0.0001105077156121784, Test loss 0.6258868984878063, Train accuracy 99.99601403061224, Test accuracy 93.28125, Cost 105.27014780044556 s\n",
      "Epoch 472, Train loss 3.8583566872014376e-05, Test loss 0.6257835835218429, Train accuracy 100.0, Test accuracy 93.271484375, Cost 105.52024149894714 s\n",
      "Epoch 473, Train loss 4.0787678406426455e-05, Test loss 0.6256517671048641, Train accuracy 99.99800701530613, Test accuracy 93.28125, Cost 106.10221862792969 s\n",
      "Epoch 474, Train loss 7.815220565440193e-05, Test loss 0.6256424613296986, Train accuracy 99.99800701530613, Test accuracy 93.28125, Cost 105.9440336227417 s\n",
      "Epoch 475, Train loss 2.644307369728708e-05, Test loss 0.6256297267973423, Train accuracy 100.0, Test accuracy 93.28125, Cost 91.90592384338379 s\n",
      "Model saved in epoch 475\n",
      "Epoch 476, Train loss 5.221084802875984e-05, Test loss 0.6257769234478474, Train accuracy 99.99800701530613, Test accuracy 93.291015625, Cost 76.41813135147095 s\n",
      "Epoch 477, Train loss 4.8096765516853725e-05, Test loss 0.6258992798626423, Train accuracy 99.99800701530613, Test accuracy 93.291015625, Cost 76.55685353279114 s\n",
      "Epoch 478, Train loss 3.544568486270979e-05, Test loss 0.6258049741387367, Train accuracy 100.0, Test accuracy 93.30078125, Cost 76.47587513923645 s\n",
      "Epoch 479, Train loss 1.8179909394371852e-05, Test loss 0.6257617019116879, Train accuracy 100.0, Test accuracy 93.30078125, Cost 76.63261699676514 s\n",
      "Epoch 480, Train loss 2.3990669354212457e-05, Test loss 0.6257072366774082, Train accuracy 100.0, Test accuracy 93.30078125, Cost 76.55406522750854 s\n",
      "Model saved in epoch 480\n",
      "Epoch 481, Train loss 1.87159472888972e-05, Test loss 0.6257183618843556, Train accuracy 100.0, Test accuracy 93.30078125, Cost 76.52994656562805 s\n",
      "Epoch 482, Train loss 6.71397580715223e-05, Test loss 0.6257682934403419, Train accuracy 99.99800701530613, Test accuracy 93.30078125, Cost 76.60429954528809 s\n",
      "Epoch 483, Train loss 2.1785987605593465e-05, Test loss 0.6258015118539333, Train accuracy 100.0, Test accuracy 93.30078125, Cost 76.36889457702637 s\n",
      "Epoch 484, Train loss 1.9982188889811977e-05, Test loss 0.625833087414503, Train accuracy 100.0, Test accuracy 93.30078125, Cost 76.46678876876831 s\n",
      "Epoch 485, Train loss 3.110977532573754e-05, Test loss 0.6257804185152054, Train accuracy 100.0, Test accuracy 93.30078125, Cost 76.47828555107117 s\n",
      "Model saved in epoch 485\n",
      "Epoch 486, Train loss 0.00011052317006335752, Test loss 0.625740184634924, Train accuracy 99.99800701530613, Test accuracy 93.30078125, Cost 76.68913769721985 s\n",
      "Epoch 487, Train loss 2.2624967098655693e-05, Test loss 0.6257309779524803, Train accuracy 100.0, Test accuracy 93.30078125, Cost 76.67059564590454 s\n",
      "Epoch 488, Train loss 1.9862392829574734e-05, Test loss 0.6257285468280316, Train accuracy 100.0, Test accuracy 93.30078125, Cost 77.1973123550415 s\n",
      "Epoch 489, Train loss 4.1905699936077027e-05, Test loss 0.6257154069840908, Train accuracy 100.0, Test accuracy 93.30078125, Cost 77.29517030715942 s\n",
      "Epoch 490, Train loss 5.001338455167236e-05, Test loss 0.6256924360990525, Train accuracy 100.0, Test accuracy 93.30078125, Cost 77.12438297271729 s\n",
      "Model saved in epoch 490\n",
      "Epoch 491, Train loss 3.5282956297338794e-05, Test loss 0.625699008256197, Train accuracy 100.0, Test accuracy 93.30078125, Cost 77.42045855522156 s\n",
      "Epoch 492, Train loss 4.473109061482823e-05, Test loss 0.6257197089493275, Train accuracy 99.99800701530613, Test accuracy 93.30078125, Cost 77.17177104949951 s\n",
      "Epoch 493, Train loss 2.1181715548783992e-05, Test loss 0.6257176034152507, Train accuracy 100.0, Test accuracy 93.30078125, Cost 77.42861604690552 s\n",
      "Epoch 494, Train loss 2.0884907610774445e-05, Test loss 0.6257155247032642, Train accuracy 100.0, Test accuracy 93.30078125, Cost 77.65534973144531 s\n",
      "Epoch 495, Train loss 1.5159368574331335e-05, Test loss 0.6257153302431107, Train accuracy 100.0, Test accuracy 93.30078125, Cost 77.4836905002594 s\n",
      "Model saved in epoch 495\n",
      "Epoch 496, Train loss 2.7011642819664532e-05, Test loss 0.6257107898592948, Train accuracy 100.0, Test accuracy 93.30078125, Cost 77.4322578907013 s\n",
      "Epoch 497, Train loss 2.291326452525853e-05, Test loss 0.6257163092494011, Train accuracy 100.0, Test accuracy 93.30078125, Cost 77.23115849494934 s\n",
      "Epoch 498, Train loss 4.230904321887747e-05, Test loss 0.6257074512541294, Train accuracy 99.99800701530613, Test accuracy 93.30078125, Cost 77.48981404304504 s\n",
      "Epoch 499, Train loss 1.2925554446174145e-05, Test loss 0.6257080286741257, Train accuracy 100.0, Test accuracy 93.30078125, Cost 76.92215585708618 s\n",
      "Epoch 500, Train loss 1.5738802709108768e-05, Test loss 0.6257083401083946, Train accuracy 100.0, Test accuracy 93.30078125, Cost 76.80121445655823 s\n",
      "Model saved in epoch 500\n"
     ]
    }
   ],
   "source": [
    "num_epochs = 500 # param\n",
    "epoch_start = 0\n",
    "path = 'resnet_aug_3block_sgd_warmup_consine-500-lr16.pt'\n",
    "\n",
    "train_loss_history = []\n",
    "test_loss_history = []\n",
    "train_accuracy_history = []\n",
    "test_accuracy_history = []\n",
    "\n",
    "Loss = torch.nn.CrossEntropyLoss()\n",
    "\n",
    "lr = 1.6\n",
    "lr_min=0.001\n",
    "momentum = 0.9\n",
    "nesterov = True\n",
    "optimizer = torch.optim.SGD(model1.parameters(),lr=lr,momentum=momentum,nesterov=nesterov)\n",
    "\n",
    "\n",
    "\n",
    "if os.path.exists(path):\n",
    "    checkpoint = torch.load(path)\n",
    "    print('Read model from checkpoint')\n",
    "    model1.cuda().load_state_dict(checkpoint['model_state_dict'])\n",
    "    optimizer.load_state_dict(checkpoint['optimizer_state_dict'])\n",
    "    epoch_start = checkpoint['epoch']\n",
    "    Loss = checkpoint['Loss']\n",
    "    train_loss_history = checkpoint['train_loss_history']\n",
    "    test_loss_history = checkpoint['test_loss_history']\n",
    "    train_accuracy_history = checkpoint['train_accuracy_history']\n",
    "    test_accuracy_history = checkpoint['test_accuracy_history']\n",
    "    print('Restart from epoch',epoch_start)\n",
    "    \n",
    "\n",
    "for epoch in range(epoch_start+1, num_epochs+1):\n",
    "    timestart = time.time()\n",
    "\n",
    "    train_loss = 0.0\n",
    "    test_loss = 0.0\n",
    "    train_accuracy = 0.0\n",
    "    test_accuracy = 0.0\n",
    "\n",
    "    for i, data in enumerate(trainDataLoader):\n",
    "        images, labels = data\n",
    "        images = images.cuda()\n",
    "        labels = labels.cuda()\n",
    "        optimizer.zero_grad()\n",
    "        predicted_output = model1.cuda()(images)\n",
    "        fit = Loss(predicted_output,labels)\n",
    "        fit.backward()\n",
    "        adjust_learning_rate(optimizer=optimizer,current_epoch=epoch,max_epoch=num_epochs,lr_min=lr_min,lr_max=lr,warmup=True)\n",
    "        optimizer.step()\n",
    "        train_loss += fit.item()\n",
    "        train_accuracy += (torch.eq(torch.max(predicted_output,1)[1],labels).sum()/len(labels)*100).data.cpu().numpy()\n",
    "\n",
    "    for i, data in enumerate(testDataLoader):\n",
    "        with torch.no_grad():\n",
    "            images, labels = data\n",
    "            images = images.cuda()\n",
    "            labels = labels.cuda()\n",
    "            predicted_output = model1.cuda()(images)\n",
    "            fit = Loss(predicted_output,labels)\n",
    "            test_loss += fit.item()\n",
    "            test_accuracy += (torch.eq(torch.max(predicted_output,1)[1],labels).sum()/len(labels)*100).data.cpu().numpy()\n",
    "\n",
    "\n",
    "    train_loss = train_loss/len(trainDataLoader)\n",
    "    test_loss = test_loss/len(testDataLoader)\n",
    "    train_accu = train_accuracy/len(trainDataLoader)\n",
    "    test_accu = test_accuracy/len(testDataLoader)\n",
    "    train_loss_history.append(train_loss)\n",
    "    test_loss_history.append(test_loss)\n",
    "    train_accuracy_history.append(train_accu)\n",
    "    test_accuracy_history.append(test_accu)\n",
    "    print('Epoch %s, Train loss %s, Test loss %s, Train accuracy %s, Test accuracy %s, Cost %s s'%(epoch,\n",
    "                                                                                                   train_loss,test_loss,\n",
    "                                                                                                   train_accu,test_accu,\n",
    "                                                                                                   time.time()-timestart))\n",
    "\n",
    "    if epoch % 5 == 0 and epoch != 0:\n",
    "        torch.save({'epoch':epoch,\n",
    "          'model_state_dict':model1.cuda().state_dict(),\n",
    "          'optimizer_state_dict':optimizer.state_dict(),\n",
    "          'Loss':Loss,\n",
    "          'train_loss_history':train_loss_history,\n",
    "          'test_loss_history':test_loss_history,\n",
    "          'train_accuracy_history':train_accuracy_history,\n",
    "          'test_accuracy_history':test_accuracy_history},path)\n",
    "        print('Model saved in epoch %s'%(epoch))"
   ]
  },
  {
   "cell_type": "code",
   "execution_count": 11,
   "metadata": {},
   "outputs": [
    {
     "data": {
      "text/plain": [
       "<matplotlib.legend.Legend at 0x150df26a1f40>"
      ]
     },
     "execution_count": 11,
     "metadata": {},
     "output_type": "execute_result"
    },
    {
     "data": {
      "image/png": "[encoded data removed]",
      "text/plain": [
       "<Figure size 720x360 with 2 Axes>"
      ]
     },
     "metadata": {
      "needs_background": "light"
     },
     "output_type": "display_data"
    }
   ],
   "source": [
    "plt.figure(figsize=(10,5))\n",
    "plt.subplot(1,2,1)\n",
    "plt.plot(range(num_epochs),train_loss_history,'-',linewidth=3,label='Train error')\n",
    "plt.plot(range(num_epochs),test_loss_history,'-',linewidth=3,label='Test error')\n",
    "plt.xlabel('epoch')\n",
    "plt.ylabel('loss')\n",
    "plt.grid(True)\n",
    "plt.legend()\n",
    "\n",
    "plt.subplot(1,2,2)\n",
    "plt.plot(range(num_epochs),train_accuracy_history,'-',linewidth=3,label='Train accuracy')\n",
    "plt.plot(range(num_epochs),test_accuracy_history,'-',linewidth=3,label='Test accuracy')\n",
    "plt.xlabel('epoch')\n",
    "plt.ylabel('accuracy')\n",
    "plt.grid(True)\n",
    "plt.legend()"
   ]
  },
  {
   "cell_type": "code",
   "execution_count": 12,
   "metadata": {},
   "outputs": [
    {
     "name": "stdout",
     "output_type": "stream",
     "text": [
      "Accuracy: 93.30078125\n"
     ]
    }
   ],
   "source": [
    "print('Accuracy:',sum(test_accuracy_history[-5:])/5)"
   ]
  },
  {
   "cell_type": "code",
   "execution_count": null,
   "metadata": {},
   "outputs": [],
   "source": []
  }
 ],
 "metadata": {
  "kernelspec": {
   "display_name": "venv_resnet",
   "language": "python",
   "name": "venv"
  },
  "language_info": {
   "codemirror_mode": {
    "name": "ipython",
    "version": 3
   },
   "file_extension": ".py",
   "mimetype": "text/x-python",
   "name": "python",
   "nbconvert_exporter": "python",
   "pygments_lexer": "ipython3",
   "version": "3.8.3"
  }
 },
 "nbformat": 4,
 "nbformat_minor": 4
}
