{
 "cells": [
  {
   "cell_type": "code",
   "execution_count": 1,
   "metadata": {},
   "outputs": [],
   "source": [
    "import os\n",
    "import time\n",
    "import torch\n",
    "import math\n",
    "import torchvision\n",
    "from torchvision import transforms as transforms\n",
    "from torch import nn\n",
    "from torch.nn import functional as F\n",
    "from math import cos,pi\n",
    "\n",
    "import matplotlib.pyplot as plt\n",
    "import numpy as np\n",
    "import random\n",
    "\n",
    "torch.cuda.empty_cache()"
   ]
  },
  {
   "cell_type": "code",
   "execution_count": 2,
   "metadata": {},
   "outputs": [
    {
     "data": {
      "text/plain": [
       "True"
      ]
     },
     "execution_count": 2,
     "metadata": {},
     "output_type": "execute_result"
    }
   ],
   "source": [
    "torch.cuda.is_available()"
   ]
  },
  {
   "cell_type": "code",
   "execution_count": 3,
   "metadata": {},
   "outputs": [
    {
     "name": "stdout",
     "output_type": "stream",
     "text": [
      "Files already downloaded and verified\n"
     ]
    }
   ],
   "source": [
    "torch.manual_seed(17)\n",
    "torch.cuda.manual_seed_all(17)\n",
    "\n",
    "aug_train = transforms.Compose([\n",
    "    transforms.RandomCrop(32,padding=4,padding_mode='reflect'),\n",
    "    transforms.RandomHorizontalFlip(), # 水平翻转\n",
    "    transforms.ToTensor(),\n",
    "    transforms.Normalize((0.4244, 0.4146, 0.3836), (0.2539, 0.2491, 0.2420)) # normalization\n",
    "    ])\n",
    "\n",
    "aug_test = transforms.Compose([\n",
    "    transforms.ToTensor(),\n",
    "    transforms.Normalize((0.4244, 0.4146, 0.3836), (0.2539, 0.2491, 0.2420)) # normalization\n",
    "    ])\n",
    "\n",
    "trainingdata = torchvision.datasets.CIFAR10('./CIFAR10',train=True,download=True,transform=aug_train)\n",
    "# testdata = torchvision.datasets.CIFAR10('./CIFAR10',train=False,download=True,transform=transforms.ToTensor())\n",
    "# print(len(trainingdata),len(testdata))"
   ]
  },
  {
   "cell_type": "code",
   "execution_count": 4,
   "metadata": {},
   "outputs": [
    {
     "name": "stdout",
     "output_type": "stream",
     "text": [
      "Files already downloaded and verified\n",
      "Files already downloaded and verified\n"
     ]
    }
   ],
   "source": [
    "def load_data(is_train,aug,batch_size):\n",
    "    dataset = torchvision.datasets.CIFAR10('./CIFAR10',train=is_train,download=True,transform=aug)\n",
    "    dataloader = torch.utils.data.DataLoader(dataset,batch_size=batch_size,shuffle=is_train)\n",
    "    return dataloader\n",
    "\n",
    "batch_size = 128 # param\n",
    "trainDataLoader = load_data(is_train=True,aug=aug_train,batch_size=batch_size)\n",
    "testDataLoader = load_data(is_train=False,aug=aug_test,batch_size=batch_size)"
   ]
  },
  {
   "cell_type": "code",
   "execution_count": 5,
   "metadata": {},
   "outputs": [
    {
     "name": "stderr",
     "output_type": "stream",
     "text": [
      "Clipping input data to the valid range for imshow with RGB data ([0..1] for floats or [0..255] for integers).\n"
     ]
    },
    {
     "name": "stdout",
     "output_type": "stream",
     "text": [
      "torch.Size([3, 32, 32]) 6\n"
     ]
    },
    {
     "data": {
      "image/png": "[encoded data removed]",
      "text/plain": [
       "<Figure size 432x288 with 1 Axes>"
      ]
     },
     "metadata": {
      "needs_background": "light"
     },
     "output_type": "display_data"
    }
   ],
   "source": [
    "classes = ['plane', 'car', 'bird', 'cat', 'deer', 'dog', 'frog', 'horse', 'ship', 'truck']\n",
    "\n",
    "image,label = trainingdata[0]\n",
    "print(image.shape, label)\n",
    "\n",
    "%matplotlib inline\n",
    "plt.imshow(image.numpy().transpose(1,2,0))\n",
    "plt.title(str(classes[label]))\n",
    "plt.show()"
   ]
  },
  {
   "cell_type": "code",
   "execution_count": 6,
   "metadata": {},
   "outputs": [],
   "source": [
    "class BasicBlock(nn.Module):\n",
    "\n",
    "    def __init__(self, in_planes, planes, stride=1):\n",
    "        super(BasicBlock, self).__init__()\n",
    "        self.conv1 = nn.Conv2d(\n",
    "            in_planes, planes, kernel_size=3, stride=stride, padding=1, bias=False)\n",
    "        self.bn1 = nn.BatchNorm2d(planes)\n",
    "        self.conv2 = nn.Conv2d(planes, planes, kernel_size=3,\n",
    "                               stride=1, padding=1, bias=False)\n",
    "        self.dropout = nn.Dropout(p=0.25) # dropout\n",
    "        self.bn2 = nn.BatchNorm2d(planes)\n",
    "\n",
    "        self.shortcut = nn.Sequential()\n",
    "        if stride != 1 or in_planes != planes:\n",
    "            self.shortcut = nn.Sequential(\n",
    "                nn.Conv2d(in_planes, planes,\n",
    "                          kernel_size=1, stride=stride, bias=False),\n",
    "                nn.BatchNorm2d(planes)\n",
    "            )\n",
    "\n",
    "    def forward(self, x):\n",
    "        out = F.relu(self.bn1(self.conv1(x)))\n",
    "        out = self.dropout(out) # dropour\n",
    "        out = self.bn2(self.conv2(out))\n",
    "        out += self.shortcut(x)\n",
    "        out = F.relu(out)\n",
    "        return out\n",
    "\n",
    "\n",
    "\n",
    "class ResNet(nn.Module):\n",
    "    def __init__(self, block, num_blocks, num_classes=10):\n",
    "        super(ResNet, self).__init__()\n",
    "        self.in_planes = 64\n",
    "\n",
    "        self.conv1 = nn.Conv2d(3, 64, kernel_size=3,\n",
    "                               stride=1, padding=1, bias=False)\n",
    "        self.bn1 = nn.BatchNorm2d(64)\n",
    "        self.layer1 = self._make_layer(block, 64, num_blocks[0], stride=1)\n",
    "        self.layer2 = self._make_layer(block, 128, num_blocks[1], stride=2)\n",
    "        self.layer3 = self._make_layer(block, 256, num_blocks[2], stride=2)\n",
    "#         self.layer4 = self._make_layer(block, 512, num_blocks[3], stride=2)\n",
    "        self.linear = nn.Linear(1024, num_classes)\n",
    "\n",
    "    def _make_layer(self, block, planes, num_blocks, stride):\n",
    "        strides = [stride] + [1]*(num_blocks-1)\n",
    "        layers = []\n",
    "        for stride in strides:\n",
    "            layers.append(block(self.in_planes, planes, stride))\n",
    "            self.in_planes = planes\n",
    "        return nn.Sequential(*layers)\n",
    "\n",
    "    def forward(self, x):\n",
    "#         print(x.shape)\n",
    "        out = F.relu(self.bn1(self.conv1(x)))\n",
    "#         print(out.shape)\n",
    "        out = self.layer1(out)\n",
    "#         print(out.shape)\n",
    "        out = self.layer2(out)\n",
    "#         print(out.shape)\n",
    "        out = self.layer3(out)\n",
    "#         print(out.shape)\n",
    "#         out = self.layer4(out)\n",
    "        out = F.avg_pool2d(out, 4)\n",
    "#         print(out.shape)\n",
    "        out = out.view(out.size(0), -1)\n",
    "#         print(out.shape)\n",
    "        out = self.linear(out)\n",
    "        return out\n",
    "    \n",
    "    def init_weights(self):\n",
    "        for m in self.modules():\n",
    "            if isinstance(m,nn.Conv2d):\n",
    "                nn.init.kaiming_normal_(m.weight,mode='fan_out',nonlinearity='relu') # weight initialization\n",
    "                if m.bias is not None:\n",
    "                    nn.init.constant_(m.bias,0)\n",
    "            elif isinstance(m,nn.BatchNorm2d):\n",
    "                nn.init.constant_(m.weight,1)\n",
    "                nn.init.constant_(m.bias,0)\n",
    "            elif isinstance(m,nn.Linear):\n",
    "                nn.init.normal_(m.weight,std=1e-3)\n",
    "                if m.bias is not None:\n",
    "                    nn.init.constant_(m.bias,0)\n",
    "\n",
    "def project1_model():\n",
    "#     return ResNet(BasicBlock, [2, 2, 2, 2])\n",
    "    return ResNet(BasicBlock, [3, 3, 3])\n",
    "\n",
    "# model1 = nn.Sequential(project1_model(), nn.AdaptiveAvgPool2d((1,1)), nn.Flatten(), nn.Linear(512, 10)).cuda()\n",
    "model1 = project1_model().cuda()\n",
    "model1.init_weights()"
   ]
  },
  {
   "cell_type": "code",
   "execution_count": 7,
   "metadata": {},
   "outputs": [
    {
     "name": "stdout",
     "output_type": "stream",
     "text": [
      "4335434\n"
     ]
    }
   ],
   "source": [
    "def count_parameters(model):\n",
    "    return sum(p.numel() for p in model.parameters() if p.requires_grad)\n",
    "    # torch.numel() returns number of elements in a tensor\n",
    "\n",
    "print(count_parameters(model1))"
   ]
  },
  {
   "cell_type": "code",
   "execution_count": 8,
   "metadata": {},
   "outputs": [],
   "source": [
    "# X = torch.rand(size=(1, 3, 32, 32)).cuda()\n",
    "# for layer in model1:\n",
    "#   X = layer(X)\n",
    "#   print(layer.__class__.__name__,'output shape:\\t', X.shape)"
   ]
  },
  {
   "cell_type": "code",
   "execution_count": 9,
   "metadata": {},
   "outputs": [],
   "source": [
    "def adjust_learning_rate(optimizer, current_epoch,max_epoch,lr_min=0,lr_max=0.1,warmup=True):\n",
    "    warmup_epoch = 10 if warmup else 0\n",
    "    if current_epoch < warmup_epoch:\n",
    "        lr = lr_max * current_epoch / warmup_epoch\n",
    "    else:\n",
    "        lr = lr_min + (lr_max-lr_min)*(1 + cos(pi * (current_epoch - warmup_epoch) / (max_epoch - warmup_epoch))) / 2\n",
    "    for param_group in optimizer.param_groups:\n",
    "        param_group['lr'] = lr"
   ]
  },
  {
   "cell_type": "code",
   "execution_count": 10,
   "metadata": {
    "scrolled": true
   },
   "outputs": [
    {
     "name": "stdout",
     "output_type": "stream",
     "text": [
      "Read model from checkpoint\n",
      "Restart from epoch 355\n",
      "Epoch 356, Train loss 0.00034053134333099475, Test loss 0.42359471981283986, Train accuracy 99.9880115089514, Test accuracy 94.24446202531645, Cost 115.12000608444214 s\n",
      "Epoch 357, Train loss 0.0006030229679762655, Test loss 0.42547488222016566, Train accuracy 99.98201726342711, Test accuracy 94.2246835443038, Cost 114.89607286453247 s\n",
      "Epoch 358, Train loss 0.0006843138671648047, Test loss 0.4199181992702092, Train accuracy 99.97402493606138, Test accuracy 94.1554588607595, Cost 116.79599595069885 s\n",
      "Epoch 359, Train loss 0.0005313477008062806, Test loss 0.4244994752203362, Train accuracy 99.9880115089514, Test accuracy 94.18512658227849, Cost 114.18080139160156 s\n",
      "Epoch 360, Train loss 0.0005412188660674325, Test loss 0.4299287170266049, Train accuracy 99.98401534526855, Test accuracy 94.23457278481013, Cost 115.34797644615173 s\n",
      "Model saved in epoch 360\n",
      "Epoch 361, Train loss 0.0004793418112115414, Test loss 0.43445225606990767, Train accuracy 99.98401534526855, Test accuracy 94.21479430379746, Cost 113.69757056236267 s\n",
      "Epoch 362, Train loss 0.0005834951255060198, Test loss 0.415273514493734, Train accuracy 99.97602301790282, Test accuracy 94.38291139240506, Cost 112.36429643630981 s\n",
      "Epoch 363, Train loss 0.0004267479990179269, Test loss 0.42132359370589256, Train accuracy 99.9880115089514, Test accuracy 94.30379746835443, Cost 116.25023150444031 s\n",
      "Epoch 364, Train loss 0.000491429780579362, Test loss 0.422437726838302, Train accuracy 99.98001918158567, Test accuracy 94.27412974683544, Cost 115.27032113075256 s\n",
      "Epoch 365, Train loss 0.00040848646423469605, Test loss 0.42524440798767005, Train accuracy 99.98601342710998, Test accuracy 94.37302215189874, Cost 112.36757802963257 s\n",
      "Model saved in epoch 365\n",
      "Epoch 366, Train loss 0.00043574465304241047, Test loss 0.42091264448399784, Train accuracy 99.9880115089514, Test accuracy 94.28401898734177, Cost 113.85902643203735 s\n",
      "Epoch 367, Train loss 0.00040647419228802473, Test loss 0.41794707413904275, Train accuracy 99.9880115089514, Test accuracy 94.38291139240506, Cost 116.54311919212341 s\n",
      "Epoch 368, Train loss 0.0005083911685565953, Test loss 0.4195934422314167, Train accuracy 99.98401534526855, Test accuracy 94.27412974683544, Cost 116.66999101638794 s\n",
      "Epoch 369, Train loss 0.0004113057361379865, Test loss 0.42371011110423484, Train accuracy 99.99400575447571, Test accuracy 94.32357594936708, Cost 113.2270770072937 s\n",
      "Epoch 370, Train loss 0.0005154182230133702, Test loss 0.42748074662647667, Train accuracy 99.9880115089514, Test accuracy 94.30379746835443, Cost 113.09610199928284 s\n",
      "Model saved in epoch 370\n",
      "Epoch 371, Train loss 0.000500729802004343, Test loss 0.4185285094323792, Train accuracy 99.97802109974424, Test accuracy 94.34335443037975, Cost 113.54814147949219 s\n",
      "Epoch 372, Train loss 0.0003475189585309033, Test loss 0.41621381171707866, Train accuracy 99.99200767263427, Test accuracy 94.28401898734177, Cost 114.12597894668579 s\n",
      "Epoch 373, Train loss 0.0002913604672290886, Test loss 0.4180216627973544, Train accuracy 99.99400575447571, Test accuracy 94.26424050632912, Cost 116.64082455635071 s\n",
      "Epoch 374, Train loss 0.00035181796369809613, Test loss 0.41825802975534637, Train accuracy 99.99000959079284, Test accuracy 94.27412974683544, Cost 115.3852927684784 s\n",
      "Epoch 375, Train loss 0.00047742353758182854, Test loss 0.42035483210524427, Train accuracy 99.99000959079284, Test accuracy 94.24446202531645, Cost 107.44068241119385 s\n",
      "Model saved in epoch 375\n",
      "Epoch 376, Train loss 0.0004376560751837986, Test loss 0.4203462062898693, Train accuracy 99.98401534526855, Test accuracy 94.33346518987342, Cost 114.93343424797058 s\n",
      "Epoch 377, Train loss 0.00022801452971022668, Test loss 0.4194045011661475, Train accuracy 99.99800191815856, Test accuracy 94.34335443037975, Cost 114.07095956802368 s\n",
      "Epoch 378, Train loss 0.00035512476593499876, Test loss 0.4229415721625467, Train accuracy 99.99400575447571, Test accuracy 94.26424050632912, Cost 113.35450220108032 s\n",
      "Epoch 379, Train loss 0.0004542244562806002, Test loss 0.4259185767909394, Train accuracy 99.98001918158567, Test accuracy 94.27412974683544, Cost 117.28608179092407 s\n",
      "Epoch 380, Train loss 0.0003363231604300746, Test loss 0.42462897845367087, Train accuracy 99.99000959079284, Test accuracy 94.21479430379746, Cost 112.59121489524841 s\n",
      "Model saved in epoch 380\n",
      "Epoch 381, Train loss 0.00028930338520695805, Test loss 0.42868581626422797, Train accuracy 99.99000959079284, Test accuracy 94.31368670886076, Cost 115.12872362136841 s\n",
      "Epoch 382, Train loss 0.0005728301076622027, Test loss 0.42613290938772735, Train accuracy 99.98001918158567, Test accuracy 94.32357594936708, Cost 114.23433518409729 s\n",
      "Epoch 383, Train loss 0.00026803519799692654, Test loss 0.4278829943247234, Train accuracy 99.99400575447571, Test accuracy 94.31368670886076, Cost 116.49479651451111 s\n",
      "Epoch 384, Train loss 0.0002286354275655643, Test loss 0.42694044565852685, Train accuracy 99.99000959079284, Test accuracy 94.32357594936708, Cost 115.34375739097595 s\n",
      "Epoch 385, Train loss 0.0001795409229464498, Test loss 0.4244591869838253, Train accuracy 99.99600383631713, Test accuracy 94.30379746835443, Cost 114.024484872818 s\n",
      "Model saved in epoch 385\n",
      "Epoch 386, Train loss 0.00033669301518848165, Test loss 0.42753901426927954, Train accuracy 99.9880115089514, Test accuracy 94.34335443037975, Cost 114.7807948589325 s\n",
      "Epoch 387, Train loss 0.0003378297810157361, Test loss 0.4325477809326935, Train accuracy 99.98601342710998, Test accuracy 94.26424050632912, Cost 114.14575791358948 s\n",
      "Epoch 388, Train loss 0.00018931976709809486, Test loss 0.42451062791426725, Train accuracy 99.99400575447571, Test accuracy 94.41257911392405, Cost 110.49052238464355 s\n",
      "Epoch 389, Train loss 0.0002923133523402265, Test loss 0.42755371530221986, Train accuracy 99.99200767263427, Test accuracy 94.31368670886076, Cost 113.2500114440918 s\n",
      "Epoch 390, Train loss 0.0001743412822576993, Test loss 0.4271910109946245, Train accuracy 99.99600383631713, Test accuracy 94.26424050632912, Cost 115.5597620010376 s\n",
      "Model saved in epoch 390\n",
      "Epoch 391, Train loss 0.0001759238598961595, Test loss 0.42812540945655936, Train accuracy 99.99800191815856, Test accuracy 94.31368670886076, Cost 116.26728177070618 s\n",
      "Epoch 392, Train loss 0.00020285336812508143, Test loss 0.42962040087278885, Train accuracy 99.99400575447571, Test accuracy 94.30379746835443, Cost 114.02075791358948 s\n",
      "Epoch 393, Train loss 0.00018375228427537556, Test loss 0.42899246108305605, Train accuracy 99.99400575447571, Test accuracy 94.4323575949367, Cost 116.69859862327576 s\n",
      "Epoch 394, Train loss 0.0002207401283077711, Test loss 0.4264968926016289, Train accuracy 99.99400575447571, Test accuracy 94.34335443037975, Cost 112.41966438293457 s\n",
      "Epoch 395, Train loss 0.00025472270288350794, Test loss 0.42572024002482617, Train accuracy 99.99000959079284, Test accuracy 94.33346518987342, Cost 114.07589197158813 s\n",
      "Model saved in epoch 395\n",
      "Epoch 396, Train loss 0.00025643180813252693, Test loss 0.42643648074774804, Train accuracy 99.99400575447571, Test accuracy 94.30379746835443, Cost 114.99539160728455 s\n",
      "Epoch 397, Train loss 0.00018559192416420567, Test loss 0.41799135473144206, Train accuracy 99.99200767263427, Test accuracy 94.47191455696202, Cost 115.32570171356201 s\n",
      "Epoch 398, Train loss 0.0002758426166357003, Test loss 0.4258069457792783, Train accuracy 99.99400575447571, Test accuracy 94.24446202531645, Cost 113.44073963165283 s\n",
      "Epoch 399, Train loss 0.0002361169463214214, Test loss 0.42474641957426373, Train accuracy 99.99200767263427, Test accuracy 94.30379746835443, Cost 115.20178055763245 s\n",
      "Epoch 400, Train loss 0.00016410324190446363, Test loss 0.42312397977596594, Train accuracy 99.99600383631713, Test accuracy 94.33346518987342, Cost 112.71012377738953 s\n",
      "Model saved in epoch 400\n",
      "Epoch 401, Train loss 0.0002464749601217544, Test loss 0.42082911885426016, Train accuracy 99.99600383631713, Test accuracy 94.34335443037975, Cost 114.32535362243652 s\n",
      "Epoch 402, Train loss 0.00016318610106893898, Test loss 0.42280400226104864, Train accuracy 99.99800191815856, Test accuracy 94.35324367088607, Cost 111.90519309043884 s\n"
     ]
    },
    {
     "name": "stdout",
     "output_type": "stream",
     "text": [
      "Epoch 403, Train loss 0.0001353119102581357, Test loss 0.42057969982299626, Train accuracy 99.99800191815856, Test accuracy 94.39280063291139, Cost 114.29619288444519 s\n",
      "Epoch 404, Train loss 0.0002039003024410855, Test loss 0.4273772758867922, Train accuracy 99.99400575447571, Test accuracy 94.34335443037975, Cost 109.99798655509949 s\n",
      "Epoch 405, Train loss 0.00014879559791717024, Test loss 0.4233210672730509, Train accuracy 99.99600383631713, Test accuracy 94.2939082278481, Cost 114.16691017150879 s\n",
      "Model saved in epoch 405\n",
      "Epoch 406, Train loss 0.00025128284344422497, Test loss 0.4245850398099121, Train accuracy 99.99400575447571, Test accuracy 94.41257911392405, Cost 114.27403163909912 s\n",
      "Epoch 407, Train loss 7.698191199652332e-05, Test loss 0.4253999356274741, Train accuracy 100.0, Test accuracy 94.34335443037975, Cost 116.9285261631012 s\n",
      "Epoch 408, Train loss 0.00018049026867307275, Test loss 0.4208140575055835, Train accuracy 99.99800191815856, Test accuracy 94.33346518987342, Cost 115.38835787773132 s\n",
      "Epoch 409, Train loss 0.00012873976051176741, Test loss 0.42398050340199017, Train accuracy 100.0, Test accuracy 94.37302215189874, Cost 113.35209131240845 s\n",
      "Epoch 410, Train loss 0.00017909401134135126, Test loss 0.42055130667418616, Train accuracy 99.99680306905371, Test accuracy 94.42246835443038, Cost 114.14097213745117 s\n",
      "Model saved in epoch 410\n",
      "Epoch 411, Train loss 0.00018789651529716838, Test loss 0.4222437614174206, Train accuracy 99.99600383631713, Test accuracy 94.34335443037975, Cost 111.90095353126526 s\n",
      "Epoch 412, Train loss 0.00016993673121171434, Test loss 0.4229706369953442, Train accuracy 99.99600383631713, Test accuracy 94.32357594936708, Cost 114.21496200561523 s\n",
      "Epoch 413, Train loss 0.00028214408577033085, Test loss 0.42879396509614925, Train accuracy 99.9880115089514, Test accuracy 94.28401898734177, Cost 114.85767841339111 s\n",
      "Epoch 414, Train loss 0.0001359331004432756, Test loss 0.42955576369090925, Train accuracy 99.99800191815856, Test accuracy 94.23457278481013, Cost 115.59803009033203 s\n",
      "Epoch 415, Train loss 0.0001785582333922358, Test loss 0.4254949802792148, Train accuracy 99.99400575447571, Test accuracy 94.33346518987342, Cost 116.02989840507507 s\n",
      "Model saved in epoch 415\n",
      "Epoch 416, Train loss 0.0001433906612465754, Test loss 0.42452010488774206, Train accuracy 99.99800191815856, Test accuracy 94.24446202531645, Cost 115.16963529586792 s\n",
      "Epoch 417, Train loss 0.00025468718926894787, Test loss 0.42665311444220666, Train accuracy 99.99400575447571, Test accuracy 94.31368670886076, Cost 111.85977578163147 s\n",
      "Epoch 418, Train loss 0.00017131239663155119, Test loss 0.42676317519685136, Train accuracy 99.99600383631713, Test accuracy 94.27412974683544, Cost 116.13982129096985 s\n",
      "Epoch 419, Train loss 0.00013662833734916135, Test loss 0.42471871338784695, Train accuracy 99.99800191815856, Test accuracy 94.25435126582279, Cost 112.13077926635742 s\n",
      "Epoch 420, Train loss 0.00027241409045103854, Test loss 0.4254624660162232, Train accuracy 99.9880115089514, Test accuracy 94.30379746835443, Cost 116.19395875930786 s\n",
      "Model saved in epoch 420\n",
      "Epoch 421, Train loss 0.00023874778536981913, Test loss 0.4304675937311936, Train accuracy 99.99600383631713, Test accuracy 94.20490506329114, Cost 116.65307927131653 s\n",
      "Epoch 422, Train loss 0.00010587057359120561, Test loss 0.42992998537006255, Train accuracy 99.99800191815856, Test accuracy 94.24446202531645, Cost 113.28502368927002 s\n",
      "Epoch 423, Train loss 0.00014164262046656952, Test loss 0.4284288104199156, Train accuracy 99.99800191815856, Test accuracy 94.26424050632912, Cost 114.90324401855469 s\n",
      "Epoch 424, Train loss 0.00013473511893144177, Test loss 0.42970679926721356, Train accuracy 99.99800191815856, Test accuracy 94.2939082278481, Cost 110.34094095230103 s\n",
      "Epoch 425, Train loss 0.000217874830641247, Test loss 0.4214264573883029, Train accuracy 99.99200767263427, Test accuracy 94.2939082278481, Cost 109.67728185653687 s\n",
      "Model saved in epoch 425\n",
      "Epoch 426, Train loss 0.00015745173695681512, Test loss 0.4275222446745898, Train accuracy 99.99600383631713, Test accuracy 94.2246835443038, Cost 115.76346683502197 s\n",
      "Epoch 427, Train loss 0.00017747263974400066, Test loss 0.42774724965042704, Train accuracy 99.99800191815856, Test accuracy 94.30379746835443, Cost 114.80846881866455 s\n",
      "Epoch 428, Train loss 0.00031296875048897945, Test loss 0.42609746009111404, Train accuracy 99.99000959079284, Test accuracy 94.26424050632912, Cost 115.30449771881104 s\n",
      "Epoch 429, Train loss 0.0002166951388592643, Test loss 0.4276205772604746, Train accuracy 99.9880115089514, Test accuracy 94.26424050632912, Cost 115.01717758178711 s\n",
      "Epoch 430, Train loss 0.00014171570771369176, Test loss 0.42526592462783375, Train accuracy 99.99800191815856, Test accuracy 94.28401898734177, Cost 114.56205296516418 s\n",
      "Model saved in epoch 430\n",
      "Epoch 431, Train loss 0.00020601043797803862, Test loss 0.4293964850138637, Train accuracy 99.99400575447571, Test accuracy 94.27412974683544, Cost 115.57642912864685 s\n",
      "Epoch 432, Train loss 0.0002042971682982688, Test loss 0.4319470393695409, Train accuracy 99.99400575447571, Test accuracy 94.2246835443038, Cost 115.04100251197815 s\n",
      "Epoch 433, Train loss 0.00014448911527128555, Test loss 0.42936205741348143, Train accuracy 100.0, Test accuracy 94.23457278481013, Cost 116.50705337524414 s\n",
      "Epoch 434, Train loss 0.00020652345182270437, Test loss 0.42505818817623053, Train accuracy 99.99000959079284, Test accuracy 94.28401898734177, Cost 116.72243165969849 s\n",
      "Epoch 435, Train loss 0.000127811147132657, Test loss 0.43341746134094045, Train accuracy 100.0, Test accuracy 94.30379746835443, Cost 110.64911651611328 s\n",
      "Model saved in epoch 435\n",
      "Epoch 436, Train loss 9.826215781998172e-05, Test loss 0.4240259457662513, Train accuracy 99.99800191815856, Test accuracy 94.38291139240506, Cost 116.63211059570312 s\n",
      "Epoch 437, Train loss 0.0002072178417344813, Test loss 0.4264495524377385, Train accuracy 99.99200767263427, Test accuracy 94.31368670886076, Cost 114.40028595924377 s\n",
      "Epoch 438, Train loss 8.808502888734908e-05, Test loss 0.4260949105071493, Train accuracy 100.0, Test accuracy 94.25435126582279, Cost 114.12599968910217 s\n",
      "Epoch 439, Train loss 0.00022193041028724, Test loss 0.433033340032908, Train accuracy 99.99400575447571, Test accuracy 94.31368670886076, Cost 115.95338439941406 s\n",
      "Epoch 440, Train loss 0.0002273468592053675, Test loss 0.43502413210329377, Train accuracy 99.99000959079284, Test accuracy 94.31368670886076, Cost 114.79324340820312 s\n",
      "Model saved in epoch 440\n",
      "Epoch 441, Train loss 0.00015689584374779914, Test loss 0.4342365920708715, Train accuracy 99.99800191815856, Test accuracy 94.32357594936708, Cost 115.27314805984497 s\n",
      "Epoch 442, Train loss 9.578355031447461e-05, Test loss 0.43120352978098997, Train accuracy 100.0, Test accuracy 94.32357594936708, Cost 116.25882244110107 s\n",
      "Epoch 443, Train loss 0.00012758250668868566, Test loss 0.42321219766819024, Train accuracy 99.99800191815856, Test accuracy 94.25435126582279, Cost 115.81420755386353 s\n",
      "Epoch 444, Train loss 0.00019589984195268498, Test loss 0.4332919358216886, Train accuracy 99.99600383631713, Test accuracy 94.2939082278481, Cost 111.22320818901062 s\n",
      "Epoch 445, Train loss 0.00011004937705726133, Test loss 0.4340703848254266, Train accuracy 100.0, Test accuracy 94.31368670886076, Cost 116.00474977493286 s\n",
      "Model saved in epoch 445\n",
      "Epoch 446, Train loss 9.450994188664207e-05, Test loss 0.43131321145198015, Train accuracy 100.0, Test accuracy 94.3631329113924, Cost 110.08853077888489 s\n",
      "Epoch 447, Train loss 0.00018901731329200365, Test loss 0.43340396173769913, Train accuracy 99.99600383631713, Test accuracy 94.28401898734177, Cost 109.83646178245544 s\n",
      "Epoch 448, Train loss 0.0001319016446741077, Test loss 0.43278796480426307, Train accuracy 99.99800191815856, Test accuracy 94.28401898734177, Cost 113.13882637023926 s\n",
      "Epoch 449, Train loss 0.00019944863516429276, Test loss 0.43426220003468324, Train accuracy 99.99600383631713, Test accuracy 94.35324367088607, Cost 115.31493735313416 s\n",
      "Epoch 450, Train loss 0.00012716405594446746, Test loss 0.428181491462113, Train accuracy 100.0, Test accuracy 94.32357594936708, Cost 108.50968408584595 s\n",
      "Model saved in epoch 450\n"
     ]
    },
    {
     "name": "stdout",
     "output_type": "stream",
     "text": [
      "Epoch 451, Train loss 0.00021482521634354557, Test loss 0.4291995247543047, Train accuracy 99.99200767263427, Test accuracy 94.39280063291139, Cost 113.20552015304565 s\n",
      "Epoch 452, Train loss 0.0001393807961221101, Test loss 0.43333878493101535, Train accuracy 99.99800191815856, Test accuracy 94.28401898734177, Cost 114.31597685813904 s\n",
      "Epoch 453, Train loss 0.00010417432968332789, Test loss 0.4332462531408366, Train accuracy 100.0, Test accuracy 94.42246835443038, Cost 115.91610670089722 s\n",
      "Epoch 454, Train loss 0.00011167985591477193, Test loss 0.4319165949650769, Train accuracy 100.0, Test accuracy 94.21479430379746, Cost 115.01512932777405 s\n",
      "Epoch 455, Train loss 0.00018343497685826459, Test loss 0.4345383836970299, Train accuracy 99.99800191815856, Test accuracy 94.28401898734177, Cost 111.08983087539673 s\n",
      "Model saved in epoch 455\n",
      "Epoch 456, Train loss 0.00018907445389676296, Test loss 0.42784322509424216, Train accuracy 99.99600383631713, Test accuracy 94.3631329113924, Cost 110.40573716163635 s\n",
      "Epoch 457, Train loss 0.00012304826334794093, Test loss 0.43401538456872674, Train accuracy 99.99600383631713, Test accuracy 94.30379746835443, Cost 114.91260504722595 s\n",
      "Epoch 458, Train loss 0.00011423269949573924, Test loss 0.4327036179837924, Train accuracy 99.99800191815856, Test accuracy 94.27412974683544, Cost 111.89518666267395 s\n",
      "Epoch 459, Train loss 0.00015079684423820712, Test loss 0.429967389948949, Train accuracy 99.99800191815856, Test accuracy 94.35324367088607, Cost 114.3049955368042 s\n",
      "Epoch 460, Train loss 0.00018272531064613337, Test loss 0.4339584163802711, Train accuracy 99.99600383631713, Test accuracy 94.26424050632912, Cost 115.2691559791565 s\n",
      "Model saved in epoch 460\n",
      "Epoch 461, Train loss 0.00016030588557734018, Test loss 0.43222305350760115, Train accuracy 99.99200767263427, Test accuracy 94.3631329113924, Cost 113.79780864715576 s\n",
      "Epoch 462, Train loss 0.00014423264219869976, Test loss 0.43028433451169656, Train accuracy 99.99800191815856, Test accuracy 94.32357594936708, Cost 115.03135514259338 s\n",
      "Epoch 463, Train loss 0.00018300194361669522, Test loss 0.4357207607053503, Train accuracy 99.99400575447571, Test accuracy 94.27412974683544, Cost 112.17500615119934 s\n",
      "Epoch 464, Train loss 0.00013379728184141325, Test loss 0.4362346804170292, Train accuracy 99.99600383631713, Test accuracy 94.30379746835443, Cost 115.69601392745972 s\n",
      "Epoch 465, Train loss 0.00015745890902832014, Test loss 0.43053609574850227, Train accuracy 99.99800191815856, Test accuracy 94.2939082278481, Cost 115.33006477355957 s\n",
      "Model saved in epoch 465\n",
      "Epoch 466, Train loss 0.00017917089232449962, Test loss 0.4369578908515882, Train accuracy 99.99400575447571, Test accuracy 94.30379746835443, Cost 113.78711080551147 s\n",
      "Epoch 467, Train loss 0.00012307522574362846, Test loss 0.42774704350983794, Train accuracy 99.99800191815856, Test accuracy 94.33346518987342, Cost 113.30386090278625 s\n",
      "Epoch 468, Train loss 0.00014468060020634687, Test loss 0.4333827698108139, Train accuracy 99.99600383631713, Test accuracy 94.27412974683544, Cost 114.71604371070862 s\n",
      "Epoch 469, Train loss 0.0001327241807372708, Test loss 0.4314339916469364, Train accuracy 99.99800191815856, Test accuracy 94.3631329113924, Cost 113.43235564231873 s\n",
      "Epoch 470, Train loss 0.00011836924644961188, Test loss 0.429367705943841, Train accuracy 99.99800191815856, Test accuracy 94.34335443037975, Cost 115.95859575271606 s\n",
      "Model saved in epoch 470\n",
      "Epoch 471, Train loss 0.0002281677521859933, Test loss 0.4341156837070667, Train accuracy 99.99400575447571, Test accuracy 94.2939082278481, Cost 114.9494264125824 s\n",
      "Epoch 472, Train loss 0.00012652764331500517, Test loss 0.431486171564158, Train accuracy 99.99800191815856, Test accuracy 94.28401898734177, Cost 115.82182598114014 s\n",
      "Epoch 473, Train loss 0.00012823140616495998, Test loss 0.43450341258150865, Train accuracy 99.99800191815856, Test accuracy 94.25435126582279, Cost 115.47899556159973 s\n",
      "Epoch 474, Train loss 0.00021758818521691486, Test loss 0.43209852238150337, Train accuracy 99.99600383631713, Test accuracy 94.31368670886076, Cost 116.1127188205719 s\n",
      "Epoch 475, Train loss 9.5079680408519e-05, Test loss 0.42891178129217294, Train accuracy 100.0, Test accuracy 94.26424050632912, Cost 114.62451076507568 s\n",
      "Model saved in epoch 475\n",
      "Epoch 476, Train loss 0.00014765694084831088, Test loss 0.4344045241846691, Train accuracy 99.99600383631713, Test accuracy 94.24446202531645, Cost 112.57127571105957 s\n",
      "Epoch 477, Train loss 0.0001286099819910475, Test loss 0.437626666802017, Train accuracy 99.99800191815856, Test accuracy 94.31368670886076, Cost 111.31025052070618 s\n",
      "Epoch 478, Train loss 0.0003066784908278461, Test loss 0.42985435996110305, Train accuracy 99.99200767263427, Test accuracy 94.39280063291139, Cost 113.59123706817627 s\n",
      "Epoch 479, Train loss 0.00015470507326770854, Test loss 0.43567559140722584, Train accuracy 99.99600383631713, Test accuracy 94.34335443037975, Cost 115.6404983997345 s\n",
      "Epoch 480, Train loss 0.00012633927711850707, Test loss 0.43348360389376744, Train accuracy 99.99600383631713, Test accuracy 94.26424050632912, Cost 114.77398014068604 s\n",
      "Model saved in epoch 480\n",
      "Epoch 481, Train loss 0.00011582217493918875, Test loss 0.4309744073337392, Train accuracy 99.99800191815856, Test accuracy 94.33346518987342, Cost 114.91771697998047 s\n",
      "Epoch 482, Train loss 7.658755501525692e-05, Test loss 0.43095349921267245, Train accuracy 100.0, Test accuracy 94.2939082278481, Cost 114.69507837295532 s\n",
      "Epoch 483, Train loss 0.00018059098304903768, Test loss 0.42920393315202826, Train accuracy 99.99800191815856, Test accuracy 94.3631329113924, Cost 113.75275683403015 s\n",
      "Epoch 484, Train loss 0.0001871721735221069, Test loss 0.4328060475284163, Train accuracy 99.99600383631713, Test accuracy 94.2939082278481, Cost 111.24561023712158 s\n",
      "Epoch 485, Train loss 0.00016360797338038223, Test loss 0.43422031324781196, Train accuracy 99.99600383631713, Test accuracy 94.28401898734177, Cost 113.80745887756348 s\n",
      "Model saved in epoch 485\n",
      "Epoch 486, Train loss 0.00020109942406476482, Test loss 0.43198697615556325, Train accuracy 99.99600383631713, Test accuracy 94.37302215189874, Cost 114.41749787330627 s\n",
      "Epoch 487, Train loss 0.0002119941579938446, Test loss 0.4288210489704639, Train accuracy 99.99200767263427, Test accuracy 94.35324367088607, Cost 117.41249489784241 s\n",
      "Epoch 488, Train loss 9.187618688567031e-05, Test loss 0.43183747089550467, Train accuracy 100.0, Test accuracy 94.42246835443038, Cost 115.8792953491211 s\n",
      "Epoch 489, Train loss 0.00015377435818252666, Test loss 0.4316329169499723, Train accuracy 99.99600383631713, Test accuracy 94.23457278481013, Cost 116.59469962120056 s\n",
      "Epoch 490, Train loss 0.00015039632189543152, Test loss 0.4311335380130176, Train accuracy 99.99200767263427, Test accuracy 94.24446202531645, Cost 110.30416512489319 s\n",
      "Model saved in epoch 490\n",
      "Epoch 491, Train loss 0.00011855349914426393, Test loss 0.43273637288167505, Train accuracy 99.99800191815856, Test accuracy 94.2939082278481, Cost 114.29156279563904 s\n",
      "Epoch 492, Train loss 0.000207131602991603, Test loss 0.4300361207179442, Train accuracy 99.99200767263427, Test accuracy 94.35324367088607, Cost 113.92929530143738 s\n",
      "Epoch 493, Train loss 0.00018877351479983461, Test loss 0.4307660827578246, Train accuracy 99.99600383631713, Test accuracy 94.30379746835443, Cost 114.52267718315125 s\n",
      "Epoch 494, Train loss 0.00013550579493389303, Test loss 0.42815319507653954, Train accuracy 99.99600383631713, Test accuracy 94.32357594936708, Cost 114.64485096931458 s\n",
      "Epoch 495, Train loss 6.063306584102691e-05, Test loss 0.43129838585759267, Train accuracy 100.0, Test accuracy 94.2939082278481, Cost 114.0716118812561 s\n",
      "Model saved in epoch 495\n",
      "Epoch 496, Train loss 0.00017877570607502128, Test loss 0.42852124489277976, Train accuracy 99.99600383631713, Test accuracy 94.3631329113924, Cost 113.29827857017517 s\n",
      "Epoch 497, Train loss 7.559299133278653e-05, Test loss 0.43220260942095445, Train accuracy 100.0, Test accuracy 94.32357594936708, Cost 113.45030951499939 s\n",
      "Epoch 498, Train loss 0.00020611944035557248, Test loss 0.430325171615504, Train accuracy 99.99400575447571, Test accuracy 94.31368670886076, Cost 116.03302311897278 s\n"
     ]
    },
    {
     "name": "stdout",
     "output_type": "stream",
     "text": [
      "Epoch 499, Train loss 0.0001442200514131512, Test loss 0.4331046433977877, Train accuracy 99.99800191815856, Test accuracy 94.33346518987342, Cost 113.38589644432068 s\n",
      "Epoch 500, Train loss 0.0001346511169109116, Test loss 0.43319692199790405, Train accuracy 99.99600383631713, Test accuracy 94.39280063291139, Cost 110.76786589622498 s\n",
      "Model saved in epoch 500\n"
     ]
    }
   ],
   "source": [
    "num_epochs = 500 # param\n",
    "epoch_start = 0\n",
    "path = 'resnet_aug_3block_sgd_warmup_consine_batch128_lr01_dropout.pt'\n",
    "\n",
    "train_loss_history = []\n",
    "test_loss_history = []\n",
    "train_accuracy_history = []\n",
    "test_accuracy_history = []\n",
    "\n",
    "Loss = torch.nn.CrossEntropyLoss()\n",
    "\n",
    "lr = 0.1\n",
    "lr_min=0.001\n",
    "momentum = 0.9\n",
    "nesterov = True\n",
    "optimizer = torch.optim.SGD(model1.parameters(),lr=lr,momentum=momentum,nesterov=nesterov)\n",
    "\n",
    "\n",
    "\n",
    "if os.path.exists(path):\n",
    "    checkpoint = torch.load(path)\n",
    "    print('Read model from checkpoint')\n",
    "    model1.cuda().load_state_dict(checkpoint['model_state_dict'])\n",
    "    optimizer.load_state_dict(checkpoint['optimizer_state_dict'])\n",
    "    epoch_start = checkpoint['epoch']\n",
    "    Loss = checkpoint['Loss']\n",
    "    train_loss_history = checkpoint['train_loss_history']\n",
    "    test_loss_history = checkpoint['test_loss_history']\n",
    "    train_accuracy_history = checkpoint['train_accuracy_history']\n",
    "    test_accuracy_history = checkpoint['test_accuracy_history']\n",
    "    print('Restart from epoch',epoch_start)\n",
    "    \n",
    "\n",
    "for epoch in range(epoch_start+1, num_epochs+1):\n",
    "    timestart = time.time()\n",
    "\n",
    "    train_loss = 0.0\n",
    "    test_loss = 0.0\n",
    "    train_accuracy = 0.0\n",
    "    test_accuracy = 0.0\n",
    "\n",
    "    for i, data in enumerate(trainDataLoader):\n",
    "        images, labels = data\n",
    "        images = images.cuda()\n",
    "        labels = labels.cuda()\n",
    "        optimizer.zero_grad()\n",
    "        model1.train()\n",
    "        predicted_output = model1.cuda()(images)\n",
    "        fit = Loss(predicted_output,labels)\n",
    "        fit.backward()\n",
    "        adjust_learning_rate(optimizer=optimizer,current_epoch=epoch,max_epoch=num_epochs,lr_min=lr_min,lr_max=lr,warmup=True)\n",
    "        optimizer.step()\n",
    "        train_loss += fit.item()\n",
    "        train_accuracy += (torch.eq(torch.max(predicted_output,1)[1],labels).sum()/len(labels)*100).data.cpu().numpy()\n",
    "\n",
    "    for i, data in enumerate(testDataLoader):\n",
    "        with torch.no_grad():\n",
    "            images, labels = data\n",
    "            images = images.cuda()\n",
    "            labels = labels.cuda()\n",
    "            model1.eval()\n",
    "            predicted_output = model1.cuda()(images)\n",
    "            fit = Loss(predicted_output,labels)\n",
    "            test_loss += fit.item()\n",
    "            test_accuracy += (torch.eq(torch.max(predicted_output,1)[1],labels).sum()/len(labels)*100).data.cpu().numpy()\n",
    "\n",
    "\n",
    "    train_loss = train_loss/len(trainDataLoader)\n",
    "    test_loss = test_loss/len(testDataLoader)\n",
    "    train_accu = train_accuracy/len(trainDataLoader)\n",
    "    test_accu = test_accuracy/len(testDataLoader)\n",
    "    train_loss_history.append(train_loss)\n",
    "    test_loss_history.append(test_loss)\n",
    "    train_accuracy_history.append(train_accu)\n",
    "    test_accuracy_history.append(test_accu)\n",
    "    print('Epoch %s, Train loss %s, Test loss %s, Train accuracy %s, Test accuracy %s, Cost %s s'%(epoch,\n",
    "                                                                                                   train_loss,test_loss,\n",
    "                                                                                                   train_accu,test_accu,\n",
    "                                                                                                   time.time()-timestart))\n",
    "\n",
    "    if epoch % 5 == 0 and epoch != 0:\n",
    "        torch.save({'epoch':epoch,\n",
    "          'model_state_dict':model1.cuda().state_dict(),\n",
    "          'optimizer_state_dict':optimizer.state_dict(),\n",
    "          'Loss':Loss,\n",
    "          'train_loss_history':train_loss_history,\n",
    "          'test_loss_history':test_loss_history,\n",
    "          'train_accuracy_history':train_accuracy_history,\n",
    "          'test_accuracy_history':test_accuracy_history},path)\n",
    "        print('Model saved in epoch %s'%(epoch))"
   ]
  },
  {
   "cell_type": "code",
   "execution_count": 11,
   "metadata": {},
   "outputs": [
    {
     "data": {
      "text/plain": [
       "<matplotlib.legend.Legend at 0x14d492360700>"
      ]
     },
     "execution_count": 11,
     "metadata": {},
     "output_type": "execute_result"
    },
    {
     "data": {
      "image/png": "[encoded data removed]",
      "text/plain": [
       "<Figure size 720x360 with 2 Axes>"
      ]
     },
     "metadata": {
      "needs_background": "light"
     },
     "output_type": "display_data"
    }
   ],
   "source": [
    "plt.figure(figsize=(10,5))\n",
    "plt.subplot(1,2,1)\n",
    "plt.plot(range(num_epochs),train_loss_history,'-',linewidth=3,label='Train error')\n",
    "plt.plot(range(num_epochs),test_loss_history,'-',linewidth=3,label='Test error')\n",
    "plt.xlabel('epoch')\n",
    "plt.ylabel('loss')\n",
    "plt.grid(True)\n",
    "plt.legend()\n",
    "\n",
    "plt.subplot(1,2,2)\n",
    "plt.plot(range(num_epochs),train_accuracy_history,'-',linewidth=3,label='Train accuracy')\n",
    "plt.plot(range(num_epochs),test_accuracy_history,'-',linewidth=3,label='Test accuracy')\n",
    "plt.xlabel('epoch')\n",
    "plt.ylabel('accuracy')\n",
    "plt.grid(True)\n",
    "plt.legend()"
   ]
  },
  {
   "cell_type": "code",
   "execution_count": 12,
   "metadata": {},
   "outputs": [
    {
     "name": "stdout",
     "output_type": "stream",
     "text": [
      "Accuracy: 94.34533227848101\n"
     ]
    }
   ],
   "source": [
    "print('Accuracy:',sum(test_accuracy_history[-5:])/5)"
   ]
  },
  {
   "cell_type": "code",
   "execution_count": null,
   "metadata": {},
   "outputs": [],
   "source": []
  }
 ],
 "metadata": {
  "kernelspec": {
   "display_name": "venv_resnet",
   "language": "python",
   "name": "venv"
  },
  "language_info": {
   "codemirror_mode": {
    "name": "ipython",
    "version": 3
   },
   "file_extension": ".py",
   "mimetype": "text/x-python",
   "name": "python",
   "nbconvert_exporter": "python",
   "pygments_lexer": "ipython3",
   "version": "3.8.3"
  }
 },
 "nbformat": 4,
 "nbformat_minor": 4
}
