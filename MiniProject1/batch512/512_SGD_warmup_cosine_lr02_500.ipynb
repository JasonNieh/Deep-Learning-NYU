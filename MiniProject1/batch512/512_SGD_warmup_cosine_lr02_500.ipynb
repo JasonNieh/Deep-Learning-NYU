{
 "cells": [
  {
   "cell_type": "code",
   "execution_count": 1,
   "metadata": {},
   "outputs": [],
   "source": [
    "import os\n",
    "import time\n",
    "import torch\n",
    "import math\n",
    "import torchvision\n",
    "from torchvision import transforms as transforms\n",
    "from torch import nn\n",
    "from torch.nn import functional as F\n",
    "from math import cos,pi\n",
    "\n",
    "import matplotlib.pyplot as plt\n",
    "import numpy as np\n",
    "import random\n",
    "\n",
    "torch.cuda.empty_cache()"
   ]
  },
  {
   "cell_type": "code",
   "execution_count": 2,
   "metadata": {},
   "outputs": [
    {
     "data": {
      "text/plain": [
       "True"
      ]
     },
     "execution_count": 2,
     "metadata": {},
     "output_type": "execute_result"
    }
   ],
   "source": [
    "torch.cuda.is_available()"
   ]
  },
  {
   "cell_type": "code",
   "execution_count": 3,
   "metadata": {},
   "outputs": [
    {
     "name": "stdout",
     "output_type": "stream",
     "text": [
      "Files already downloaded and verified\n"
     ]
    }
   ],
   "source": [
    "torch.manual_seed(17)\n",
    "torch.cuda.manual_seed_all(17)\n",
    "\n",
    "aug_train = transforms.Compose([\n",
    "    transforms.RandomCrop(32,padding=4,padding_mode='reflect'),\n",
    "    transforms.RandomHorizontalFlip(), # 水平翻转\n",
    "    transforms.ToTensor(),\n",
    "    transforms.Normalize((0.4244, 0.4146, 0.3836), (0.2539, 0.2491, 0.2420)) # normalization\n",
    "    ])\n",
    "\n",
    "aug_test = transforms.Compose([\n",
    "    transforms.ToTensor(),\n",
    "    transforms.Normalize((0.4244, 0.4146, 0.3836), (0.2539, 0.2491, 0.2420)) # normalization\n",
    "    ])\n",
    "\n",
    "trainingdata = torchvision.datasets.CIFAR10('./CIFAR10',train=True,download=True,transform=aug_train)\n",
    "# testdata = torchvision.datasets.CIFAR10('./CIFAR10',train=False,download=True,transform=transforms.ToTensor())\n",
    "# print(len(trainingdata),len(testdata))"
   ]
  },
  {
   "cell_type": "code",
   "execution_count": 4,
   "metadata": {},
   "outputs": [
    {
     "name": "stdout",
     "output_type": "stream",
     "text": [
      "Files already downloaded and verified\n",
      "Files already downloaded and verified\n"
     ]
    }
   ],
   "source": [
    "def load_data(is_train,aug,batch_size):\n",
    "    dataset = torchvision.datasets.CIFAR10('./CIFAR10',train=is_train,download=True,transform=aug)\n",
    "    dataloader = torch.utils.data.DataLoader(dataset,batch_size=batch_size,shuffle=is_train)\n",
    "    return dataloader\n",
    "\n",
    "batch_size = 512 # param\n",
    "trainDataLoader = load_data(is_train=True,aug=aug_train,batch_size=batch_size)\n",
    "testDataLoader = load_data(is_train=False,aug=aug_test,batch_size=batch_size)"
   ]
  },
  {
   "cell_type": "code",
   "execution_count": 5,
   "metadata": {},
   "outputs": [
    {
     "name": "stderr",
     "output_type": "stream",
     "text": [
      "Clipping input data to the valid range for imshow with RGB data ([0..1] for floats or [0..255] for integers).\n"
     ]
    },
    {
     "name": "stdout",
     "output_type": "stream",
     "text": [
      "torch.Size([3, 32, 32]) 6\n"
     ]
    },
    {
     "data": {
      "image/png": "[encoded data removed]",
      "text/plain": [
       "<Figure size 432x288 with 1 Axes>"
      ]
     },
     "metadata": {
      "needs_background": "light"
     },
     "output_type": "display_data"
    }
   ],
   "source": [
    "classes = ['plane', 'car', 'bird', 'cat', 'deer', 'dog', 'frog', 'horse', 'ship', 'truck']\n",
    "\n",
    "image,label = trainingdata[0]\n",
    "print(image.shape, label)\n",
    "\n",
    "%matplotlib inline\n",
    "plt.imshow(image.numpy().transpose(1,2,0))\n",
    "plt.title(str(classes[label]))\n",
    "plt.show()"
   ]
  },
  {
   "cell_type": "code",
   "execution_count": 6,
   "metadata": {},
   "outputs": [],
   "source": [
    "class BasicBlock(nn.Module):\n",
    "\n",
    "    def __init__(self, in_planes, planes, stride=1):\n",
    "        super(BasicBlock, self).__init__()\n",
    "        self.conv1 = nn.Conv2d(\n",
    "            in_planes, planes, kernel_size=3, stride=stride, padding=1, bias=False)\n",
    "        self.bn1 = nn.BatchNorm2d(planes)\n",
    "        self.conv2 = nn.Conv2d(planes, planes, kernel_size=3,\n",
    "                               stride=1, padding=1, bias=False)\n",
    "        self.bn2 = nn.BatchNorm2d(planes)\n",
    "\n",
    "        self.shortcut = nn.Sequential()\n",
    "        if stride != 1 or in_planes != planes:\n",
    "            self.shortcut = nn.Sequential(\n",
    "                nn.Conv2d(in_planes, planes,\n",
    "                          kernel_size=1, stride=stride, bias=False),\n",
    "                nn.BatchNorm2d(planes)\n",
    "            )\n",
    "\n",
    "    def forward(self, x):\n",
    "        out = F.relu(self.bn1(self.conv1(x)))\n",
    "        out = self.bn2(self.conv2(out))\n",
    "        out += self.shortcut(x)\n",
    "        out = F.relu(out)\n",
    "        return out\n",
    "\n",
    "\n",
    "\n",
    "class ResNet(nn.Module):\n",
    "    def __init__(self, block, num_blocks, num_classes=10):\n",
    "        super(ResNet, self).__init__()\n",
    "        self.in_planes = 64\n",
    "\n",
    "        self.conv1 = nn.Conv2d(3, 64, kernel_size=3,\n",
    "                               stride=1, padding=1, bias=False)\n",
    "        self.bn1 = nn.BatchNorm2d(64)\n",
    "        self.layer1 = self._make_layer(block, 64, num_blocks[0], stride=1)\n",
    "        self.layer2 = self._make_layer(block, 128, num_blocks[1], stride=2)\n",
    "        self.layer3 = self._make_layer(block, 256, num_blocks[2], stride=2)\n",
    "#         self.layer4 = self._make_layer(block, 512, num_blocks[3], stride=2)\n",
    "        self.linear = nn.Linear(1024, num_classes)\n",
    "\n",
    "    def _make_layer(self, block, planes, num_blocks, stride):\n",
    "        strides = [stride] + [1]*(num_blocks-1)\n",
    "        layers = []\n",
    "        for stride in strides:\n",
    "            layers.append(block(self.in_planes, planes, stride))\n",
    "            self.in_planes = planes\n",
    "        return nn.Sequential(*layers)\n",
    "\n",
    "    def forward(self, x):\n",
    "#         print(x.shape)\n",
    "        out = F.relu(self.bn1(self.conv1(x)))\n",
    "#         print(out.shape)\n",
    "        out = self.layer1(out)\n",
    "#         print(out.shape)\n",
    "        out = self.layer2(out)\n",
    "#         print(out.shape)\n",
    "        out = self.layer3(out)\n",
    "#         print(out.shape)\n",
    "#         out = self.layer4(out)\n",
    "        out = F.avg_pool2d(out, 4)\n",
    "#         print(out.shape)\n",
    "        out = out.view(out.size(0), -1)\n",
    "#         print(out.shape)\n",
    "        out = self.linear(out)\n",
    "        return out\n",
    "    \n",
    "    def init_weights(self):\n",
    "        for m in self.modules():\n",
    "            if isinstance(m,nn.Conv2d):\n",
    "                nn.init.kaiming_normal_(m.weight,mode='fan_out',nonlinearity='relu') # weight initialization\n",
    "                if m.bias is not None:\n",
    "                    nn.init.constant_(m.bias,0)\n",
    "            elif isinstance(m,nn.BatchNorm2d):\n",
    "                nn.init.constant_(m.weight,1)\n",
    "                nn.init.constant_(m.bias,0)\n",
    "            elif isinstance(m,nn.Linear):\n",
    "                nn.init.normal_(m.weight,std=1e-3)\n",
    "                if m.bias is not None:\n",
    "                    nn.init.constant_(m.bias,0)\n",
    "\n",
    "def project1_model():\n",
    "#     return ResNet(BasicBlock, [2, 2, 2, 2])\n",
    "    return ResNet(BasicBlock, [3, 3, 3])\n",
    "\n",
    "# model1 = nn.Sequential(project1_model(), nn.AdaptiveAvgPool2d((1,1)), nn.Flatten(), nn.Linear(512, 10)).cuda()\n",
    "model1 = project1_model().cuda()\n",
    "model1.init_weights()"
   ]
  },
  {
   "cell_type": "code",
   "execution_count": 7,
   "metadata": {},
   "outputs": [
    {
     "name": "stdout",
     "output_type": "stream",
     "text": [
      "4335434\n"
     ]
    }
   ],
   "source": [
    "def count_parameters(model):\n",
    "    return sum(p.numel() for p in model.parameters() if p.requires_grad)\n",
    "    # torch.numel() returns number of elements in a tensor\n",
    "\n",
    "print(count_parameters(model1))"
   ]
  },
  {
   "cell_type": "code",
   "execution_count": 8,
   "metadata": {},
   "outputs": [],
   "source": [
    "# X = torch.rand(size=(1, 3, 32, 32)).cuda()\n",
    "# for layer in model1:\n",
    "#   X = layer(X)\n",
    "#   print(layer.__class__.__name__,'output shape:\\t', X.shape)"
   ]
  },
  {
   "cell_type": "code",
   "execution_count": 9,
   "metadata": {},
   "outputs": [],
   "source": [
    "def adjust_learning_rate(optimizer, current_epoch,max_epoch,lr_min=0,lr_max=0.1,warmup=True):\n",
    "    warmup_epoch = 10 if warmup else 0\n",
    "    if current_epoch < warmup_epoch:\n",
    "        lr = lr_max * current_epoch / warmup_epoch\n",
    "    else:\n",
    "        lr = lr_min + (lr_max-lr_min)*(1 + cos(pi * (current_epoch - warmup_epoch) / (max_epoch - warmup_epoch))) / 2\n",
    "    for param_group in optimizer.param_groups:\n",
    "        param_group['lr'] = lr"
   ]
  },
  {
   "cell_type": "code",
   "execution_count": 10,
   "metadata": {
    "scrolled": true
   },
   "outputs": [
    {
     "name": "stdout",
     "output_type": "stream",
     "text": [
      "Read model from checkpoint\n",
      "Restart from epoch 430\n",
      "Epoch 431, Train loss 1.4029830338108232e-05, Test loss 0.44278490319848063, Train accuracy 100.0, Test accuracy 93.9303768157959, Cost 74.2147319316864 s\n",
      "Epoch 432, Train loss 1.6850063605961995e-05, Test loss 0.4427471563220024, Train accuracy 100.0, Test accuracy 93.9401424407959, Cost 72.39492082595825 s\n",
      "Epoch 433, Train loss 1.0949592880901296e-05, Test loss 0.44279287904500964, Train accuracy 100.0, Test accuracy 93.9206111907959, Cost 76.28330063819885 s\n",
      "Epoch 434, Train loss 1.9973240396745255e-05, Test loss 0.4425970271229744, Train accuracy 100.0, Test accuracy 93.9108455657959, Cost 85.02960133552551 s\n",
      "Epoch 435, Train loss 1.373364022255401e-05, Test loss 0.44260770827531815, Train accuracy 100.0, Test accuracy 93.9108455657959, Cost 103.88875579833984 s\n",
      "Model saved in epoch 435\n",
      "Epoch 436, Train loss 1.7350828198566295e-05, Test loss 0.4424235075712204, Train accuracy 100.0, Test accuracy 93.9303768157959, Cost 106.34659218788147 s\n",
      "Epoch 437, Train loss 2.1524320980772095e-05, Test loss 0.44242239072918893, Train accuracy 100.0, Test accuracy 93.9206111907959, Cost 103.72557210922241 s\n",
      "Epoch 438, Train loss 1.1231041564978652e-05, Test loss 0.4423836201429367, Train accuracy 100.0, Test accuracy 93.9303768157959, Cost 103.44617891311646 s\n",
      "Epoch 439, Train loss 9.922844569422411e-06, Test loss 0.4424559697508812, Train accuracy 100.0, Test accuracy 93.9303768157959, Cost 106.81274008750916 s\n",
      "Epoch 440, Train loss 1.1737901921114084e-05, Test loss 0.4424760788679123, Train accuracy 100.0, Test accuracy 93.9303768157959, Cost 99.7035014629364 s\n",
      "Model saved in epoch 440\n",
      "Epoch 441, Train loss 1.0645997437621896e-05, Test loss 0.44247262850403785, Train accuracy 100.0, Test accuracy 93.9303768157959, Cost 107.38253259658813 s\n",
      "Epoch 442, Train loss 1.2362395433943415e-05, Test loss 0.4424922771751881, Train accuracy 100.0, Test accuracy 93.9303768157959, Cost 107.02972888946533 s\n",
      "Epoch 443, Train loss 1.953437723973737e-05, Test loss 0.44252262338995935, Train accuracy 100.0, Test accuracy 93.9401424407959, Cost 102.69352459907532 s\n",
      "Epoch 444, Train loss 8.901617437176152e-06, Test loss 0.442494385689497, Train accuracy 100.0, Test accuracy 93.9401424407959, Cost 102.10264134407043 s\n",
      "Epoch 445, Train loss 1.3613101352385289e-05, Test loss 0.44250262454152106, Train accuracy 100.0, Test accuracy 93.9499080657959, Cost 102.12264800071716 s\n",
      "Model saved in epoch 445\n",
      "Epoch 446, Train loss 9.21280849239542e-06, Test loss 0.4425173245370388, Train accuracy 100.0, Test accuracy 93.9499080657959, Cost 106.14217591285706 s\n",
      "Epoch 447, Train loss 2.1147847091321397e-05, Test loss 0.4424047701060772, Train accuracy 100.0, Test accuracy 93.9401424407959, Cost 104.8010425567627 s\n",
      "Epoch 448, Train loss 1.0217916473711553e-05, Test loss 0.4423903226852417, Train accuracy 100.0, Test accuracy 93.9401424407959, Cost 104.97053718566895 s\n",
      "Epoch 449, Train loss 1.0417121796642593e-05, Test loss 0.4424090668559074, Train accuracy 100.0, Test accuracy 93.9401424407959, Cost 99.93261742591858 s\n",
      "Epoch 450, Train loss 1.4827691756511054e-05, Test loss 0.4423414245247841, Train accuracy 100.0, Test accuracy 93.9499080657959, Cost 101.23032832145691 s\n",
      "Model saved in epoch 450\n",
      "Epoch 451, Train loss 1.1353526942030488e-05, Test loss 0.4423055462539196, Train accuracy 100.0, Test accuracy 93.9401424407959, Cost 101.5979835987091 s\n",
      "Epoch 452, Train loss 1.1798870056796955e-05, Test loss 0.44228594452142717, Train accuracy 100.0, Test accuracy 93.9499080657959, Cost 106.55769062042236 s\n",
      "Epoch 453, Train loss 8.910420409713006e-06, Test loss 0.4423176147043705, Train accuracy 100.0, Test accuracy 93.9596736907959, Cost 102.55253601074219 s\n",
      "Epoch 454, Train loss 1.1769179245536123e-05, Test loss 0.4423059016466141, Train accuracy 100.0, Test accuracy 93.9596736907959, Cost 105.00019574165344 s\n",
      "Epoch 455, Train loss 1.4326724050190431e-05, Test loss 0.44230208545923233, Train accuracy 100.0, Test accuracy 93.9499080657959, Cost 106.46294331550598 s\n",
      "Model saved in epoch 455\n",
      "Epoch 456, Train loss 9.405941355856955e-06, Test loss 0.44231213331222535, Train accuracy 100.0, Test accuracy 93.9499080657959, Cost 101.03511500358582 s\n",
      "Epoch 457, Train loss 9.678174105179746e-06, Test loss 0.44232251718640325, Train accuracy 100.0, Test accuracy 93.9499080657959, Cost 107.0331244468689 s\n",
      "Epoch 458, Train loss 7.952866986456962e-06, Test loss 0.44231894984841347, Train accuracy 100.0, Test accuracy 93.9499080657959, Cost 104.52536273002625 s\n",
      "Epoch 459, Train loss 1.2133412923856444e-05, Test loss 0.4422902211546898, Train accuracy 100.0, Test accuracy 93.9499080657959, Cost 100.69044375419617 s\n",
      "Epoch 460, Train loss 1.325432219626849e-05, Test loss 0.44230799525976183, Train accuracy 100.0, Test accuracy 93.9499080657959, Cost 99.66013383865356 s\n",
      "Model saved in epoch 460\n",
      "Epoch 461, Train loss 1.063296330084067e-05, Test loss 0.442300571501255, Train accuracy 100.0, Test accuracy 93.9499080657959, Cost 100.6118094921112 s\n",
      "Epoch 462, Train loss 1.3669673922215819e-05, Test loss 0.44232952669262887, Train accuracy 100.0, Test accuracy 93.9499080657959, Cost 106.93601870536804 s\n",
      "Epoch 463, Train loss 1.1689464788931366e-05, Test loss 0.4423516757786274, Train accuracy 100.0, Test accuracy 93.9499080657959, Cost 106.68248581886292 s\n",
      "Epoch 464, Train loss 9.093794057734233e-06, Test loss 0.4423562817275524, Train accuracy 100.0, Test accuracy 93.9499080657959, Cost 100.3751654624939 s\n",
      "Epoch 465, Train loss 9.690293245483293e-06, Test loss 0.4423626109957695, Train accuracy 100.0, Test accuracy 93.9499080657959, Cost 106.9627423286438 s\n",
      "Model saved in epoch 465\n",
      "Epoch 466, Train loss 8.23388116350079e-06, Test loss 0.44235691651701925, Train accuracy 100.0, Test accuracy 93.9499080657959, Cost 103.602463722229 s\n",
      "Epoch 467, Train loss 6.376460614124621e-06, Test loss 0.4423619031906128, Train accuracy 100.0, Test accuracy 93.9499080657959, Cost 106.06221413612366 s\n",
      "Epoch 468, Train loss 8.691082607189242e-06, Test loss 0.4423618219792843, Train accuracy 100.0, Test accuracy 93.9499080657959, Cost 106.54078245162964 s\n",
      "Epoch 469, Train loss 1.3761557325994768e-05, Test loss 0.44236517772078515, Train accuracy 100.0, Test accuracy 93.9499080657959, Cost 105.78825235366821 s\n",
      "Epoch 470, Train loss 8.182414804924539e-06, Test loss 0.4423637017607689, Train accuracy 100.0, Test accuracy 93.9499080657959, Cost 103.84885096549988 s\n",
      "Model saved in epoch 470\n",
      "Epoch 471, Train loss 7.594389835944361e-06, Test loss 0.4423650994896889, Train accuracy 100.0, Test accuracy 93.9499080657959, Cost 106.55590081214905 s\n",
      "Epoch 472, Train loss 7.829167136420363e-06, Test loss 0.44234815537929534, Train accuracy 100.0, Test accuracy 93.9499080657959, Cost 101.51271033287048 s\n",
      "Epoch 473, Train loss 9.025245565899054e-06, Test loss 0.44235347434878347, Train accuracy 100.0, Test accuracy 93.9499080657959, Cost 100.0544605255127 s\n",
      "Epoch 474, Train loss 9.038450413907747e-06, Test loss 0.4423489563167095, Train accuracy 100.0, Test accuracy 93.9499080657959, Cost 100.26663732528687 s\n",
      "Epoch 475, Train loss 1.3069394133926649e-05, Test loss 0.4423382766544819, Train accuracy 100.0, Test accuracy 93.9499080657959, Cost 101.18939328193665 s\n",
      "Model saved in epoch 475\n",
      "Epoch 476, Train loss 8.767027077747302e-06, Test loss 0.4423369996249676, Train accuracy 100.0, Test accuracy 93.9499080657959, Cost 106.77552652359009 s\n",
      "Epoch 477, Train loss 1.4676382515601142e-05, Test loss 0.44232897087931633, Train accuracy 100.0, Test accuracy 93.9499080657959, Cost 106.86820793151855 s\n",
      "Epoch 478, Train loss 8.279047893684408e-06, Test loss 0.44232786297798155, Train accuracy 100.0, Test accuracy 93.9499080657959, Cost 100.18789052963257 s\n",
      "Epoch 479, Train loss 9.714795054355355e-06, Test loss 0.4423293501138687, Train accuracy 100.0, Test accuracy 93.9499080657959, Cost 105.56259965896606 s\n",
      "Epoch 480, Train loss 8.115511839579939e-06, Test loss 0.44233019798994067, Train accuracy 100.0, Test accuracy 93.9499080657959, Cost 103.57032370567322 s\n",
      "Model saved in epoch 480\n",
      "Epoch 481, Train loss 9.164002973095973e-06, Test loss 0.4423341415822506, Train accuracy 100.0, Test accuracy 93.9499080657959, Cost 103.56335353851318 s\n"
     ]
    },
    {
     "name": "stdout",
     "output_type": "stream",
     "text": [
      "Epoch 482, Train loss 7.4775124197546515e-06, Test loss 0.44233516976237297, Train accuracy 100.0, Test accuracy 93.9499080657959, Cost 100.64786076545715 s\n",
      "Epoch 483, Train loss 9.163197263456377e-06, Test loss 0.44233340471982957, Train accuracy 100.0, Test accuracy 93.9499080657959, Cost 106.22579765319824 s\n",
      "Epoch 484, Train loss 1.525336721888194e-05, Test loss 0.44233474135398865, Train accuracy 100.0, Test accuracy 93.9499080657959, Cost 99.68161869049072 s\n",
      "Epoch 485, Train loss 9.36751024888898e-06, Test loss 0.4423335403203964, Train accuracy 100.0, Test accuracy 93.9499080657959, Cost 100.08091902732849 s\n",
      "Model saved in epoch 485\n",
      "Epoch 486, Train loss 1.0210568495195655e-05, Test loss 0.44233149141073225, Train accuracy 100.0, Test accuracy 93.9499080657959, Cost 103.59266567230225 s\n",
      "Epoch 487, Train loss 9.330014568822476e-06, Test loss 0.44233129248023034, Train accuracy 100.0, Test accuracy 93.9499080657959, Cost 106.35229921340942 s\n",
      "Epoch 488, Train loss 1.7701090850355934e-05, Test loss 0.44233487769961355, Train accuracy 100.0, Test accuracy 93.9499080657959, Cost 105.87039589881897 s\n",
      "Epoch 489, Train loss 9.98016001255323e-06, Test loss 0.4423365257680416, Train accuracy 100.0, Test accuracy 93.9499080657959, Cost 101.13587665557861 s\n",
      "Epoch 490, Train loss 6.89934078963586e-06, Test loss 0.4423372186720371, Train accuracy 100.0, Test accuracy 93.9499080657959, Cost 102.80815649032593 s\n",
      "Model saved in epoch 490\n",
      "Epoch 491, Train loss 1.1642744359900166e-05, Test loss 0.44233236983418467, Train accuracy 100.0, Test accuracy 93.9499080657959, Cost 100.47924494743347 s\n",
      "Epoch 492, Train loss 1.0813422856783143e-05, Test loss 0.4423305481672287, Train accuracy 100.0, Test accuracy 93.9499080657959, Cost 101.29339838027954 s\n",
      "Epoch 493, Train loss 9.935427970374025e-06, Test loss 0.44232454150915146, Train accuracy 100.0, Test accuracy 93.9499080657959, Cost 101.61855697631836 s\n",
      "Epoch 494, Train loss 9.96838489775618e-06, Test loss 0.442326283454895, Train accuracy 100.0, Test accuracy 93.9499080657959, Cost 99.77759170532227 s\n",
      "Epoch 495, Train loss 9.245107392240354e-06, Test loss 0.44232826977968215, Train accuracy 100.0, Test accuracy 93.9499080657959, Cost 103.70525527000427 s\n",
      "Model saved in epoch 495\n",
      "Epoch 496, Train loss 8.844143914237585e-06, Test loss 0.442327705770731, Train accuracy 100.0, Test accuracy 93.9499080657959, Cost 100.45530700683594 s\n",
      "Epoch 497, Train loss 8.529893928748235e-06, Test loss 0.4423267491161823, Train accuracy 100.0, Test accuracy 93.9499080657959, Cost 104.15587186813354 s\n",
      "Epoch 498, Train loss 1.0487014051818733e-05, Test loss 0.4423259265720844, Train accuracy 100.0, Test accuracy 93.9499080657959, Cost 106.83100962638855 s\n",
      "Epoch 499, Train loss 8.119410486935002e-06, Test loss 0.4423263892531395, Train accuracy 100.0, Test accuracy 93.9499080657959, Cost 102.67857789993286 s\n",
      "Epoch 500, Train loss 1.3683442695221912e-05, Test loss 0.442308896034956, Train accuracy 100.0, Test accuracy 93.9499080657959, Cost 104.3055031299591 s\n",
      "Model saved in epoch 500\n"
     ]
    }
   ],
   "source": [
    "num_epochs = 500 # param\n",
    "epoch_start = 0\n",
    "path = 'resnet_aug_3block_sgd_warmup_consine-batch512-lr02.pt'\n",
    "\n",
    "train_loss_history = []\n",
    "test_loss_history = []\n",
    "train_accuracy_history = []\n",
    "test_accuracy_history = []\n",
    "\n",
    "Loss = torch.nn.CrossEntropyLoss()\n",
    "\n",
    "lr = 0.2\n",
    "lr_min=0.001\n",
    "momentum = 0.9\n",
    "nesterov = True\n",
    "optimizer = torch.optim.SGD(model1.parameters(),lr=lr,momentum=momentum,nesterov=nesterov)\n",
    "\n",
    "\n",
    "\n",
    "if os.path.exists(path):\n",
    "    checkpoint = torch.load(path)\n",
    "    print('Read model from checkpoint')\n",
    "    model1.cuda().load_state_dict(checkpoint['model_state_dict'])\n",
    "    optimizer.load_state_dict(checkpoint['optimizer_state_dict'])\n",
    "    epoch_start = checkpoint['epoch']\n",
    "    Loss = checkpoint['Loss']\n",
    "    train_loss_history = checkpoint['train_loss_history']\n",
    "    test_loss_history = checkpoint['test_loss_history']\n",
    "    train_accuracy_history = checkpoint['train_accuracy_history']\n",
    "    test_accuracy_history = checkpoint['test_accuracy_history']\n",
    "    print('Restart from epoch',epoch_start)\n",
    "    \n",
    "\n",
    "for epoch in range(epoch_start+1, num_epochs+1):\n",
    "    timestart = time.time()\n",
    "\n",
    "    train_loss = 0.0\n",
    "    test_loss = 0.0\n",
    "    train_accuracy = 0.0\n",
    "    test_accuracy = 0.0\n",
    "\n",
    "    for i, data in enumerate(trainDataLoader):\n",
    "        images, labels = data\n",
    "        images = images.cuda()\n",
    "        labels = labels.cuda()\n",
    "        optimizer.zero_grad()\n",
    "        predicted_output = model1.cuda()(images)\n",
    "        fit = Loss(predicted_output,labels)\n",
    "        fit.backward()\n",
    "        adjust_learning_rate(optimizer=optimizer,current_epoch=epoch,max_epoch=num_epochs,lr_min=lr_min,lr_max=lr,warmup=True)\n",
    "        optimizer.step()\n",
    "        train_loss += fit.item()\n",
    "        train_accuracy += (torch.eq(torch.max(predicted_output,1)[1],labels).sum()/len(labels)*100).data.cpu().numpy()\n",
    "\n",
    "    for i, data in enumerate(testDataLoader):\n",
    "        with torch.no_grad():\n",
    "            images, labels = data\n",
    "            images = images.cuda()\n",
    "            labels = labels.cuda()\n",
    "            predicted_output = model1.cuda()(images)\n",
    "            fit = Loss(predicted_output,labels)\n",
    "            test_loss += fit.item()\n",
    "            test_accuracy += (torch.eq(torch.max(predicted_output,1)[1],labels).sum()/len(labels)*100).data.cpu().numpy()\n",
    "\n",
    "\n",
    "    train_loss = train_loss/len(trainDataLoader)\n",
    "    test_loss = test_loss/len(testDataLoader)\n",
    "    train_accu = train_accuracy/len(trainDataLoader)\n",
    "    test_accu = test_accuracy/len(testDataLoader)\n",
    "    train_loss_history.append(train_loss)\n",
    "    test_loss_history.append(test_loss)\n",
    "    train_accuracy_history.append(train_accu)\n",
    "    test_accuracy_history.append(test_accu)\n",
    "    print('Epoch %s, Train loss %s, Test loss %s, Train accuracy %s, Test accuracy %s, Cost %s s'%(epoch,\n",
    "                                                                                                   train_loss,test_loss,\n",
    "                                                                                                   train_accu,test_accu,\n",
    "                                                                                                   time.time()-timestart))\n",
    "\n",
    "    if epoch % 5 == 0 and epoch != 0:\n",
    "        torch.save({'epoch':epoch,\n",
    "          'model_state_dict':model1.cuda().state_dict(),\n",
    "          'optimizer_state_dict':optimizer.state_dict(),\n",
    "          'Loss':Loss,\n",
    "          'train_loss_history':train_loss_history,\n",
    "          'test_loss_history':test_loss_history,\n",
    "          'train_accuracy_history':train_accuracy_history,\n",
    "          'test_accuracy_history':test_accuracy_history},path)\n",
    "        print('Model saved in epoch %s'%(epoch))"
   ]
  },
  {
   "cell_type": "code",
   "execution_count": 11,
   "metadata": {},
   "outputs": [
    {
     "data": {
      "text/plain": [
       "<matplotlib.legend.Legend at 0x14a4930a93d0>"
      ]
     },
     "execution_count": 11,
     "metadata": {},
     "output_type": "execute_result"
    },
    {
     "data": {
      "image/png": "[encoded data removed]",
      "text/plain": [
       "<Figure size 720x360 with 2 Axes>"
      ]
     },
     "metadata": {
      "needs_background": "light"
     },
     "output_type": "display_data"
    }
   ],
   "source": [
    "plt.figure(figsize=(10,5))\n",
    "plt.subplot(1,2,1)\n",
    "plt.plot(range(num_epochs),train_loss_history,'-',linewidth=3,label='Train error')\n",
    "plt.plot(range(num_epochs),test_loss_history,'-',linewidth=3,label='Test error')\n",
    "plt.xlabel('epoch')\n",
    "plt.ylabel('loss')\n",
    "plt.grid(True)\n",
    "plt.legend()\n",
    "\n",
    "plt.subplot(1,2,2)\n",
    "plt.plot(range(num_epochs),train_accuracy_history,'-',linewidth=3,label='Train accuracy')\n",
    "plt.plot(range(num_epochs),test_accuracy_history,'-',linewidth=3,label='Test accuracy')\n",
    "plt.xlabel('epoch')\n",
    "plt.ylabel('accuracy')\n",
    "plt.grid(True)\n",
    "plt.legend()"
   ]
  },
  {
   "cell_type": "code",
   "execution_count": 12,
   "metadata": {},
   "outputs": [
    {
     "name": "stdout",
     "output_type": "stream",
     "text": [
      "Accuracy: 93.9499080657959\n"
     ]
    }
   ],
   "source": [
    "print('Accuracy:',sum(test_accuracy_history[-5:])/5)"
   ]
  },
  {
   "cell_type": "code",
   "execution_count": null,
   "metadata": {},
   "outputs": [],
   "source": []
  }
 ],
 "metadata": {
  "kernelspec": {
   "display_name": "venv_resnet",
   "language": "python",
   "name": "venv"
  },
  "language_info": {
   "codemirror_mode": {
    "name": "ipython",
    "version": 3
   },
   "file_extension": ".py",
   "mimetype": "text/x-python",
   "name": "python",
   "nbconvert_exporter": "python",
   "pygments_lexer": "ipython3",
   "version": "3.8.3"
  }
 },
 "nbformat": 4,
 "nbformat_minor": 4
}
