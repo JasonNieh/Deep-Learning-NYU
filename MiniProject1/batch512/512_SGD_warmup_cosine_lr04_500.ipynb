{
 "cells": [
  {
   "cell_type": "code",
   "execution_count": 1,
   "metadata": {},
   "outputs": [],
   "source": [
    "import os\n",
    "import time\n",
    "import torch\n",
    "import math\n",
    "import torchvision\n",
    "from torchvision import transforms as transforms\n",
    "from torch import nn\n",
    "from torch.nn import functional as F\n",
    "from math import cos,pi\n",
    "\n",
    "import matplotlib.pyplot as plt\n",
    "import numpy as np\n",
    "import random\n",
    "\n",
    "torch.cuda.empty_cache()"
   ]
  },
  {
   "cell_type": "code",
   "execution_count": 2,
   "metadata": {},
   "outputs": [
    {
     "data": {
      "text/plain": [
       "True"
      ]
     },
     "execution_count": 2,
     "metadata": {},
     "output_type": "execute_result"
    }
   ],
   "source": [
    "torch.cuda.is_available()"
   ]
  },
  {
   "cell_type": "code",
   "execution_count": 3,
   "metadata": {},
   "outputs": [
    {
     "name": "stdout",
     "output_type": "stream",
     "text": [
      "Files already downloaded and verified\n"
     ]
    }
   ],
   "source": [
    "torch.manual_seed(17)\n",
    "torch.cuda.manual_seed_all(17)\n",
    "\n",
    "aug_train = transforms.Compose([\n",
    "    transforms.RandomCrop(32,padding=4,padding_mode='reflect'),\n",
    "    transforms.RandomHorizontalFlip(), # 水平翻转\n",
    "    transforms.ToTensor(),\n",
    "    transforms.Normalize((0.4244, 0.4146, 0.3836), (0.2539, 0.2491, 0.2420)) # normalization\n",
    "    ])\n",
    "\n",
    "aug_test = transforms.Compose([\n",
    "    transforms.ToTensor(),\n",
    "    transforms.Normalize((0.4244, 0.4146, 0.3836), (0.2539, 0.2491, 0.2420)) # normalization\n",
    "    ])\n",
    "\n",
    "trainingdata = torchvision.datasets.CIFAR10('./CIFAR10',train=True,download=True,transform=aug_train)\n",
    "# testdata = torchvision.datasets.CIFAR10('./CIFAR10',train=False,download=True,transform=transforms.ToTensor())\n",
    "# print(len(trainingdata),len(testdata))"
   ]
  },
  {
   "cell_type": "code",
   "execution_count": 4,
   "metadata": {},
   "outputs": [
    {
     "name": "stdout",
     "output_type": "stream",
     "text": [
      "Files already downloaded and verified\n",
      "Files already downloaded and verified\n"
     ]
    }
   ],
   "source": [
    "def load_data(is_train,aug,batch_size):\n",
    "    dataset = torchvision.datasets.CIFAR10('./CIFAR10',train=is_train,download=True,transform=aug)\n",
    "    dataloader = torch.utils.data.DataLoader(dataset,batch_size=batch_size,shuffle=is_train)\n",
    "    return dataloader\n",
    "\n",
    "batch_size = 512 # param\n",
    "trainDataLoader = load_data(is_train=True,aug=aug_train,batch_size=batch_size)\n",
    "testDataLoader = load_data(is_train=False,aug=aug_test,batch_size=batch_size)"
   ]
  },
  {
   "cell_type": "code",
   "execution_count": 5,
   "metadata": {},
   "outputs": [
    {
     "name": "stderr",
     "output_type": "stream",
     "text": [
      "Clipping input data to the valid range for imshow with RGB data ([0..1] for floats or [0..255] for integers).\n"
     ]
    },
    {
     "name": "stdout",
     "output_type": "stream",
     "text": [
      "torch.Size([3, 32, 32]) 6\n"
     ]
    },
    {
     "data": {
      "image/png": "[encoded data removed]",
      "text/plain": [
       "<Figure size 432x288 with 1 Axes>"
      ]
     },
     "metadata": {
      "needs_background": "light"
     },
     "output_type": "display_data"
    }
   ],
   "source": [
    "classes = ['plane', 'car', 'bird', 'cat', 'deer', 'dog', 'frog', 'horse', 'ship', 'truck']\n",
    "\n",
    "image,label = trainingdata[0]\n",
    "print(image.shape, label)\n",
    "\n",
    "%matplotlib inline\n",
    "plt.imshow(image.numpy().transpose(1,2,0))\n",
    "plt.title(str(classes[label]))\n",
    "plt.show()"
   ]
  },
  {
   "cell_type": "code",
   "execution_count": 6,
   "metadata": {},
   "outputs": [],
   "source": [
    "class BasicBlock(nn.Module):\n",
    "\n",
    "    def __init__(self, in_planes, planes, stride=1):\n",
    "        super(BasicBlock, self).__init__()\n",
    "        self.conv1 = nn.Conv2d(\n",
    "            in_planes, planes, kernel_size=3, stride=stride, padding=1, bias=False)\n",
    "        self.bn1 = nn.BatchNorm2d(planes)\n",
    "        self.conv2 = nn.Conv2d(planes, planes, kernel_size=3,\n",
    "                               stride=1, padding=1, bias=False)\n",
    "        self.bn2 = nn.BatchNorm2d(planes)\n",
    "\n",
    "        self.shortcut = nn.Sequential()\n",
    "        if stride != 1 or in_planes != planes:\n",
    "            self.shortcut = nn.Sequential(\n",
    "                nn.Conv2d(in_planes, planes,\n",
    "                          kernel_size=1, stride=stride, bias=False),\n",
    "                nn.BatchNorm2d(planes)\n",
    "            )\n",
    "\n",
    "    def forward(self, x):\n",
    "        out = F.relu(self.bn1(self.conv1(x)))\n",
    "        out = self.bn2(self.conv2(out))\n",
    "        out += self.shortcut(x)\n",
    "        out = F.relu(out)\n",
    "        return out\n",
    "\n",
    "\n",
    "\n",
    "class ResNet(nn.Module):\n",
    "    def __init__(self, block, num_blocks, num_classes=10):\n",
    "        super(ResNet, self).__init__()\n",
    "        self.in_planes = 64\n",
    "\n",
    "        self.conv1 = nn.Conv2d(3, 64, kernel_size=3,\n",
    "                               stride=1, padding=1, bias=False)\n",
    "        self.bn1 = nn.BatchNorm2d(64)\n",
    "        self.layer1 = self._make_layer(block, 64, num_blocks[0], stride=1)\n",
    "        self.layer2 = self._make_layer(block, 128, num_blocks[1], stride=2)\n",
    "        self.layer3 = self._make_layer(block, 256, num_blocks[2], stride=2)\n",
    "#         self.layer4 = self._make_layer(block, 512, num_blocks[3], stride=2)\n",
    "        self.linear = nn.Linear(1024, num_classes)\n",
    "\n",
    "    def _make_layer(self, block, planes, num_blocks, stride):\n",
    "        strides = [stride] + [1]*(num_blocks-1)\n",
    "        layers = []\n",
    "        for stride in strides:\n",
    "            layers.append(block(self.in_planes, planes, stride))\n",
    "            self.in_planes = planes\n",
    "        return nn.Sequential(*layers)\n",
    "\n",
    "    def forward(self, x):\n",
    "#         print(x.shape)\n",
    "        out = F.relu(self.bn1(self.conv1(x)))\n",
    "#         print(out.shape)\n",
    "        out = self.layer1(out)\n",
    "#         print(out.shape)\n",
    "        out = self.layer2(out)\n",
    "#         print(out.shape)\n",
    "        out = self.layer3(out)\n",
    "#         print(out.shape)\n",
    "#         out = self.layer4(out)\n",
    "        out = F.avg_pool2d(out, 4)\n",
    "#         print(out.shape)\n",
    "        out = out.view(out.size(0), -1)\n",
    "#         print(out.shape)\n",
    "        out = self.linear(out)\n",
    "        return out\n",
    "    \n",
    "    def init_weights(self):\n",
    "        for m in self.modules():\n",
    "            if isinstance(m,nn.Conv2d):\n",
    "                nn.init.kaiming_normal_(m.weight,mode='fan_out',nonlinearity='relu') # weight initialization\n",
    "                if m.bias is not None:\n",
    "                    nn.init.constant_(m.bias,0)\n",
    "            elif isinstance(m,nn.BatchNorm2d):\n",
    "                nn.init.constant_(m.weight,1)\n",
    "                nn.init.constant_(m.bias,0)\n",
    "            elif isinstance(m,nn.Linear):\n",
    "                nn.init.normal_(m.weight,std=1e-3)\n",
    "                if m.bias is not None:\n",
    "                    nn.init.constant_(m.bias,0)\n",
    "\n",
    "def project1_model():\n",
    "#     return ResNet(BasicBlock, [2, 2, 2, 2])\n",
    "    return ResNet(BasicBlock, [3, 3, 3])\n",
    "\n",
    "# model1 = nn.Sequential(project1_model(), nn.AdaptiveAvgPool2d((1,1)), nn.Flatten(), nn.Linear(512, 10)).cuda()\n",
    "model1 = project1_model().cuda()\n",
    "model1.init_weights()"
   ]
  },
  {
   "cell_type": "code",
   "execution_count": 7,
   "metadata": {},
   "outputs": [
    {
     "name": "stdout",
     "output_type": "stream",
     "text": [
      "4335434\n"
     ]
    }
   ],
   "source": [
    "def count_parameters(model):\n",
    "    return sum(p.numel() for p in model.parameters() if p.requires_grad)\n",
    "    # torch.numel() returns number of elements in a tensor\n",
    "\n",
    "print(count_parameters(model1))"
   ]
  },
  {
   "cell_type": "code",
   "execution_count": 8,
   "metadata": {},
   "outputs": [],
   "source": [
    "# X = torch.rand(size=(1, 3, 32, 32)).cuda()\n",
    "# for layer in model1:\n",
    "#   X = layer(X)\n",
    "#   print(layer.__class__.__name__,'output shape:\\t', X.shape)"
   ]
  },
  {
   "cell_type": "code",
   "execution_count": 9,
   "metadata": {},
   "outputs": [],
   "source": [
    "def adjust_learning_rate(optimizer, current_epoch,max_epoch,lr_min=0,lr_max=0.1,warmup=True):\n",
    "    warmup_epoch = 10 if warmup else 0\n",
    "    if current_epoch < warmup_epoch:\n",
    "        lr = lr_max * current_epoch / warmup_epoch\n",
    "    else:\n",
    "        lr = lr_min + (lr_max-lr_min)*(1 + cos(pi * (current_epoch - warmup_epoch) / (max_epoch - warmup_epoch))) / 2\n",
    "    for param_group in optimizer.param_groups:\n",
    "        param_group['lr'] = lr"
   ]
  },
  {
   "cell_type": "code",
   "execution_count": 10,
   "metadata": {
    "scrolled": true
   },
   "outputs": [
    {
     "name": "stdout",
     "output_type": "stream",
     "text": [
      "Read model from checkpoint\n",
      "Restart from epoch 440\n",
      "Epoch 441, Train loss 1.3192353829286471e-05, Test loss 0.50082026720047, Train accuracy 100.0, Test accuracy 93.9171646118164, Cost 107.01177191734314 s\n",
      "Epoch 442, Train loss 9.633433017936521e-06, Test loss 0.5008380606770515, Train accuracy 100.0, Test accuracy 93.9171646118164, Cost 104.36932277679443 s\n",
      "Epoch 443, Train loss 2.1577470193113984e-05, Test loss 0.5009206622838974, Train accuracy 100.0, Test accuracy 93.9171646118164, Cost 107.47346472740173 s\n",
      "Epoch 444, Train loss 1.0902695127664888e-05, Test loss 0.5009528622031212, Train accuracy 100.0, Test accuracy 93.9269302368164, Cost 102.39941167831421 s\n",
      "Epoch 445, Train loss 1.2511621455777626e-05, Test loss 0.5009528368711471, Train accuracy 100.0, Test accuracy 93.9269302368164, Cost 104.51545405387878 s\n",
      "Model saved in epoch 445\n",
      "Epoch 446, Train loss 1.1086093053336299e-05, Test loss 0.5009338468313217, Train accuracy 100.0, Test accuracy 93.9269302368164, Cost 103.67368626594543 s\n",
      "Epoch 447, Train loss 1.4864213092235387e-05, Test loss 0.5009383007884025, Train accuracy 100.0, Test accuracy 93.9269302368164, Cost 103.01511979103088 s\n",
      "Epoch 448, Train loss 1.5061082025363712e-05, Test loss 0.5009989559650421, Train accuracy 100.0, Test accuracy 93.9269302368164, Cost 101.86377477645874 s\n",
      "Epoch 449, Train loss 1.0715257079199342e-05, Test loss 0.501012934744358, Train accuracy 100.0, Test accuracy 93.9269302368164, Cost 102.17244172096252 s\n",
      "Epoch 450, Train loss 1.1555018452744829e-05, Test loss 0.5010406956076622, Train accuracy 100.0, Test accuracy 93.9269302368164, Cost 103.41629385948181 s\n",
      "Model saved in epoch 450\n",
      "Epoch 451, Train loss 1.7087380617319506e-05, Test loss 0.5010883823037148, Train accuracy 100.0, Test accuracy 93.9269302368164, Cost 99.7087037563324 s\n",
      "Epoch 452, Train loss 4.200972222991238e-05, Test loss 0.5008000567555427, Train accuracy 99.99800701530613, Test accuracy 93.9171646118164, Cost 106.32902026176453 s\n",
      "Epoch 453, Train loss 7.295872462366658e-06, Test loss 0.5007705509662628, Train accuracy 100.0, Test accuracy 93.9269302368164, Cost 102.14029932022095 s\n",
      "Epoch 454, Train loss 1.2689042968941298e-05, Test loss 0.5007798314094544, Train accuracy 100.0, Test accuracy 93.9269302368164, Cost 101.77276635169983 s\n",
      "Epoch 455, Train loss 1.7465929046493887e-05, Test loss 0.5008161664009094, Train accuracy 100.0, Test accuracy 93.9269302368164, Cost 101.68385529518127 s\n",
      "Model saved in epoch 455\n",
      "Epoch 456, Train loss 1.2773034325976238e-05, Test loss 0.5008197903633118, Train accuracy 100.0, Test accuracy 93.9171646118164, Cost 110.52414131164551 s\n",
      "Epoch 457, Train loss 1.55310903976129e-05, Test loss 0.5008251428604126, Train accuracy 100.0, Test accuracy 93.9269302368164, Cost 104.88228297233582 s\n",
      "Epoch 458, Train loss 1.2411084073893127e-05, Test loss 0.5008256554603576, Train accuracy 100.0, Test accuracy 93.9269302368164, Cost 102.0381875038147 s\n",
      "Epoch 459, Train loss 1.3040420851921784e-05, Test loss 0.5008200719952584, Train accuracy 100.0, Test accuracy 93.9269302368164, Cost 110.59870672225952 s\n",
      "Epoch 460, Train loss 1.2630636603011672e-05, Test loss 0.5008385255932808, Train accuracy 100.0, Test accuracy 93.9269302368164, Cost 108.4714093208313 s\n",
      "Model saved in epoch 460\n",
      "Epoch 461, Train loss 1.0457865637850513e-05, Test loss 0.5008487224578857, Train accuracy 100.0, Test accuracy 93.9269302368164, Cost 100.80409121513367 s\n",
      "Epoch 462, Train loss 7.794595009816671e-06, Test loss 0.5008609384298325, Train accuracy 100.0, Test accuracy 93.9269302368164, Cost 105.14868760108948 s\n",
      "Epoch 463, Train loss 8.061294390908726e-06, Test loss 0.5008740529417992, Train accuracy 100.0, Test accuracy 93.9269302368164, Cost 102.52387952804565 s\n",
      "Epoch 464, Train loss 8.834609024679407e-06, Test loss 0.5008710741996765, Train accuracy 100.0, Test accuracy 93.9269302368164, Cost 103.57405614852905 s\n",
      "Epoch 465, Train loss 1.1223092275026737e-05, Test loss 0.5008637979626656, Train accuracy 100.0, Test accuracy 93.9269302368164, Cost 106.22605466842651 s\n",
      "Model saved in epoch 465\n",
      "Epoch 466, Train loss 2.1301223626159187e-05, Test loss 0.5008008733391762, Train accuracy 100.0, Test accuracy 93.9269302368164, Cost 105.52729511260986 s\n",
      "Epoch 467, Train loss 1.6422261175384105e-05, Test loss 0.5008352652192116, Train accuracy 100.0, Test accuracy 93.9269302368164, Cost 103.84013152122498 s\n",
      "Epoch 468, Train loss 1.559926535553679e-05, Test loss 0.5008129894733429, Train accuracy 100.0, Test accuracy 93.9269302368164, Cost 103.17323160171509 s\n",
      "Epoch 469, Train loss 8.357296009915779e-06, Test loss 0.5008180409669876, Train accuracy 100.0, Test accuracy 93.9269302368164, Cost 107.35278415679932 s\n",
      "Epoch 470, Train loss 2.4405047751041803e-05, Test loss 0.5008435770869255, Train accuracy 100.0, Test accuracy 93.9269302368164, Cost 105.71498680114746 s\n",
      "Model saved in epoch 470\n",
      "Epoch 471, Train loss 1.4254632553010364e-05, Test loss 0.5008508682250976, Train accuracy 100.0, Test accuracy 93.9269302368164, Cost 100.84359836578369 s\n",
      "Epoch 472, Train loss 8.736324114745365e-06, Test loss 0.5008583530783653, Train accuracy 100.0, Test accuracy 93.9269302368164, Cost 100.07923364639282 s\n",
      "Epoch 473, Train loss 8.901147343262242e-06, Test loss 0.5008603781461716, Train accuracy 100.0, Test accuracy 93.9269302368164, Cost 102.07214665412903 s\n",
      "Epoch 474, Train loss 1.6022057462457586e-05, Test loss 0.5008507207036018, Train accuracy 100.0, Test accuracy 93.9269302368164, Cost 102.12669372558594 s\n",
      "Epoch 475, Train loss 6.853756225521521e-06, Test loss 0.5008500710129737, Train accuracy 100.0, Test accuracy 93.9269302368164, Cost 105.72379398345947 s\n",
      "Model saved in epoch 475\n",
      "Epoch 476, Train loss 9.067275073863704e-06, Test loss 0.500854380428791, Train accuracy 100.0, Test accuracy 93.9269302368164, Cost 101.38886284828186 s\n",
      "Epoch 477, Train loss 1.4258191270340256e-05, Test loss 0.5008887216448784, Train accuracy 100.0, Test accuracy 93.9269302368164, Cost 103.69465351104736 s\n",
      "Epoch 478, Train loss 1.1425774838657237e-05, Test loss 0.5008835479617119, Train accuracy 100.0, Test accuracy 93.9269302368164, Cost 101.41948819160461 s\n",
      "Epoch 479, Train loss 1.0411802754347542e-05, Test loss 0.5008821517229081, Train accuracy 100.0, Test accuracy 93.9269302368164, Cost 104.31076669692993 s\n",
      "Epoch 480, Train loss 9.519963679376444e-06, Test loss 0.5008766338229179, Train accuracy 100.0, Test accuracy 93.9171646118164, Cost 102.71422028541565 s\n",
      "Model saved in epoch 480\n",
      "Epoch 481, Train loss 8.793820050956982e-06, Test loss 0.5008697003126145, Train accuracy 100.0, Test accuracy 93.9171646118164, Cost 105.88110256195068 s\n",
      "Epoch 482, Train loss 6.661242832358172e-06, Test loss 0.5008708029985428, Train accuracy 100.0, Test accuracy 93.9171646118164, Cost 104.13153648376465 s\n",
      "Epoch 483, Train loss 8.196824049551947e-06, Test loss 0.5008681863546371, Train accuracy 100.0, Test accuracy 93.9171646118164, Cost 107.01404023170471 s\n",
      "Epoch 484, Train loss 8.170933391807243e-06, Test loss 0.5008684203028679, Train accuracy 100.0, Test accuracy 93.9171646118164, Cost 100.50624585151672 s\n",
      "Epoch 485, Train loss 2.264096726373064e-05, Test loss 0.5008770883083343, Train accuracy 100.0, Test accuracy 93.9171646118164, Cost 101.1209921836853 s\n",
      "Model saved in epoch 485\n",
      "Epoch 486, Train loss 1.0218204781501893e-05, Test loss 0.5008790045976639, Train accuracy 100.0, Test accuracy 93.9171646118164, Cost 104.65680599212646 s\n",
      "Epoch 487, Train loss 6.680359931880623e-06, Test loss 0.5008806675672531, Train accuracy 100.0, Test accuracy 93.9171646118164, Cost 101.860347032547 s\n",
      "Epoch 488, Train loss 6.078177091761954e-06, Test loss 0.5008810088038445, Train accuracy 100.0, Test accuracy 93.9171646118164, Cost 101.26067066192627 s\n",
      "Epoch 489, Train loss 1.11622272802773e-05, Test loss 0.5008791625499726, Train accuracy 100.0, Test accuracy 93.9171646118164, Cost 104.49808621406555 s\n",
      "Epoch 490, Train loss 1.1228013456892378e-05, Test loss 0.5008800521492958, Train accuracy 100.0, Test accuracy 93.9073989868164, Cost 101.203782081604 s\n",
      "Model saved in epoch 490\n",
      "Epoch 491, Train loss 1.1875986528445297e-05, Test loss 0.5008781090378761, Train accuracy 100.0, Test accuracy 93.9073989868164, Cost 106.92042303085327 s\n"
     ]
    },
    {
     "name": "stdout",
     "output_type": "stream",
     "text": [
      "Epoch 492, Train loss 1.195931610062203e-05, Test loss 0.5008765503764152, Train accuracy 100.0, Test accuracy 93.9171646118164, Cost 108.48200988769531 s\n",
      "Epoch 493, Train loss 1.721018198084642e-05, Test loss 0.5008670881390571, Train accuracy 100.0, Test accuracy 93.9073989868164, Cost 103.12557339668274 s\n",
      "Epoch 494, Train loss 9.716174631370338e-06, Test loss 0.5008633822202683, Train accuracy 100.0, Test accuracy 93.9073989868164, Cost 103.65450286865234 s\n",
      "Epoch 495, Train loss 8.95006479827409e-06, Test loss 0.50086699873209, Train accuracy 100.0, Test accuracy 93.9073989868164, Cost 101.07376480102539 s\n",
      "Model saved in epoch 495\n",
      "Epoch 496, Train loss 1.0288385380140518e-05, Test loss 0.5008685439825058, Train accuracy 100.0, Test accuracy 93.9073989868164, Cost 96.97915434837341 s\n",
      "Epoch 497, Train loss 1.1425935173640622e-05, Test loss 0.5008682504296302, Train accuracy 100.0, Test accuracy 93.9073989868164, Cost 75.47669768333435 s\n",
      "Epoch 498, Train loss 8.411665285328646e-06, Test loss 0.5008694231510162, Train accuracy 100.0, Test accuracy 93.9073989868164, Cost 84.23197603225708 s\n",
      "Epoch 499, Train loss 7.657440569485572e-06, Test loss 0.5008696660399437, Train accuracy 100.0, Test accuracy 93.9073989868164, Cost 86.94993114471436 s\n",
      "Epoch 500, Train loss 1.3057734754360521e-05, Test loss 0.500870817899704, Train accuracy 100.0, Test accuracy 93.9073989868164, Cost 79.32260179519653 s\n",
      "Model saved in epoch 500\n"
     ]
    }
   ],
   "source": [
    "num_epochs = 500 # param\n",
    "epoch_start = 0\n",
    "path = 'resnet_aug_3block_sgd_warmup_consine-batch512-lr04.pt'\n",
    "\n",
    "train_loss_history = []\n",
    "test_loss_history = []\n",
    "train_accuracy_history = []\n",
    "test_accuracy_history = []\n",
    "\n",
    "Loss = torch.nn.CrossEntropyLoss()\n",
    "\n",
    "lr = 0.4\n",
    "lr_min=0.001\n",
    "momentum = 0.9\n",
    "nesterov = True\n",
    "optimizer = torch.optim.SGD(model1.parameters(),lr=lr,momentum=momentum,nesterov=nesterov)\n",
    "\n",
    "\n",
    "\n",
    "if os.path.exists(path):\n",
    "    checkpoint = torch.load(path)\n",
    "    print('Read model from checkpoint')\n",
    "    model1.cuda().load_state_dict(checkpoint['model_state_dict'])\n",
    "    optimizer.load_state_dict(checkpoint['optimizer_state_dict'])\n",
    "    epoch_start = checkpoint['epoch']\n",
    "    Loss = checkpoint['Loss']\n",
    "    train_loss_history = checkpoint['train_loss_history']\n",
    "    test_loss_history = checkpoint['test_loss_history']\n",
    "    train_accuracy_history = checkpoint['train_accuracy_history']\n",
    "    test_accuracy_history = checkpoint['test_accuracy_history']\n",
    "    print('Restart from epoch',epoch_start)\n",
    "    \n",
    "\n",
    "for epoch in range(epoch_start+1, num_epochs+1):\n",
    "    timestart = time.time()\n",
    "\n",
    "    train_loss = 0.0\n",
    "    test_loss = 0.0\n",
    "    train_accuracy = 0.0\n",
    "    test_accuracy = 0.0\n",
    "\n",
    "    for i, data in enumerate(trainDataLoader):\n",
    "        images, labels = data\n",
    "        images = images.cuda()\n",
    "        labels = labels.cuda()\n",
    "        optimizer.zero_grad()\n",
    "        predicted_output = model1.cuda()(images)\n",
    "        fit = Loss(predicted_output,labels)\n",
    "        fit.backward()\n",
    "        adjust_learning_rate(optimizer=optimizer,current_epoch=epoch,max_epoch=num_epochs,lr_min=lr_min,lr_max=lr,warmup=True)\n",
    "        optimizer.step()\n",
    "        train_loss += fit.item()\n",
    "        train_accuracy += (torch.eq(torch.max(predicted_output,1)[1],labels).sum()/len(labels)*100).data.cpu().numpy()\n",
    "\n",
    "    for i, data in enumerate(testDataLoader):\n",
    "        with torch.no_grad():\n",
    "            images, labels = data\n",
    "            images = images.cuda()\n",
    "            labels = labels.cuda()\n",
    "            predicted_output = model1.cuda()(images)\n",
    "            fit = Loss(predicted_output,labels)\n",
    "            test_loss += fit.item()\n",
    "            test_accuracy += (torch.eq(torch.max(predicted_output,1)[1],labels).sum()/len(labels)*100).data.cpu().numpy()\n",
    "\n",
    "\n",
    "    train_loss = train_loss/len(trainDataLoader)\n",
    "    test_loss = test_loss/len(testDataLoader)\n",
    "    train_accu = train_accuracy/len(trainDataLoader)\n",
    "    test_accu = test_accuracy/len(testDataLoader)\n",
    "    train_loss_history.append(train_loss)\n",
    "    test_loss_history.append(test_loss)\n",
    "    train_accuracy_history.append(train_accu)\n",
    "    test_accuracy_history.append(test_accu)\n",
    "    print('Epoch %s, Train loss %s, Test loss %s, Train accuracy %s, Test accuracy %s, Cost %s s'%(epoch,\n",
    "                                                                                                   train_loss,test_loss,\n",
    "                                                                                                   train_accu,test_accu,\n",
    "                                                                                                   time.time()-timestart))\n",
    "\n",
    "    if epoch % 5 == 0 and epoch != 0:\n",
    "        torch.save({'epoch':epoch,\n",
    "          'model_state_dict':model1.cuda().state_dict(),\n",
    "          'optimizer_state_dict':optimizer.state_dict(),\n",
    "          'Loss':Loss,\n",
    "          'train_loss_history':train_loss_history,\n",
    "          'test_loss_history':test_loss_history,\n",
    "          'train_accuracy_history':train_accuracy_history,\n",
    "          'test_accuracy_history':test_accuracy_history},path)\n",
    "        print('Model saved in epoch %s'%(epoch))"
   ]
  },
  {
   "cell_type": "code",
   "execution_count": 11,
   "metadata": {},
   "outputs": [
    {
     "data": {
      "text/plain": [
       "<matplotlib.legend.Legend at 0x14f8f91d4670>"
      ]
     },
     "execution_count": 11,
     "metadata": {},
     "output_type": "execute_result"
    },
    {
     "data": {
      "image/png": "[encoded data removed]",
      "text/plain": [
       "<Figure size 720x360 with 2 Axes>"
      ]
     },
     "metadata": {
      "needs_background": "light"
     },
     "output_type": "display_data"
    }
   ],
   "source": [
    "plt.figure(figsize=(10,5))\n",
    "plt.subplot(1,2,1)\n",
    "plt.plot(range(num_epochs),train_loss_history,'-',linewidth=3,label='Train error')\n",
    "plt.plot(range(num_epochs),test_loss_history,'-',linewidth=3,label='Test error')\n",
    "plt.xlabel('epoch')\n",
    "plt.ylabel('loss')\n",
    "plt.grid(True)\n",
    "plt.legend()\n",
    "\n",
    "plt.subplot(1,2,2)\n",
    "plt.plot(range(num_epochs),train_accuracy_history,'-',linewidth=3,label='Train accuracy')\n",
    "plt.plot(range(num_epochs),test_accuracy_history,'-',linewidth=3,label='Test accuracy')\n",
    "plt.xlabel('epoch')\n",
    "plt.ylabel('accuracy')\n",
    "plt.grid(True)\n",
    "plt.legend()"
   ]
  },
  {
   "cell_type": "code",
   "execution_count": 12,
   "metadata": {},
   "outputs": [
    {
     "name": "stdout",
     "output_type": "stream",
     "text": [
      "Accuracy: 93.9073989868164\n"
     ]
    }
   ],
   "source": [
    "print('Accuracy:',sum(test_accuracy_history[-5:])/5)"
   ]
  },
  {
   "cell_type": "code",
   "execution_count": null,
   "metadata": {},
   "outputs": [],
   "source": []
  }
 ],
 "metadata": {
  "kernelspec": {
   "display_name": "venv_resnet",
   "language": "python",
   "name": "venv"
  },
  "language_info": {
   "codemirror_mode": {
    "name": "ipython",
    "version": 3
   },
   "file_extension": ".py",
   "mimetype": "text/x-python",
   "name": "python",
   "nbconvert_exporter": "python",
   "pygments_lexer": "ipython3",
   "version": "3.8.3"
  }
 },
 "nbformat": 4,
 "nbformat_minor": 4
}
