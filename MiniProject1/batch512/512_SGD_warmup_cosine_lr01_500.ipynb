{
 "cells": [
  {
   "cell_type": "code",
   "execution_count": 1,
   "metadata": {},
   "outputs": [],
   "source": [
    "import os\n",
    "import time\n",
    "import torch\n",
    "import math\n",
    "import torchvision\n",
    "from torchvision import transforms as transforms\n",
    "from torch import nn\n",
    "from torch.nn import functional as F\n",
    "from math import cos,pi\n",
    "\n",
    "import matplotlib.pyplot as plt\n",
    "import numpy as np\n",
    "import random\n",
    "\n",
    "torch.cuda.empty_cache()"
   ]
  },
  {
   "cell_type": "code",
   "execution_count": 2,
   "metadata": {},
   "outputs": [
    {
     "data": {
      "text/plain": [
       "True"
      ]
     },
     "execution_count": 2,
     "metadata": {},
     "output_type": "execute_result"
    }
   ],
   "source": [
    "torch.cuda.is_available()"
   ]
  },
  {
   "cell_type": "code",
   "execution_count": 3,
   "metadata": {},
   "outputs": [
    {
     "name": "stdout",
     "output_type": "stream",
     "text": [
      "Files already downloaded and verified\n"
     ]
    }
   ],
   "source": [
    "torch.manual_seed(17)\n",
    "torch.cuda.manual_seed_all(17)\n",
    "\n",
    "aug_train = transforms.Compose([\n",
    "    transforms.RandomCrop(32,padding=4,padding_mode='reflect'),\n",
    "    transforms.RandomHorizontalFlip(), # 水平翻转\n",
    "    transforms.ToTensor(),\n",
    "    transforms.Normalize((0.4244, 0.4146, 0.3836), (0.2539, 0.2491, 0.2420)) # normalization\n",
    "    ])\n",
    "\n",
    "aug_test = transforms.Compose([\n",
    "    transforms.ToTensor(),\n",
    "    transforms.Normalize((0.4244, 0.4146, 0.3836), (0.2539, 0.2491, 0.2420)) # normalization\n",
    "    ])\n",
    "\n",
    "trainingdata = torchvision.datasets.CIFAR10('./CIFAR10',train=True,download=True,transform=aug_train)\n",
    "# testdata = torchvision.datasets.CIFAR10('./CIFAR10',train=False,download=True,transform=transforms.ToTensor())\n",
    "# print(len(trainingdata),len(testdata))"
   ]
  },
  {
   "cell_type": "code",
   "execution_count": 4,
   "metadata": {},
   "outputs": [
    {
     "name": "stdout",
     "output_type": "stream",
     "text": [
      "Files already downloaded and verified\n",
      "Files already downloaded and verified\n"
     ]
    }
   ],
   "source": [
    "def load_data(is_train,aug,batch_size):\n",
    "    dataset = torchvision.datasets.CIFAR10('./CIFAR10',train=is_train,download=True,transform=aug)\n",
    "    dataloader = torch.utils.data.DataLoader(dataset,batch_size=batch_size,shuffle=is_train)\n",
    "    return dataloader\n",
    "\n",
    "batch_size = 512 # param\n",
    "trainDataLoader = load_data(is_train=True,aug=aug_train,batch_size=batch_size)\n",
    "testDataLoader = load_data(is_train=False,aug=aug_test,batch_size=batch_size)"
   ]
  },
  {
   "cell_type": "code",
   "execution_count": 5,
   "metadata": {},
   "outputs": [
    {
     "name": "stderr",
     "output_type": "stream",
     "text": [
      "Clipping input data to the valid range for imshow with RGB data ([0..1] for floats or [0..255] for integers).\n"
     ]
    },
    {
     "name": "stdout",
     "output_type": "stream",
     "text": [
      "torch.Size([3, 32, 32]) 6\n"
     ]
    },
    {
     "data": {
      "image/png": "[encoded data removed]",
      "text/plain": [
       "<Figure size 432x288 with 1 Axes>"
      ]
     },
     "metadata": {
      "needs_background": "light"
     },
     "output_type": "display_data"
    }
   ],
   "source": [
    "classes = ['plane', 'car', 'bird', 'cat', 'deer', 'dog', 'frog', 'horse', 'ship', 'truck']\n",
    "\n",
    "image,label = trainingdata[0]\n",
    "print(image.shape, label)\n",
    "\n",
    "%matplotlib inline\n",
    "plt.imshow(image.numpy().transpose(1,2,0))\n",
    "plt.title(str(classes[label]))\n",
    "plt.show()"
   ]
  },
  {
   "cell_type": "code",
   "execution_count": 6,
   "metadata": {},
   "outputs": [],
   "source": [
    "class BasicBlock(nn.Module):\n",
    "\n",
    "    def __init__(self, in_planes, planes, stride=1):\n",
    "        super(BasicBlock, self).__init__()\n",
    "        self.conv1 = nn.Conv2d(\n",
    "            in_planes, planes, kernel_size=3, stride=stride, padding=1, bias=False)\n",
    "        self.bn1 = nn.BatchNorm2d(planes)\n",
    "        self.conv2 = nn.Conv2d(planes, planes, kernel_size=3,\n",
    "                               stride=1, padding=1, bias=False)\n",
    "        self.bn2 = nn.BatchNorm2d(planes)\n",
    "\n",
    "        self.shortcut = nn.Sequential()\n",
    "        if stride != 1 or in_planes != planes:\n",
    "            self.shortcut = nn.Sequential(\n",
    "                nn.Conv2d(in_planes, planes,\n",
    "                          kernel_size=1, stride=stride, bias=False),\n",
    "                nn.BatchNorm2d(planes)\n",
    "            )\n",
    "\n",
    "    def forward(self, x):\n",
    "        out = F.relu(self.bn1(self.conv1(x)))\n",
    "        out = self.bn2(self.conv2(out))\n",
    "        out += self.shortcut(x)\n",
    "        out = F.relu(out)\n",
    "        return out\n",
    "\n",
    "\n",
    "\n",
    "class ResNet(nn.Module):\n",
    "    def __init__(self, block, num_blocks, num_classes=10):\n",
    "        super(ResNet, self).__init__()\n",
    "        self.in_planes = 64\n",
    "\n",
    "        self.conv1 = nn.Conv2d(3, 64, kernel_size=3,\n",
    "                               stride=1, padding=1, bias=False)\n",
    "        self.bn1 = nn.BatchNorm2d(64)\n",
    "        self.layer1 = self._make_layer(block, 64, num_blocks[0], stride=1)\n",
    "        self.layer2 = self._make_layer(block, 128, num_blocks[1], stride=2)\n",
    "        self.layer3 = self._make_layer(block, 256, num_blocks[2], stride=2)\n",
    "#         self.layer4 = self._make_layer(block, 512, num_blocks[3], stride=2)\n",
    "        self.linear = nn.Linear(1024, num_classes)\n",
    "\n",
    "    def _make_layer(self, block, planes, num_blocks, stride):\n",
    "        strides = [stride] + [1]*(num_blocks-1)\n",
    "        layers = []\n",
    "        for stride in strides:\n",
    "            layers.append(block(self.in_planes, planes, stride))\n",
    "            self.in_planes = planes\n",
    "        return nn.Sequential(*layers)\n",
    "\n",
    "    def forward(self, x):\n",
    "#         print(x.shape)\n",
    "        out = F.relu(self.bn1(self.conv1(x)))\n",
    "#         print(out.shape)\n",
    "        out = self.layer1(out)\n",
    "#         print(out.shape)\n",
    "        out = self.layer2(out)\n",
    "#         print(out.shape)\n",
    "        out = self.layer3(out)\n",
    "#         print(out.shape)\n",
    "#         out = self.layer4(out)\n",
    "        out = F.avg_pool2d(out, 4)\n",
    "#         print(out.shape)\n",
    "        out = out.view(out.size(0), -1)\n",
    "#         print(out.shape)\n",
    "        out = self.linear(out)\n",
    "        return out\n",
    "    \n",
    "    def init_weights(self):\n",
    "        for m in self.modules():\n",
    "            if isinstance(m,nn.Conv2d):\n",
    "                nn.init.kaiming_normal_(m.weight,mode='fan_out',nonlinearity='relu') # weight initialization\n",
    "                if m.bias is not None:\n",
    "                    nn.init.constant_(m.bias,0)\n",
    "            elif isinstance(m,nn.BatchNorm2d):\n",
    "                nn.init.constant_(m.weight,1)\n",
    "                nn.init.constant_(m.bias,0)\n",
    "            elif isinstance(m,nn.Linear):\n",
    "                nn.init.normal_(m.weight,std=1e-3)\n",
    "                if m.bias is not None:\n",
    "                    nn.init.constant_(m.bias,0)\n",
    "\n",
    "def project1_model():\n",
    "#     return ResNet(BasicBlock, [2, 2, 2, 2])\n",
    "    return ResNet(BasicBlock, [3, 3, 3])\n",
    "\n",
    "# model1 = nn.Sequential(project1_model(), nn.AdaptiveAvgPool2d((1,1)), nn.Flatten(), nn.Linear(512, 10)).cuda()\n",
    "model1 = project1_model().cuda()\n",
    "model1.init_weights()"
   ]
  },
  {
   "cell_type": "code",
   "execution_count": 7,
   "metadata": {},
   "outputs": [
    {
     "name": "stdout",
     "output_type": "stream",
     "text": [
      "4335434\n"
     ]
    }
   ],
   "source": [
    "def count_parameters(model):\n",
    "    return sum(p.numel() for p in model.parameters() if p.requires_grad)\n",
    "    # torch.numel() returns number of elements in a tensor\n",
    "\n",
    "print(count_parameters(model1))"
   ]
  },
  {
   "cell_type": "code",
   "execution_count": 8,
   "metadata": {},
   "outputs": [],
   "source": [
    "# X = torch.rand(size=(1, 3, 32, 32)).cuda()\n",
    "# for layer in model1:\n",
    "#   X = layer(X)\n",
    "#   print(layer.__class__.__name__,'output shape:\\t', X.shape)"
   ]
  },
  {
   "cell_type": "code",
   "execution_count": 9,
   "metadata": {},
   "outputs": [],
   "source": [
    "def adjust_learning_rate(optimizer, current_epoch,max_epoch,lr_min=0,lr_max=0.1,warmup=True):\n",
    "    warmup_epoch = 10 if warmup else 0\n",
    "    if current_epoch < warmup_epoch:\n",
    "        lr = lr_max * current_epoch / warmup_epoch\n",
    "    else:\n",
    "        lr = lr_min + (lr_max-lr_min)*(1 + cos(pi * (current_epoch - warmup_epoch) / (max_epoch - warmup_epoch))) / 2\n",
    "    for param_group in optimizer.param_groups:\n",
    "        param_group['lr'] = lr"
   ]
  },
  {
   "cell_type": "code",
   "execution_count": 10,
   "metadata": {
    "scrolled": true
   },
   "outputs": [
    {
     "name": "stdout",
     "output_type": "stream",
     "text": [
      "Read model from checkpoint\n",
      "Restart from epoch 440\n",
      "Epoch 441, Train loss 1.2437099705229397e-05, Test loss 0.46160516515374184, Train accuracy 100.0, Test accuracy 93.75, Cost 107.20193338394165 s\n",
      "Epoch 442, Train loss 1.4775868776825742e-05, Test loss 0.46162686944007875, Train accuracy 100.0, Test accuracy 93.740234375, Cost 104.5611310005188 s\n",
      "Epoch 443, Train loss 3.943199956953619e-05, Test loss 0.46146987602114675, Train accuracy 100.0, Test accuracy 93.7390853881836, Cost 107.82433748245239 s\n",
      "Epoch 444, Train loss 1.4524339054931409e-05, Test loss 0.4614745818078518, Train accuracy 100.0, Test accuracy 93.7390853881836, Cost 102.26175713539124 s\n",
      "Epoch 445, Train loss 2.1554686686984646e-05, Test loss 0.46139986217021944, Train accuracy 100.0, Test accuracy 93.7293197631836, Cost 104.84134030342102 s\n",
      "Model saved in epoch 445\n",
      "Epoch 446, Train loss 3.2871976458761996e-05, Test loss 0.46144022345542907, Train accuracy 100.0, Test accuracy 93.7195541381836, Cost 103.86454343795776 s\n",
      "Epoch 447, Train loss 1.4425775266689164e-05, Test loss 0.4614705018699169, Train accuracy 100.0, Test accuracy 93.7195541381836, Cost 103.69499802589417 s\n",
      "Epoch 448, Train loss 1.4407205310594783e-05, Test loss 0.46148944050073626, Train accuracy 100.0, Test accuracy 93.7293197631836, Cost 102.6639347076416 s\n",
      "Epoch 449, Train loss 1.5304932681638835e-05, Test loss 0.46148732826113703, Train accuracy 100.0, Test accuracy 93.7195541381836, Cost 102.43060731887817 s\n",
      "Epoch 450, Train loss 1.3544173717556468e-05, Test loss 0.46148727759718894, Train accuracy 100.0, Test accuracy 93.7195541381836, Cost 103.02274441719055 s\n",
      "Model saved in epoch 450\n",
      "Epoch 451, Train loss 1.674511572232683e-05, Test loss 0.461485243588686, Train accuracy 100.0, Test accuracy 93.7097885131836, Cost 100.30963325500488 s\n",
      "Epoch 452, Train loss 1.2898619573030485e-05, Test loss 0.46149773001670835, Train accuracy 100.0, Test accuracy 93.7195541381836, Cost 107.23903608322144 s\n",
      "Epoch 453, Train loss 1.5672273470537053e-05, Test loss 0.4615223087370396, Train accuracy 100.0, Test accuracy 93.7195541381836, Cost 101.71852421760559 s\n",
      "Epoch 454, Train loss 1.303333602566324e-05, Test loss 0.4615273743867874, Train accuracy 100.0, Test accuracy 93.7195541381836, Cost 100.82275247573853 s\n",
      "Epoch 455, Train loss 1.4107709327098356e-05, Test loss 0.4615405037999153, Train accuracy 100.0, Test accuracy 93.7195541381836, Cost 101.12674379348755 s\n",
      "Model saved in epoch 455\n",
      "Epoch 456, Train loss 2.4356149695876763e-05, Test loss 0.46154233664274213, Train accuracy 100.0, Test accuracy 93.7097885131836, Cost 110.41399669647217 s\n",
      "Epoch 457, Train loss 1.6827014133246033e-05, Test loss 0.4615719199180603, Train accuracy 100.0, Test accuracy 93.7097885131836, Cost 104.62796378135681 s\n",
      "Epoch 458, Train loss 1.7417385183251803e-05, Test loss 0.4615701988339424, Train accuracy 100.0, Test accuracy 93.7097885131836, Cost 102.13914370536804 s\n",
      "Epoch 459, Train loss 1.5147787478883625e-05, Test loss 0.46157507970929146, Train accuracy 100.0, Test accuracy 93.7097885131836, Cost 110.5453610420227 s\n",
      "Epoch 460, Train loss 1.5131137667956827e-05, Test loss 0.4615940622985363, Train accuracy 100.0, Test accuracy 93.7097885131836, Cost 108.91013622283936 s\n",
      "Model saved in epoch 460\n",
      "Epoch 461, Train loss 1.6696747045861397e-05, Test loss 0.46159951239824293, Train accuracy 100.0, Test accuracy 93.7195541381836, Cost 101.66283750534058 s\n",
      "Epoch 462, Train loss 2.0754968369258175e-05, Test loss 0.4615990586578846, Train accuracy 100.0, Test accuracy 93.7097885131836, Cost 104.97825598716736 s\n",
      "Epoch 463, Train loss 2.040310027254867e-05, Test loss 0.46161321327090266, Train accuracy 100.0, Test accuracy 93.7097885131836, Cost 102.62018132209778 s\n",
      "Epoch 464, Train loss 1.1426681005698866e-05, Test loss 0.46161784157156943, Train accuracy 100.0, Test accuracy 93.7097885131836, Cost 104.02329993247986 s\n",
      "Epoch 465, Train loss 1.7383520688623802e-05, Test loss 0.4615806244313717, Train accuracy 100.0, Test accuracy 93.7097885131836, Cost 106.63070368766785 s\n",
      "Model saved in epoch 465\n",
      "Epoch 466, Train loss 1.848865382591649e-05, Test loss 0.4615741088986397, Train accuracy 100.0, Test accuracy 93.7097885131836, Cost 105.27343583106995 s\n",
      "Epoch 467, Train loss 2.4697760462616744e-05, Test loss 0.46162655726075175, Train accuracy 100.0, Test accuracy 93.7097885131836, Cost 104.13407874107361 s\n",
      "Epoch 468, Train loss 1.4604957242431274e-05, Test loss 0.46161817088723184, Train accuracy 100.0, Test accuracy 93.7097885131836, Cost 103.16797661781311 s\n",
      "Epoch 469, Train loss 1.9665759039326634e-05, Test loss 0.4616319119930267, Train accuracy 100.0, Test accuracy 93.7097885131836, Cost 107.38858151435852 s\n",
      "Epoch 470, Train loss 1.4474706056123013e-05, Test loss 0.46163788735866546, Train accuracy 100.0, Test accuracy 93.7097885131836, Cost 105.98765158653259 s\n",
      "Model saved in epoch 470\n",
      "Epoch 471, Train loss 1.8259692621670964e-05, Test loss 0.46165939420461655, Train accuracy 100.0, Test accuracy 93.7097885131836, Cost 101.08384943008423 s\n",
      "Epoch 472, Train loss 1.2365298500429032e-05, Test loss 0.46165973246097564, Train accuracy 100.0, Test accuracy 93.7097885131836, Cost 100.27283263206482 s\n",
      "Epoch 473, Train loss 1.2367250672802899e-05, Test loss 0.4616604045033455, Train accuracy 100.0, Test accuracy 93.7097885131836, Cost 102.01063847541809 s\n",
      "Epoch 474, Train loss 1.946157873455414e-05, Test loss 0.46164403259754183, Train accuracy 100.0, Test accuracy 93.7097885131836, Cost 101.42256569862366 s\n",
      "Epoch 475, Train loss 1.8366664527761435e-05, Test loss 0.4616566963493824, Train accuracy 100.0, Test accuracy 93.7097885131836, Cost 106.158029794693 s\n",
      "Model saved in epoch 475\n",
      "Epoch 476, Train loss 1.290543584255662e-05, Test loss 0.46165481209754944, Train accuracy 100.0, Test accuracy 93.7195541381836, Cost 101.97989463806152 s\n",
      "Epoch 477, Train loss 1.4885834731353961e-05, Test loss 0.46168474927544595, Train accuracy 100.0, Test accuracy 93.7195541381836, Cost 103.77074599266052 s\n",
      "Epoch 478, Train loss 1.861523998929108e-05, Test loss 0.46168945655226706, Train accuracy 100.0, Test accuracy 93.7097885131836, Cost 101.90060806274414 s\n",
      "Epoch 479, Train loss 2.8692445364900516e-05, Test loss 0.46169841662049294, Train accuracy 99.99800701530613, Test accuracy 93.7097885131836, Cost 105.6571090221405 s\n",
      "Epoch 480, Train loss 1.7129260106221224e-05, Test loss 0.4616894781589508, Train accuracy 100.0, Test accuracy 93.7097885131836, Cost 102.34372043609619 s\n",
      "Model saved in epoch 480\n",
      "Epoch 481, Train loss 1.3658620388218415e-05, Test loss 0.4616911612451077, Train accuracy 100.0, Test accuracy 93.7097885131836, Cost 105.51065444946289 s\n",
      "Epoch 482, Train loss 1.7780399078367977e-05, Test loss 0.4616829380393028, Train accuracy 100.0, Test accuracy 93.7097885131836, Cost 105.75672054290771 s\n",
      "Epoch 483, Train loss 1.2068099595450934e-05, Test loss 0.4616797663271427, Train accuracy 100.0, Test accuracy 93.7097885131836, Cost 106.76396298408508 s\n",
      "Epoch 484, Train loss 1.2667624883640516e-05, Test loss 0.46169680804014207, Train accuracy 100.0, Test accuracy 93.7097885131836, Cost 100.36138606071472 s\n",
      "Epoch 485, Train loss 1.3371642283772769e-05, Test loss 0.46170917376875875, Train accuracy 100.0, Test accuracy 93.7097885131836, Cost 101.81172037124634 s\n",
      "Model saved in epoch 485\n",
      "Epoch 486, Train loss 1.1339012919321174e-05, Test loss 0.4617138341069221, Train accuracy 100.0, Test accuracy 93.7097885131836, Cost 105.86494851112366 s\n",
      "Epoch 487, Train loss 1.2148017386765304e-05, Test loss 0.46170625984668734, Train accuracy 100.0, Test accuracy 93.7097885131836, Cost 101.82294726371765 s\n",
      "Epoch 488, Train loss 1.3222959901955915e-05, Test loss 0.46169858053326607, Train accuracy 100.0, Test accuracy 93.7097885131836, Cost 100.99381756782532 s\n",
      "Epoch 489, Train loss 1.5179903952536493e-05, Test loss 0.4617130130529404, Train accuracy 100.0, Test accuracy 93.7097885131836, Cost 104.16811561584473 s\n",
      "Epoch 490, Train loss 1.4347508137494255e-05, Test loss 0.4617036201059818, Train accuracy 100.0, Test accuracy 93.7097885131836, Cost 101.24611139297485 s\n",
      "Model saved in epoch 490\n",
      "Epoch 491, Train loss 1.5429483590762582e-05, Test loss 0.461715629696846, Train accuracy 100.0, Test accuracy 93.7097885131836, Cost 108.19999146461487 s\n"
     ]
    },
    {
     "name": "stdout",
     "output_type": "stream",
     "text": [
      "Epoch 492, Train loss 1.4012224286888137e-05, Test loss 0.46171723306179047, Train accuracy 100.0, Test accuracy 93.7097885131836, Cost 108.589519739151 s\n",
      "Epoch 493, Train loss 1.1645729435778257e-05, Test loss 0.4617159813642502, Train accuracy 100.0, Test accuracy 93.7097885131836, Cost 102.50162744522095 s\n",
      "Epoch 494, Train loss 1.8253798419682798e-05, Test loss 0.46170500442385676, Train accuracy 100.0, Test accuracy 93.7097885131836, Cost 103.04360294342041 s\n",
      "Epoch 495, Train loss 1.2429874931633688e-05, Test loss 0.4617080479860306, Train accuracy 100.0, Test accuracy 93.7097885131836, Cost 100.57712268829346 s\n",
      "Model saved in epoch 495\n",
      "Epoch 496, Train loss 1.438314157495574e-05, Test loss 0.4617093071341515, Train accuracy 100.0, Test accuracy 93.7097885131836, Cost 94.46704268455505 s\n",
      "Epoch 497, Train loss 1.256081430497312e-05, Test loss 0.46171900257468224, Train accuracy 100.0, Test accuracy 93.7097885131836, Cost 75.34128832817078 s\n",
      "Epoch 498, Train loss 1.0397815279187557e-05, Test loss 0.4617219641804695, Train accuracy 100.0, Test accuracy 93.7097885131836, Cost 84.11010932922363 s\n",
      "Epoch 499, Train loss 1.5177973319178095e-05, Test loss 0.46171971037983894, Train accuracy 100.0, Test accuracy 93.7097885131836, Cost 86.93331289291382 s\n",
      "Epoch 500, Train loss 1.2268760338438556e-05, Test loss 0.4617218606173992, Train accuracy 100.0, Test accuracy 93.7097885131836, Cost 77.36207032203674 s\n",
      "Model saved in epoch 500\n"
     ]
    }
   ],
   "source": [
    "num_epochs = 500 # param\n",
    "epoch_start = 0\n",
    "path = 'resnet_aug_3block_sgd_warmup_consine-batch512-lr01.pt'\n",
    "\n",
    "train_loss_history = []\n",
    "test_loss_history = []\n",
    "train_accuracy_history = []\n",
    "test_accuracy_history = []\n",
    "\n",
    "Loss = torch.nn.CrossEntropyLoss()\n",
    "\n",
    "lr = 0.1\n",
    "lr_min=0.001\n",
    "momentum = 0.9\n",
    "nesterov = True\n",
    "optimizer = torch.optim.SGD(model1.parameters(),lr=lr,momentum=momentum,nesterov=nesterov)\n",
    "\n",
    "\n",
    "\n",
    "if os.path.exists(path):\n",
    "    checkpoint = torch.load(path)\n",
    "    print('Read model from checkpoint')\n",
    "    model1.cuda().load_state_dict(checkpoint['model_state_dict'])\n",
    "    optimizer.load_state_dict(checkpoint['optimizer_state_dict'])\n",
    "    epoch_start = checkpoint['epoch']\n",
    "    Loss = checkpoint['Loss']\n",
    "    train_loss_history = checkpoint['train_loss_history']\n",
    "    test_loss_history = checkpoint['test_loss_history']\n",
    "    train_accuracy_history = checkpoint['train_accuracy_history']\n",
    "    test_accuracy_history = checkpoint['test_accuracy_history']\n",
    "    print('Restart from epoch',epoch_start)\n",
    "    \n",
    "\n",
    "for epoch in range(epoch_start+1, num_epochs+1):\n",
    "    timestart = time.time()\n",
    "\n",
    "    train_loss = 0.0\n",
    "    test_loss = 0.0\n",
    "    train_accuracy = 0.0\n",
    "    test_accuracy = 0.0\n",
    "\n",
    "    for i, data in enumerate(trainDataLoader):\n",
    "        images, labels = data\n",
    "        images = images.cuda()\n",
    "        labels = labels.cuda()\n",
    "        optimizer.zero_grad()\n",
    "        predicted_output = model1.cuda()(images)\n",
    "        fit = Loss(predicted_output,labels)\n",
    "        fit.backward()\n",
    "        adjust_learning_rate(optimizer=optimizer,current_epoch=epoch,max_epoch=num_epochs,lr_min=lr_min,lr_max=lr,warmup=True)\n",
    "        optimizer.step()\n",
    "        train_loss += fit.item()\n",
    "        train_accuracy += (torch.eq(torch.max(predicted_output,1)[1],labels).sum()/len(labels)*100).data.cpu().numpy()\n",
    "\n",
    "    for i, data in enumerate(testDataLoader):\n",
    "        with torch.no_grad():\n",
    "            images, labels = data\n",
    "            images = images.cuda()\n",
    "            labels = labels.cuda()\n",
    "            predicted_output = model1.cuda()(images)\n",
    "            fit = Loss(predicted_output,labels)\n",
    "            test_loss += fit.item()\n",
    "            test_accuracy += (torch.eq(torch.max(predicted_output,1)[1],labels).sum()/len(labels)*100).data.cpu().numpy()\n",
    "\n",
    "\n",
    "    train_loss = train_loss/len(trainDataLoader)\n",
    "    test_loss = test_loss/len(testDataLoader)\n",
    "    train_accu = train_accuracy/len(trainDataLoader)\n",
    "    test_accu = test_accuracy/len(testDataLoader)\n",
    "    train_loss_history.append(train_loss)\n",
    "    test_loss_history.append(test_loss)\n",
    "    train_accuracy_history.append(train_accu)\n",
    "    test_accuracy_history.append(test_accu)\n",
    "    print('Epoch %s, Train loss %s, Test loss %s, Train accuracy %s, Test accuracy %s, Cost %s s'%(epoch,\n",
    "                                                                                                   train_loss,test_loss,\n",
    "                                                                                                   train_accu,test_accu,\n",
    "                                                                                                   time.time()-timestart))\n",
    "\n",
    "    if epoch % 5 == 0 and epoch != 0:\n",
    "        torch.save({'epoch':epoch,\n",
    "          'model_state_dict':model1.cuda().state_dict(),\n",
    "          'optimizer_state_dict':optimizer.state_dict(),\n",
    "          'Loss':Loss,\n",
    "          'train_loss_history':train_loss_history,\n",
    "          'test_loss_history':test_loss_history,\n",
    "          'train_accuracy_history':train_accuracy_history,\n",
    "          'test_accuracy_history':test_accuracy_history},path)\n",
    "        print('Model saved in epoch %s'%(epoch))"
   ]
  },
  {
   "cell_type": "code",
   "execution_count": 11,
   "metadata": {},
   "outputs": [
    {
     "data": {
      "text/plain": [
       "<matplotlib.legend.Legend at 0x14e17caf4670>"
      ]
     },
     "execution_count": 11,
     "metadata": {},
     "output_type": "execute_result"
    },
    {
     "data": {
      "image/png": "[encoded data removed]",
      "text/plain": [
       "<Figure size 720x360 with 2 Axes>"
      ]
     },
     "metadata": {
      "needs_background": "light"
     },
     "output_type": "display_data"
    }
   ],
   "source": [
    "plt.figure(figsize=(10,5))\n",
    "plt.subplot(1,2,1)\n",
    "plt.plot(range(num_epochs),train_loss_history,'-',linewidth=3,label='Train error')\n",
    "plt.plot(range(num_epochs),test_loss_history,'-',linewidth=3,label='Test error')\n",
    "plt.xlabel('epoch')\n",
    "plt.ylabel('loss')\n",
    "plt.grid(True)\n",
    "plt.legend()\n",
    "\n",
    "plt.subplot(1,2,2)\n",
    "plt.plot(range(num_epochs),train_accuracy_history,'-',linewidth=3,label='Train accuracy')\n",
    "plt.plot(range(num_epochs),test_accuracy_history,'-',linewidth=3,label='Test accuracy')\n",
    "plt.xlabel('epoch')\n",
    "plt.ylabel('accuracy')\n",
    "plt.grid(True)\n",
    "plt.legend()"
   ]
  },
  {
   "cell_type": "code",
   "execution_count": 12,
   "metadata": {},
   "outputs": [
    {
     "name": "stdout",
     "output_type": "stream",
     "text": [
      "Accuracy: 93.7097885131836\n"
     ]
    }
   ],
   "source": [
    "print('Accuracy:',sum(test_accuracy_history[-5:])/5)"
   ]
  },
  {
   "cell_type": "code",
   "execution_count": null,
   "metadata": {},
   "outputs": [],
   "source": []
  }
 ],
 "metadata": {
  "kernelspec": {
   "display_name": "venv_resnet",
   "language": "python",
   "name": "venv"
  },
  "language_info": {
   "codemirror_mode": {
    "name": "ipython",
    "version": 3
   },
   "file_extension": ".py",
   "mimetype": "text/x-python",
   "name": "python",
   "nbconvert_exporter": "python",
   "pygments_lexer": "ipython3",
   "version": "3.8.3"
  }
 },
 "nbformat": 4,
 "nbformat_minor": 4
}
