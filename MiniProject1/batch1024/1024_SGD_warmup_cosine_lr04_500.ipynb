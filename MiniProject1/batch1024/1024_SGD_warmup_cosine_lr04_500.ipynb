{
 "cells": [
  {
   "cell_type": "code",
   "execution_count": 1,
   "metadata": {},
   "outputs": [],
   "source": [
    "import os\n",
    "import time\n",
    "import torch\n",
    "import math\n",
    "import torchvision\n",
    "from torchvision import transforms as transforms\n",
    "from torch import nn\n",
    "from torch.nn import functional as F\n",
    "from math import cos,pi\n",
    "\n",
    "import matplotlib.pyplot as plt\n",
    "import numpy as np\n",
    "import random\n",
    "\n",
    "torch.cuda.empty_cache()"
   ]
  },
  {
   "cell_type": "code",
   "execution_count": 2,
   "metadata": {},
   "outputs": [
    {
     "data": {
      "text/plain": [
       "True"
      ]
     },
     "execution_count": 2,
     "metadata": {},
     "output_type": "execute_result"
    }
   ],
   "source": [
    "torch.cuda.is_available()"
   ]
  },
  {
   "cell_type": "code",
   "execution_count": 3,
   "metadata": {},
   "outputs": [
    {
     "name": "stdout",
     "output_type": "stream",
     "text": [
      "Files already downloaded and verified\n"
     ]
    }
   ],
   "source": [
    "torch.manual_seed(17)\n",
    "torch.cuda.manual_seed_all(17)\n",
    "\n",
    "aug_train = transforms.Compose([\n",
    "    transforms.RandomCrop(32,padding=4,padding_mode='reflect'),\n",
    "    transforms.RandomHorizontalFlip(), # 水平翻转\n",
    "    transforms.ToTensor(),\n",
    "    transforms.Normalize((0.4244, 0.4146, 0.3836), (0.2539, 0.2491, 0.2420)) # normalization\n",
    "    ])\n",
    "\n",
    "aug_test = transforms.Compose([\n",
    "    transforms.ToTensor(),\n",
    "    transforms.Normalize((0.4244, 0.4146, 0.3836), (0.2539, 0.2491, 0.2420)) # normalization\n",
    "    ])\n",
    "\n",
    "trainingdata = torchvision.datasets.CIFAR10('./CIFAR10',train=True,download=True,transform=aug_train)\n",
    "# testdata = torchvision.datasets.CIFAR10('./CIFAR10',train=False,download=True,transform=transforms.ToTensor())\n",
    "# print(len(trainingdata),len(testdata))"
   ]
  },
  {
   "cell_type": "code",
   "execution_count": 4,
   "metadata": {},
   "outputs": [
    {
     "name": "stdout",
     "output_type": "stream",
     "text": [
      "Files already downloaded and verified\n",
      "Files already downloaded and verified\n"
     ]
    }
   ],
   "source": [
    "def load_data(is_train,aug,batch_size):\n",
    "    dataset = torchvision.datasets.CIFAR10('./CIFAR10',train=is_train,download=True,transform=aug)\n",
    "    dataloader = torch.utils.data.DataLoader(dataset,batch_size=batch_size,shuffle=is_train)\n",
    "    return dataloader\n",
    "\n",
    "batch_size = 1024 # param\n",
    "trainDataLoader = load_data(is_train=True,aug=aug_train,batch_size=batch_size)\n",
    "testDataLoader = load_data(is_train=False,aug=aug_test,batch_size=batch_size)"
   ]
  },
  {
   "cell_type": "code",
   "execution_count": 5,
   "metadata": {},
   "outputs": [
    {
     "name": "stderr",
     "output_type": "stream",
     "text": [
      "Clipping input data to the valid range for imshow with RGB data ([0..1] for floats or [0..255] for integers).\n"
     ]
    },
    {
     "name": "stdout",
     "output_type": "stream",
     "text": [
      "torch.Size([3, 32, 32]) 6\n"
     ]
    },
    {
     "data": {
      "image/png": "[encoded data removed]",
      "text/plain": [
       "<Figure size 432x288 with 1 Axes>"
      ]
     },
     "metadata": {
      "needs_background": "light"
     },
     "output_type": "display_data"
    }
   ],
   "source": [
    "classes = ['plane', 'car', 'bird', 'cat', 'deer', 'dog', 'frog', 'horse', 'ship', 'truck']\n",
    "\n",
    "image,label = trainingdata[0]\n",
    "print(image.shape, label)\n",
    "\n",
    "%matplotlib inline\n",
    "plt.imshow(image.numpy().transpose(1,2,0))\n",
    "plt.title(str(classes[label]))\n",
    "plt.show()"
   ]
  },
  {
   "cell_type": "code",
   "execution_count": 6,
   "metadata": {},
   "outputs": [],
   "source": [
    "class BasicBlock(nn.Module):\n",
    "\n",
    "    def __init__(self, in_planes, planes, stride=1):\n",
    "        super(BasicBlock, self).__init__()\n",
    "        self.conv1 = nn.Conv2d(\n",
    "            in_planes, planes, kernel_size=3, stride=stride, padding=1, bias=False)\n",
    "        self.bn1 = nn.BatchNorm2d(planes)\n",
    "        self.conv2 = nn.Conv2d(planes, planes, kernel_size=3,\n",
    "                               stride=1, padding=1, bias=False)\n",
    "        self.bn2 = nn.BatchNorm2d(planes)\n",
    "\n",
    "        self.shortcut = nn.Sequential()\n",
    "        if stride != 1 or in_planes != planes:\n",
    "            self.shortcut = nn.Sequential(\n",
    "                nn.Conv2d(in_planes, planes,\n",
    "                          kernel_size=1, stride=stride, bias=False),\n",
    "                nn.BatchNorm2d(planes)\n",
    "            )\n",
    "\n",
    "    def forward(self, x):\n",
    "        out = F.relu(self.bn1(self.conv1(x)))\n",
    "        out = self.bn2(self.conv2(out))\n",
    "        out += self.shortcut(x)\n",
    "        out = F.relu(out)\n",
    "        return out\n",
    "\n",
    "\n",
    "\n",
    "class ResNet(nn.Module):\n",
    "    def __init__(self, block, num_blocks, num_classes=10):\n",
    "        super(ResNet, self).__init__()\n",
    "        self.in_planes = 64\n",
    "\n",
    "        self.conv1 = nn.Conv2d(3, 64, kernel_size=3,\n",
    "                               stride=1, padding=1, bias=False)\n",
    "        self.bn1 = nn.BatchNorm2d(64)\n",
    "        self.layer1 = self._make_layer(block, 64, num_blocks[0], stride=1)\n",
    "        self.layer2 = self._make_layer(block, 128, num_blocks[1], stride=2)\n",
    "        self.layer3 = self._make_layer(block, 256, num_blocks[2], stride=2)\n",
    "#         self.layer4 = self._make_layer(block, 512, num_blocks[3], stride=2)\n",
    "        self.linear = nn.Linear(1024, num_classes)\n",
    "\n",
    "    def _make_layer(self, block, planes, num_blocks, stride):\n",
    "        strides = [stride] + [1]*(num_blocks-1)\n",
    "        layers = []\n",
    "        for stride in strides:\n",
    "            layers.append(block(self.in_planes, planes, stride))\n",
    "            self.in_planes = planes\n",
    "        return nn.Sequential(*layers)\n",
    "\n",
    "    def forward(self, x):\n",
    "#         print(x.shape)\n",
    "        out = F.relu(self.bn1(self.conv1(x)))\n",
    "#         print(out.shape)\n",
    "        out = self.layer1(out)\n",
    "#         print(out.shape)\n",
    "        out = self.layer2(out)\n",
    "#         print(out.shape)\n",
    "        out = self.layer3(out)\n",
    "#         print(out.shape)\n",
    "#         out = self.layer4(out)\n",
    "        out = F.avg_pool2d(out, 4)\n",
    "#         print(out.shape)\n",
    "        out = out.view(out.size(0), -1)\n",
    "#         print(out.shape)\n",
    "        out = self.linear(out)\n",
    "        return out\n",
    "    \n",
    "    def init_weights(self):\n",
    "        for m in self.modules():\n",
    "            if isinstance(m,nn.Conv2d):\n",
    "                nn.init.kaiming_normal_(m.weight,mode='fan_out',nonlinearity='relu') # weight initialization\n",
    "                if m.bias is not None:\n",
    "                    nn.init.constant_(m.bias,0)\n",
    "            elif isinstance(m,nn.BatchNorm2d):\n",
    "                nn.init.constant_(m.weight,1)\n",
    "                nn.init.constant_(m.bias,0)\n",
    "            elif isinstance(m,nn.Linear):\n",
    "                nn.init.normal_(m.weight,std=1e-3)\n",
    "                if m.bias is not None:\n",
    "                    nn.init.constant_(m.bias,0)\n",
    "\n",
    "def project1_model():\n",
    "#     return ResNet(BasicBlock, [2, 2, 2, 2])\n",
    "    return ResNet(BasicBlock, [3, 3, 3])\n",
    "\n",
    "# model1 = nn.Sequential(project1_model(), nn.AdaptiveAvgPool2d((1,1)), nn.Flatten(), nn.Linear(512, 10)).cuda()\n",
    "model1 = project1_model().cuda()\n",
    "model1.init_weights()"
   ]
  },
  {
   "cell_type": "code",
   "execution_count": 7,
   "metadata": {},
   "outputs": [
    {
     "name": "stdout",
     "output_type": "stream",
     "text": [
      "4335434\n"
     ]
    }
   ],
   "source": [
    "def count_parameters(model):\n",
    "    return sum(p.numel() for p in model.parameters() if p.requires_grad)\n",
    "    # torch.numel() returns number of elements in a tensor\n",
    "\n",
    "print(count_parameters(model1))"
   ]
  },
  {
   "cell_type": "code",
   "execution_count": 8,
   "metadata": {},
   "outputs": [],
   "source": [
    "# X = torch.rand(size=(1, 3, 32, 32)).cuda()\n",
    "# for layer in model1:\n",
    "#   X = layer(X)\n",
    "#   print(layer.__class__.__name__,'output shape:\\t', X.shape)"
   ]
  },
  {
   "cell_type": "code",
   "execution_count": 9,
   "metadata": {},
   "outputs": [],
   "source": [
    "def adjust_learning_rate(optimizer, current_epoch,max_epoch,lr_min=0,lr_max=0.1,warmup=True):\n",
    "    warmup_epoch = 10 if warmup else 0\n",
    "    if current_epoch < warmup_epoch:\n",
    "        lr = lr_max * current_epoch / warmup_epoch\n",
    "    else:\n",
    "        lr = lr_min + (lr_max-lr_min)*(1 + cos(pi * (current_epoch - warmup_epoch) / (max_epoch - warmup_epoch))) / 2\n",
    "    for param_group in optimizer.param_groups:\n",
    "        param_group['lr'] = lr"
   ]
  },
  {
   "cell_type": "code",
   "execution_count": 10,
   "metadata": {
    "scrolled": true
   },
   "outputs": [
    {
     "name": "stdout",
     "output_type": "stream",
     "text": [
      "Read model from checkpoint\n",
      "Restart from epoch 400\n",
      "Epoch 401, Train loss 1.2497971014528623e-05, Test loss 0.5154916971921921, Train accuracy 100.0, Test accuracy 93.39624557495117, Cost 53.81532692909241 s\n",
      "Epoch 402, Train loss 1.2870898115356887e-05, Test loss 0.5154878973960877, Train accuracy 100.0, Test accuracy 93.39624557495117, Cost 75.05205035209656 s\n",
      "Epoch 403, Train loss 1.5112891518657882e-05, Test loss 0.515542796254158, Train accuracy 100.0, Test accuracy 93.39624557495117, Cost 72.67060279846191 s\n",
      "Epoch 404, Train loss 1.5101096551006776e-05, Test loss 0.5155880182981492, Train accuracy 100.0, Test accuracy 93.39624557495117, Cost 76.55810952186584 s\n",
      "Epoch 405, Train loss 1.3504453915759638e-05, Test loss 0.5156234413385391, Train accuracy 100.0, Test accuracy 93.39624557495117, Cost 87.14680886268616 s\n",
      "Model saved in epoch 405\n",
      "Epoch 406, Train loss 1.613642280062777e-05, Test loss 0.5155841737985611, Train accuracy 100.0, Test accuracy 93.39624557495117, Cost 104.2632155418396 s\n",
      "Epoch 407, Train loss 1.2377478001047964e-05, Test loss 0.5156417548656463, Train accuracy 100.0, Test accuracy 93.39624557495117, Cost 106.31647372245789 s\n",
      "Epoch 408, Train loss 9.642558348341668e-06, Test loss 0.515645968914032, Train accuracy 100.0, Test accuracy 93.39624557495117, Cost 103.96527624130249 s\n",
      "Epoch 409, Train loss 1.0815915462741514e-05, Test loss 0.5156563729047775, Train accuracy 100.0, Test accuracy 93.39624557495117, Cost 103.30526065826416 s\n",
      "Epoch 410, Train loss 1.3384117732111546e-05, Test loss 0.5156515568494797, Train accuracy 100.0, Test accuracy 93.39624557495117, Cost 106.82836294174194 s\n",
      "Model saved in epoch 410\n",
      "Epoch 411, Train loss 1.2674969105560473e-05, Test loss 0.5156671643257141, Train accuracy 100.0, Test accuracy 93.38647994995117, Cost 99.62038898468018 s\n",
      "Epoch 412, Train loss 1.555972479931073e-05, Test loss 0.5157207638025284, Train accuracy 100.0, Test accuracy 93.38647994995117, Cost 107.14459705352783 s\n",
      "Epoch 413, Train loss 1.3711962097028047e-05, Test loss 0.5157660573720932, Train accuracy 100.0, Test accuracy 93.37671432495117, Cost 106.68483066558838 s\n",
      "Epoch 414, Train loss 1.3600904557446187e-05, Test loss 0.5157394915819168, Train accuracy 100.0, Test accuracy 93.40601119995117, Cost 103.0298593044281 s\n",
      "Epoch 415, Train loss 1.3056238583662981e-05, Test loss 0.5157926410436631, Train accuracy 100.0, Test accuracy 93.40601119995117, Cost 103.49841046333313 s\n",
      "Model saved in epoch 415\n",
      "Epoch 416, Train loss 1.4063788862771691e-05, Test loss 0.5157644301652908, Train accuracy 100.0, Test accuracy 93.40601119995117, Cost 101.77225732803345 s\n",
      "Epoch 417, Train loss 1.4689341836002517e-05, Test loss 0.515816468000412, Train accuracy 100.0, Test accuracy 93.41577682495117, Cost 106.0107147693634 s\n",
      "Epoch 418, Train loss 1.5927292976385264e-05, Test loss 0.5158317863941193, Train accuracy 100.0, Test accuracy 93.40601119995117, Cost 104.34355974197388 s\n",
      "Epoch 419, Train loss 1.6996671167028263e-05, Test loss 0.5158204555511474, Train accuracy 100.0, Test accuracy 93.41577682495117, Cost 104.5510606765747 s\n",
      "Epoch 420, Train loss 1.4629984432257496e-05, Test loss 0.5157781183719635, Train accuracy 100.0, Test accuracy 93.42554244995117, Cost 100.07393074035645 s\n",
      "Model saved in epoch 420\n",
      "Epoch 421, Train loss 1.1207904607340888e-05, Test loss 0.5157908588647843, Train accuracy 100.0, Test accuracy 93.42554244995117, Cost 101.13304376602173 s\n",
      "Epoch 422, Train loss 1.925440264761962e-05, Test loss 0.5157201170921326, Train accuracy 100.0, Test accuracy 93.41577682495117, Cost 101.85106468200684 s\n",
      "Epoch 423, Train loss 2.299766573537918e-05, Test loss 0.5155480295419693, Train accuracy 100.0, Test accuracy 93.39923477172852, Cost 106.75574207305908 s\n",
      "Epoch 424, Train loss 1.387810055682482e-05, Test loss 0.5155130237340927, Train accuracy 100.0, Test accuracy 93.39923477172852, Cost 103.18524289131165 s\n",
      "Epoch 425, Train loss 5.6344025760692456e-05, Test loss 0.5156416326761246, Train accuracy 99.99800701530613, Test accuracy 93.42853164672852, Cost 104.61607480049133 s\n",
      "Model saved in epoch 425\n",
      "Epoch 426, Train loss 1.3186128867624686e-05, Test loss 0.5157152116298676, Train accuracy 100.0, Test accuracy 93.41876602172852, Cost 106.98533010482788 s\n",
      "Epoch 427, Train loss 1.1613343962826361e-05, Test loss 0.5157212018966675, Train accuracy 100.0, Test accuracy 93.42853164672852, Cost 99.70431780815125 s\n",
      "Epoch 428, Train loss 1.4501846603057597e-05, Test loss 0.5157976746559143, Train accuracy 100.0, Test accuracy 93.43829727172852, Cost 106.81803727149963 s\n",
      "Epoch 429, Train loss 1.4162036190360336e-05, Test loss 0.5158472567796707, Train accuracy 100.0, Test accuracy 93.43829727172852, Cost 104.94759106636047 s\n",
      "Epoch 430, Train loss 3.658311128655979e-05, Test loss 0.5156630754470826, Train accuracy 99.99800701530613, Test accuracy 93.42853164672852, Cost 99.96008348464966 s\n",
      "Model saved in epoch 430\n",
      "Epoch 431, Train loss 1.2708791837676658e-05, Test loss 0.5156525522470474, Train accuracy 100.0, Test accuracy 93.42853164672852, Cost 100.17874932289124 s\n",
      "Epoch 432, Train loss 1.212292989071195e-05, Test loss 0.5156859964132309, Train accuracy 100.0, Test accuracy 93.42853164672852, Cost 99.78118348121643 s\n",
      "Epoch 433, Train loss 9.563535330443653e-06, Test loss 0.5157062441110611, Train accuracy 100.0, Test accuracy 93.41876602172852, Cost 107.48863959312439 s\n",
      "Epoch 434, Train loss 1.3491246846217332e-05, Test loss 0.5156862884759903, Train accuracy 100.0, Test accuracy 93.42853164672852, Cost 106.72893452644348 s\n",
      "Epoch 435, Train loss 1.0179841452480439e-05, Test loss 0.5157050013542175, Train accuracy 100.0, Test accuracy 93.41876602172852, Cost 99.71473741531372 s\n",
      "Model saved in epoch 435\n",
      "Epoch 436, Train loss 1.1680733599191905e-05, Test loss 0.5156776756048203, Train accuracy 100.0, Test accuracy 93.41876602172852, Cost 106.9583387374878 s\n",
      "Epoch 437, Train loss 1.2411651698353033e-05, Test loss 0.5157094717025756, Train accuracy 100.0, Test accuracy 93.41876602172852, Cost 104.7807068824768 s\n",
      "Epoch 438, Train loss 8.791755901108204e-06, Test loss 0.515707579255104, Train accuracy 100.0, Test accuracy 93.42853164672852, Cost 105.85972094535828 s\n",
      "Epoch 439, Train loss 1.149080047497944e-05, Test loss 0.5157306164503097, Train accuracy 100.0, Test accuracy 93.42853164672852, Cost 106.8514461517334 s\n",
      "Epoch 440, Train loss 1.3912096232142714e-05, Test loss 0.5157640993595123, Train accuracy 100.0, Test accuracy 93.43829727172852, Cost 105.55139255523682 s\n",
      "Model saved in epoch 440\n",
      "Epoch 441, Train loss 1.3514732741822052e-05, Test loss 0.5158101320266724, Train accuracy 100.0, Test accuracy 93.42853164672852, Cost 104.29046821594238 s\n",
      "Epoch 442, Train loss 1.3248004191210588e-05, Test loss 0.515803548693657, Train accuracy 100.0, Test accuracy 93.42853164672852, Cost 106.59869074821472 s\n",
      "Epoch 443, Train loss 1.1226390769275449e-05, Test loss 0.5158271223306656, Train accuracy 100.0, Test accuracy 93.41876602172852, Cost 100.44846940040588 s\n",
      "Epoch 444, Train loss 2.6046746486418687e-05, Test loss 0.5160635888576508, Train accuracy 99.99800701530613, Test accuracy 93.40601119995117, Cost 100.62066721916199 s\n",
      "Epoch 445, Train loss 1.37015003465236e-05, Test loss 0.5160723865032196, Train accuracy 100.0, Test accuracy 93.39624557495117, Cost 99.56589579582214 s\n",
      "Model saved in epoch 445\n",
      "Epoch 446, Train loss 1.257035290443443e-05, Test loss 0.5160906493663788, Train accuracy 100.0, Test accuracy 93.40601119995117, Cost 101.54922986030579 s\n",
      "Epoch 447, Train loss 1.1032618022928007e-05, Test loss 0.5160875171422958, Train accuracy 100.0, Test accuracy 93.39624557495117, Cost 106.47377276420593 s\n",
      "Epoch 448, Train loss 9.86680320888159e-06, Test loss 0.5160976588726044, Train accuracy 100.0, Test accuracy 93.39624557495117, Cost 106.7937023639679 s\n",
      "Epoch 449, Train loss 1.1883114835859024e-05, Test loss 0.5161215186119079, Train accuracy 100.0, Test accuracy 93.39624557495117, Cost 100.22915816307068 s\n",
      "Epoch 450, Train loss 1.4660691778438061e-05, Test loss 0.5161417484283447, Train accuracy 100.0, Test accuracy 93.40601119995117, Cost 105.12111067771912 s\n",
      "Model saved in epoch 450\n",
      "Epoch 451, Train loss 9.791862149373924e-06, Test loss 0.5161611765623093, Train accuracy 100.0, Test accuracy 93.40601119995117, Cost 102.93304514884949 s\n"
     ]
    },
    {
     "name": "stdout",
     "output_type": "stream",
     "text": [
      "Epoch 452, Train loss 1.1629125477769293e-05, Test loss 0.5161498844623565, Train accuracy 100.0, Test accuracy 93.40601119995117, Cost 103.07429456710815 s\n",
      "Epoch 453, Train loss 1.3681356447204033e-05, Test loss 0.5161552518606186, Train accuracy 100.0, Test accuracy 93.40601119995117, Cost 99.6717369556427 s\n",
      "Epoch 454, Train loss 1.2196162441220937e-05, Test loss 0.5161467492580414, Train accuracy 100.0, Test accuracy 93.40601119995117, Cost 106.79284596443176 s\n",
      "Epoch 455, Train loss 1.2571212154194208e-05, Test loss 0.5161606699228287, Train accuracy 100.0, Test accuracy 93.40601119995117, Cost 99.75050401687622 s\n",
      "Model saved in epoch 455\n",
      "Epoch 456, Train loss 1.0354159049173325e-05, Test loss 0.5161671131849289, Train accuracy 100.0, Test accuracy 93.40601119995117, Cost 100.56562519073486 s\n",
      "Epoch 457, Train loss 1.1735494275185653e-05, Test loss 0.5161425530910492, Train accuracy 100.0, Test accuracy 93.40601119995117, Cost 104.71525979042053 s\n",
      "Epoch 458, Train loss 1.0243323537665395e-05, Test loss 0.5161516755819321, Train accuracy 100.0, Test accuracy 93.40601119995117, Cost 106.97542762756348 s\n",
      "Epoch 459, Train loss 9.71881384346637e-06, Test loss 0.5161700814962387, Train accuracy 100.0, Test accuracy 93.40601119995117, Cost 104.47053599357605 s\n",
      "Epoch 460, Train loss 9.792152203939326e-06, Test loss 0.5161672949790954, Train accuracy 100.0, Test accuracy 93.40601119995117, Cost 100.71863555908203 s\n",
      "Model saved in epoch 460\n",
      "Epoch 461, Train loss 1.4545130499977766e-05, Test loss 0.5161795973777771, Train accuracy 100.0, Test accuracy 93.40601119995117, Cost 101.13617086410522 s\n",
      "Epoch 462, Train loss 1.0726968815904503e-05, Test loss 0.5161797910928726, Train accuracy 100.0, Test accuracy 93.40601119995117, Cost 99.676194190979 s\n",
      "Epoch 463, Train loss 9.018843614712193e-06, Test loss 0.5161781311035156, Train accuracy 100.0, Test accuracy 93.40601119995117, Cost 100.78573703765869 s\n",
      "Epoch 464, Train loss 1.53853816021981e-05, Test loss 0.5161695957183838, Train accuracy 100.0, Test accuracy 93.40601119995117, Cost 101.62824606895447 s\n",
      "Epoch 465, Train loss 1.2624824212624083e-05, Test loss 0.5161672949790954, Train accuracy 100.0, Test accuracy 93.40601119995117, Cost 99.16378998756409 s\n",
      "Model saved in epoch 465\n",
      "Epoch 466, Train loss 1.2809307445051524e-05, Test loss 0.5161734014749527, Train accuracy 100.0, Test accuracy 93.40601119995117, Cost 104.2833194732666 s\n",
      "Epoch 467, Train loss 8.513674297504697e-06, Test loss 0.5161569833755493, Train accuracy 100.0, Test accuracy 93.40601119995117, Cost 99.30694055557251 s\n",
      "Epoch 468, Train loss 1.4844628012446153e-05, Test loss 0.5161608219146728, Train accuracy 100.0, Test accuracy 93.40601119995117, Cost 105.34059977531433 s\n",
      "Epoch 469, Train loss 9.924693312295487e-06, Test loss 0.5161599606275559, Train accuracy 100.0, Test accuracy 93.40601119995117, Cost 107.17473101615906 s\n",
      "Epoch 470, Train loss 9.795886143718012e-06, Test loss 0.516169211268425, Train accuracy 100.0, Test accuracy 93.40601119995117, Cost 102.98511052131653 s\n",
      "Model saved in epoch 470\n",
      "Epoch 471, Train loss 1.2037968074263498e-05, Test loss 0.5161714792251587, Train accuracy 100.0, Test accuracy 93.40601119995117, Cost 103.81530356407166 s\n",
      "Epoch 472, Train loss 8.435713246918957e-06, Test loss 0.516174590587616, Train accuracy 100.0, Test accuracy 93.40601119995117, Cost 75.08081769943237 s\n",
      "Epoch 473, Train loss 1.107097784592859e-05, Test loss 0.5161785751581192, Train accuracy 100.0, Test accuracy 93.40601119995117, Cost 75.13922882080078 s\n",
      "Epoch 474, Train loss 8.724270881485813e-06, Test loss 0.5161764442920684, Train accuracy 100.0, Test accuracy 93.40601119995117, Cost 75.14920997619629 s\n",
      "Epoch 475, Train loss 8.362951185907669e-06, Test loss 0.5161788433790206, Train accuracy 100.0, Test accuracy 93.40601119995117, Cost 75.1196563243866 s\n",
      "Model saved in epoch 475\n",
      "Epoch 476, Train loss 1.2162433904450154e-05, Test loss 0.5161795347929001, Train accuracy 100.0, Test accuracy 93.40601119995117, Cost 74.95065832138062 s\n",
      "Epoch 477, Train loss 9.508524364756173e-06, Test loss 0.5161814749240875, Train accuracy 100.0, Test accuracy 93.40601119995117, Cost 74.75257420539856 s\n",
      "Epoch 478, Train loss 1.586414827661243e-05, Test loss 0.5161791115999221, Train accuracy 100.0, Test accuracy 93.40601119995117, Cost 74.58087825775146 s\n",
      "Epoch 479, Train loss 9.426732329914984e-06, Test loss 0.5161800771951676, Train accuracy 100.0, Test accuracy 93.40601119995117, Cost 74.55482935905457 s\n",
      "Epoch 480, Train loss 1.0343405545761331e-05, Test loss 0.5161814332008362, Train accuracy 100.0, Test accuracy 93.40601119995117, Cost 74.58435535430908 s\n",
      "Model saved in epoch 480\n",
      "Epoch 481, Train loss 1.0177362842763874e-05, Test loss 0.5161817818880081, Train accuracy 100.0, Test accuracy 93.40601119995117, Cost 74.7102119922638 s\n",
      "Epoch 482, Train loss 1.253808523424781e-05, Test loss 0.5161849558353424, Train accuracy 100.0, Test accuracy 93.40601119995117, Cost 74.60191369056702 s\n",
      "Epoch 483, Train loss 1.0028020012344183e-05, Test loss 0.5161879509687424, Train accuracy 100.0, Test accuracy 93.40601119995117, Cost 74.7255449295044 s\n",
      "Epoch 484, Train loss 1.588394500649141e-05, Test loss 0.5161866396665573, Train accuracy 100.0, Test accuracy 93.40601119995117, Cost 74.72358202934265 s\n",
      "Epoch 485, Train loss 8.883689245020813e-06, Test loss 0.5161872655153275, Train accuracy 100.0, Test accuracy 93.40601119995117, Cost 74.62067079544067 s\n",
      "Model saved in epoch 485\n",
      "Epoch 486, Train loss 1.2289070125415473e-05, Test loss 0.516186636686325, Train accuracy 100.0, Test accuracy 93.40601119995117, Cost 74.75694918632507 s\n",
      "Epoch 487, Train loss 1.1720341847519324e-05, Test loss 0.5161831021308899, Train accuracy 100.0, Test accuracy 93.40601119995117, Cost 74.92761874198914 s\n",
      "Epoch 488, Train loss 3.4862882014805315e-05, Test loss 0.5161485701799393, Train accuracy 99.99800701530613, Test accuracy 93.40601119995117, Cost 75.0101113319397 s\n",
      "Epoch 489, Train loss 1.3179382987652148e-05, Test loss 0.51614790558815, Train accuracy 100.0, Test accuracy 93.40601119995117, Cost 74.72417140007019 s\n",
      "Epoch 490, Train loss 1.056906977950979e-05, Test loss 0.5161498486995697, Train accuracy 100.0, Test accuracy 93.40601119995117, Cost 74.722585439682 s\n",
      "Model saved in epoch 490\n",
      "Epoch 491, Train loss 1.2744429898016186e-05, Test loss 0.5161511570215225, Train accuracy 100.0, Test accuracy 93.40601119995117, Cost 74.69791102409363 s\n",
      "Epoch 492, Train loss 1.414838015061461e-05, Test loss 0.5161540091037751, Train accuracy 100.0, Test accuracy 93.40601119995117, Cost 74.63807845115662 s\n",
      "Epoch 493, Train loss 9.9702714049606e-06, Test loss 0.5161543846130371, Train accuracy 100.0, Test accuracy 93.40601119995117, Cost 74.71346855163574 s\n",
      "Epoch 494, Train loss 1.201358087636974e-05, Test loss 0.5161544680595398, Train accuracy 100.0, Test accuracy 93.40601119995117, Cost 74.75149464607239 s\n",
      "Epoch 495, Train loss 1.3948290787232749e-05, Test loss 0.516159126162529, Train accuracy 100.0, Test accuracy 93.40601119995117, Cost 74.84400939941406 s\n",
      "Model saved in epoch 495\n",
      "Epoch 496, Train loss 1.926529096970032e-05, Test loss 0.516168686747551, Train accuracy 100.0, Test accuracy 93.40601119995117, Cost 74.63593792915344 s\n",
      "Epoch 497, Train loss 9.415560651511757e-06, Test loss 0.5161688566207886, Train accuracy 100.0, Test accuracy 93.40601119995117, Cost 74.61005115509033 s\n",
      "Epoch 498, Train loss 1.0404891248313385e-05, Test loss 0.5161682307720185, Train accuracy 100.0, Test accuracy 93.40601119995117, Cost 74.78460049629211 s\n",
      "Epoch 499, Train loss 9.656723927853782e-06, Test loss 0.516167163848877, Train accuracy 100.0, Test accuracy 93.40601119995117, Cost 74.75024199485779 s\n",
      "Epoch 500, Train loss 1.4834678903734668e-05, Test loss 0.5161676734685898, Train accuracy 100.0, Test accuracy 93.40601119995117, Cost 74.82161664962769 s\n",
      "Model saved in epoch 500\n"
     ]
    }
   ],
   "source": [
    "num_epochs = 500 # param\n",
    "epoch_start = 0\n",
    "path = 'resnet_aug_3block_sgd_warmup_consine-batch1024-lr04.pt'\n",
    "\n",
    "train_loss_history = []\n",
    "test_loss_history = []\n",
    "train_accuracy_history = []\n",
    "test_accuracy_history = []\n",
    "\n",
    "Loss = torch.nn.CrossEntropyLoss()\n",
    "\n",
    "lr = 0.4\n",
    "lr_min=0.001\n",
    "momentum = 0.9\n",
    "nesterov = True\n",
    "optimizer = torch.optim.SGD(model1.parameters(),lr=lr,momentum=momentum,nesterov=nesterov)\n",
    "\n",
    "\n",
    "\n",
    "if os.path.exists(path):\n",
    "    checkpoint = torch.load(path)\n",
    "    print('Read model from checkpoint')\n",
    "    model1.cuda().load_state_dict(checkpoint['model_state_dict'])\n",
    "    optimizer.load_state_dict(checkpoint['optimizer_state_dict'])\n",
    "    epoch_start = checkpoint['epoch']\n",
    "    Loss = checkpoint['Loss']\n",
    "    train_loss_history = checkpoint['train_loss_history']\n",
    "    test_loss_history = checkpoint['test_loss_history']\n",
    "    train_accuracy_history = checkpoint['train_accuracy_history']\n",
    "    test_accuracy_history = checkpoint['test_accuracy_history']\n",
    "    print('Restart from epoch',epoch_start)\n",
    "    \n",
    "\n",
    "for epoch in range(epoch_start+1, num_epochs+1):\n",
    "    timestart = time.time()\n",
    "\n",
    "    train_loss = 0.0\n",
    "    test_loss = 0.0\n",
    "    train_accuracy = 0.0\n",
    "    test_accuracy = 0.0\n",
    "\n",
    "    for i, data in enumerate(trainDataLoader):\n",
    "        images, labels = data\n",
    "        images = images.cuda()\n",
    "        labels = labels.cuda()\n",
    "        optimizer.zero_grad()\n",
    "        predicted_output = model1.cuda()(images)\n",
    "        fit = Loss(predicted_output,labels)\n",
    "        fit.backward()\n",
    "        adjust_learning_rate(optimizer=optimizer,current_epoch=epoch,max_epoch=num_epochs,lr_min=lr_min,lr_max=lr,warmup=True)\n",
    "        optimizer.step()\n",
    "        train_loss += fit.item()\n",
    "        train_accuracy += (torch.eq(torch.max(predicted_output,1)[1],labels).sum()/len(labels)*100).data.cpu().numpy()\n",
    "\n",
    "    for i, data in enumerate(testDataLoader):\n",
    "        with torch.no_grad():\n",
    "            images, labels = data\n",
    "            images = images.cuda()\n",
    "            labels = labels.cuda()\n",
    "            predicted_output = model1.cuda()(images)\n",
    "            fit = Loss(predicted_output,labels)\n",
    "            test_loss += fit.item()\n",
    "            test_accuracy += (torch.eq(torch.max(predicted_output,1)[1],labels).sum()/len(labels)*100).data.cpu().numpy()\n",
    "\n",
    "\n",
    "    train_loss = train_loss/len(trainDataLoader)\n",
    "    test_loss = test_loss/len(testDataLoader)\n",
    "    train_accu = train_accuracy/len(trainDataLoader)\n",
    "    test_accu = test_accuracy/len(testDataLoader)\n",
    "    train_loss_history.append(train_loss)\n",
    "    test_loss_history.append(test_loss)\n",
    "    train_accuracy_history.append(train_accu)\n",
    "    test_accuracy_history.append(test_accu)\n",
    "    print('Epoch %s, Train loss %s, Test loss %s, Train accuracy %s, Test accuracy %s, Cost %s s'%(epoch,\n",
    "                                                                                                   train_loss,test_loss,\n",
    "                                                                                                   train_accu,test_accu,\n",
    "                                                                                                   time.time()-timestart))\n",
    "\n",
    "    if epoch % 5 == 0 and epoch != 0:\n",
    "        torch.save({'epoch':epoch,\n",
    "          'model_state_dict':model1.cuda().state_dict(),\n",
    "          'optimizer_state_dict':optimizer.state_dict(),\n",
    "          'Loss':Loss,\n",
    "          'train_loss_history':train_loss_history,\n",
    "          'test_loss_history':test_loss_history,\n",
    "          'train_accuracy_history':train_accuracy_history,\n",
    "          'test_accuracy_history':test_accuracy_history},path)\n",
    "        print('Model saved in epoch %s'%(epoch))"
   ]
  },
  {
   "cell_type": "code",
   "execution_count": 11,
   "metadata": {},
   "outputs": [
    {
     "data": {
      "text/plain": [
       "<matplotlib.legend.Legend at 0x1512e730afd0>"
      ]
     },
     "execution_count": 11,
     "metadata": {},
     "output_type": "execute_result"
    },
    {
     "data": {
      "image/png": "[encoded data removed]",
      "text/plain": [
       "<Figure size 720x360 with 2 Axes>"
      ]
     },
     "metadata": {
      "needs_background": "light"
     },
     "output_type": "display_data"
    }
   ],
   "source": [
    "plt.figure(figsize=(10,5))\n",
    "plt.subplot(1,2,1)\n",
    "plt.plot(range(num_epochs),train_loss_history,'-',linewidth=3,label='Train error')\n",
    "plt.plot(range(num_epochs),test_loss_history,'-',linewidth=3,label='Test error')\n",
    "plt.xlabel('epoch')\n",
    "plt.ylabel('loss')\n",
    "plt.grid(True)\n",
    "plt.legend()\n",
    "\n",
    "plt.subplot(1,2,2)\n",
    "plt.plot(range(num_epochs),train_accuracy_history,'-',linewidth=3,label='Train accuracy')\n",
    "plt.plot(range(num_epochs),test_accuracy_history,'-',linewidth=3,label='Test accuracy')\n",
    "plt.xlabel('epoch')\n",
    "plt.ylabel('accuracy')\n",
    "plt.grid(True)\n",
    "plt.legend()"
   ]
  },
  {
   "cell_type": "code",
   "execution_count": 12,
   "metadata": {},
   "outputs": [
    {
     "name": "stdout",
     "output_type": "stream",
     "text": [
      "Accuracy: 93.40601119995117\n"
     ]
    }
   ],
   "source": [
    "print('Accuracy:',sum(test_accuracy_history[-5:])/5)"
   ]
  },
  {
   "cell_type": "code",
   "execution_count": null,
   "metadata": {},
   "outputs": [],
   "source": []
  }
 ],
 "metadata": {
  "kernelspec": {
   "display_name": "venv_resnet",
   "language": "python",
   "name": "venv"
  },
  "language_info": {
   "codemirror_mode": {
    "name": "ipython",
    "version": 3
   },
   "file_extension": ".py",
   "mimetype": "text/x-python",
   "name": "python",
   "nbconvert_exporter": "python",
   "pygments_lexer": "ipython3",
   "version": "3.8.3"
  }
 },
 "nbformat": 4,
 "nbformat_minor": 4
}
